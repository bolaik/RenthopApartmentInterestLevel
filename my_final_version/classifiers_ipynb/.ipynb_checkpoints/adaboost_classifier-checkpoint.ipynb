{
 "cells": [
  {
   "cell_type": "markdown",
   "metadata": {},
   "source": [
    "### Adaboost classifier with decision tree as basic learner"
   ]
  },
  {
   "cell_type": "code",
   "execution_count": 1,
   "metadata": {
    "collapsed": true
   },
   "outputs": [],
   "source": [
    "import numpy as np\n",
    "import pandas as pd\n",
    "from scipy import sparse\n",
    "import matplotlib.pyplot as plt\n",
    "from collections import OrderedDict\n",
    "from sklearn import preprocessing\n",
    "from sklearn.feature_extraction.text import CountVectorizer\n",
    "from sklearn.ensemble import AdaBoostClassifier\n",
    "from sklearn.tree import DecisionTreeClassifier\n",
    "from sklearn.model_selection import StratifiedKFold\n",
    "import re\n",
    "from nltk.stem.snowball import SnowballStemmer\n",
    "import string\n",
    "import time\n",
    "from sklearn.metrics import log_loss, accuracy_score"
   ]
  },
  {
   "cell_type": "markdown",
   "metadata": {},
   "source": [
    "Custom function calculate term-document matrix with most frequent terms."
   ]
  },
  {
   "cell_type": "code",
   "execution_count": 2,
   "metadata": {
    "collapsed": true
   },
   "outputs": [],
   "source": [
    "def most_freq_vects(docs, max_feature=None, percent=None, token_pattern=u'(?u)\\b\\w\\w+\\b'):\n",
    "    vect = CountVectorizer(token_pattern=token_pattern)\n",
    "    feat_sparse = vect.fit_transform(docs.values.astype('U'))\n",
    "    freq_table = list(zip(vect.get_feature_names(), np.asarray(feat_sparse.sum(axis=0)).ravel()))\n",
    "    freq_table = pd.DataFrame(freq_table, columns=['feature', 'count']).sort_values('count', ascending=False)\n",
    "    if not max_feature:\n",
    "        if percent:\n",
    "            max_feature = int(percent * len(vect.get_feature_names()))\n",
    "        else:\n",
    "            max_feature = len(vect.get_feature_names())\n",
    "    feat_df = pd.DataFrame(feat_sparse.todense(), columns=vect.get_feature_names())\n",
    "    names = list(freq_table.feature[:max_feature])\n",
    "    return feat_df[names]"
   ]
  },
  {
   "cell_type": "markdown",
   "metadata": {},
   "source": [
    "Custom function loading all engineered feature files, return dataframe of train and test, together with list of column names and listing_id."
   ]
  },
  {
   "cell_type": "code",
   "execution_count": 3,
   "metadata": {
    "collapsed": true
   },
   "outputs": [],
   "source": [
    "def load_data():\n",
    "    print('Loading features files')\n",
    "    basic_feat = pd.read_json('../feat_input/basic_feat.json')\n",
    "    longtime_feat = pd.read_csv('../feat_input/longtime_feat.csv')\n",
    "    encoded_feat = pd.read_csv('../feat_input/feat_stats_encoding.csv')\n",
    "\n",
    "    # apply ordinal encoding to categorical feature\n",
    "    print('Ordinal encoding')\n",
    "    basic_feat.display_address = basic_feat.display_address.replace(r'\\r$', '', regex=True)\n",
    "    basic_feat.street_address = basic_feat.street_address.replace(r'\\r$', '', regex=True)\n",
    "    categorical = [\"display_address\", \"manager_id\", \"building_id\", \"street_address\"]\n",
    "    for f in categorical:\n",
    "        if basic_feat[f].dtype == 'object':\n",
    "            lbl = preprocessing.LabelEncoder()\n",
    "            lbl.fit(list(basic_feat[f].values))\n",
    "            basic_feat[f] = lbl.transform(list(basic_feat[f].values))\n",
    "\n",
    "    all_feat = basic_feat.merge(longtime_feat, on='listing_id')\n",
    "    all_feat = all_feat.merge(encoded_feat, on='listing_id')\n",
    "\n",
    "    print(\"Features document-term matrix\")\n",
    "    stemmer = SnowballStemmer('english')\n",
    "    punct = string.punctuation\n",
    "    punct = re.sub(\"'|-\", \"\", punct)\n",
    "    pattern = r\"[0-9]|[{}]\".format(punct)\n",
    "    all_feat['features'] = all_feat['features'].apply(lambda x: [re.sub(pattern, \"\", y) for y in x])\n",
    "    all_feat['features'] = all_feat['features'].apply(lambda x: [stemmer.stem(y) for y in x])\n",
    "    all_feat['features'] = all_feat['features'].apply(lambda x: ['_'.join(['feature'] + y.split()) for y in x])\n",
    "    all_feat['features'] = all_feat['features'].apply(lambda x: ' '.join(x))\n",
    "    vect_df = most_freq_vects(all_feat['features'], max_feature=100, token_pattern=r\"[^ ]+\")\n",
    "    \n",
    "    all_feat = pd.concat([all_feat, vect_df], axis=1)\n",
    "    train = all_feat[all_feat.interest_level != -1].copy()\n",
    "    test = all_feat[all_feat.interest_level == -1].copy()\n",
    "    y_train=train[\"interest_level\"]\n",
    "\n",
    "    x_train = train.drop([\"interest_level\",\"features\"],axis=1)\n",
    "    x_test = test.drop([\"interest_level\",\"features\"],axis=1)\n",
    "\n",
    "    return x_train, y_train, x_test, x_test.columns.values, x_test.listing_id"
   ]
  },
  {
   "cell_type": "markdown",
   "metadata": {},
   "source": [
    "Train model with 5-fold cv. Output train and test multi-logloss as a measure of performance."
   ]
  },
  {
   "cell_type": "code",
   "execution_count": 4,
   "metadata": {
    "collapsed": true
   },
   "outputs": [],
   "source": [
    "def run_model(dtrain, dtest=None):\n",
    "    clf = AdaBoostClassifier(n_estimators=50, learning_rate=0.01, random_state=36883)\n",
    "    if dtest:\n",
    "        clf.fit(dtrain[0], dtrain[1])\n",
    "        y_train_pred, y_test_pred = clf.predict_proba(dtrain[0]), clf.predict_proba(dtest[0])\n",
    "        y_train_loss, y_test_loss = log_loss(dtrain[1], y_train_pred), log_loss(dtest[1], y_test_pred)\n",
    "        return clf, y_train_loss, y_test_loss\n",
    "    else:\n",
    "        clf.fit(dtrain[0], dtrain[1])\n",
    "        y_train_pred = clf.predict_proba(dtrain[0])\n",
    "        y_train_loss = log_loss(dtrain[1], y_train_pred)\n",
    "        return clf, y_train_loss"
   ]
  },
  {
   "cell_type": "code",
   "execution_count": 5,
   "metadata": {
    "collapsed": true
   },
   "outputs": [],
   "source": [
    "def train_cv():\n",
    "    X_train, y_train_cls, X_test, _, _ = load_data()\n",
    "\n",
    "    cv_scores, n_folds = [], 5\n",
    "    skf = StratifiedKFold(n_splits=n_folds, shuffle=True, random_state=816)\n",
    "    for i, (train_ind, val_ind) in enumerate(skf.split(X_train, y_train_cls)):\n",
    "        print(\"Running Fold\", i + 1, \"/\", n_folds, end='\\t')\n",
    "        train_x, val_x = X_train.iloc[train_ind, :], X_train.iloc[val_ind, :]\n",
    "        train_y, val_y = y_train_cls.iloc[train_ind], y_train_cls.iloc[val_ind]\n",
    "        clf, train_loss, val_loss = run_model((train_x, train_y), (val_x, val_y))\n",
    "        cv_scores.append([train_loss, val_loss])\n",
    "        print(\"train_loss: {0:.6f}, val_loss: {1:.6f}\".format(train_loss, val_loss))\n",
    "    mean_train_loss = np.mean([cv_scores[i][0] for i in range(len(cv_scores))])\n",
    "    mean_val_loss = np.mean([cv_scores[i][1] for i in range(len(cv_scores))])\n",
    "    print(\"train_loss mean: {0:.6f}, val_loss mean: {1:.6f}\".format(mean_train_loss, mean_val_loss))"
   ]
  },
  {
   "cell_type": "code",
   "execution_count": 11,
   "metadata": {
    "collapsed": false
   },
   "outputs": [
    {
     "name": "stdout",
     "output_type": "stream",
     "text": [
      "Loading features files\n",
      "Ordinal encoding\n",
      "Features document-term matrix\n",
      "Running Fold 1 / 5\ttrain_loss: 0.717347, val_loss: 0.718925\n",
      "Running Fold 2 / 5\ttrain_loss: 0.719201, val_loss: 0.713514\n",
      "Running Fold 3 / 5\ttrain_loss: 0.717716, val_loss: 0.717428\n",
      "Running Fold 4 / 5\ttrain_loss: 0.716621, val_loss: 0.720254\n",
      "Running Fold 5 / 5\ttrain_loss: 0.715715, val_loss: 0.720863\n",
      "train_loss mean: 0.717320, val_loss mean: 0.718197\n"
     ]
    }
   ],
   "source": [
    "train_cv()"
   ]
  },
  {
   "cell_type": "markdown",
   "metadata": {},
   "source": [
    "From the cv result above, the prediction error of adaboost is pretty high. One may need further exploration to see what is happening with adaboost. Let's plot the stagged prediction results."
   ]
  },
  {
   "cell_type": "code",
   "execution_count": 10,
   "metadata": {
    "collapsed": true
   },
   "outputs": [],
   "source": [
    "def staged_prediction():\n",
    "    X_train, y_train_cls, X_test, _, _ = load_data()\n",
    "\n",
    "    n_folds = 5\n",
    "    n_estimators = 500\n",
    "    train_error_list, val_error_list = [], []\n",
    "    train_loss_list, val_loss_list = [], []\n",
    "    skf = StratifiedKFold(n_splits=n_folds, shuffle=True, random_state=816)\n",
    "    for i, (train_ind, val_ind) in enumerate(skf.split(X_train, y_train_cls)):\n",
    "        print('Running Fold', (i + 1), '/', n_folds, end='\\t')\n",
    "        start = time.time()\n",
    "        train_x, val_x = X_train.iloc[train_ind, :], X_train.iloc[val_ind, :]\n",
    "        train_y, val_y = y_train_cls.iloc[train_ind], y_train_cls.iloc[val_ind]\n",
    "\n",
    "        clf_base = DecisionTreeClassifier(max_depth=1, criterion='entropy', max_features='sqrt')\n",
    "        ada_clf = AdaBoostClassifier(base_estimator=clf_base, n_estimators=n_estimators, learning_rate=0.01)\n",
    "        ada_clf.fit(train_x, train_y)\n",
    "\n",
    "        # calculate 1 - train accuracy\n",
    "        train_error = []\n",
    "        for y_train_pred in ada_clf.staged_predict(train_x):\n",
    "            train_error.append(1.0 - accuracy_score(train_y, y_train_pred))\n",
    "\n",
    "        val_error = []\n",
    "        for y_val_pred in ada_clf.staged_predict(val_x):\n",
    "            val_error.append(1.0 - accuracy_score(val_y, y_val_pred))\n",
    "\n",
    "        # calculate logloss\n",
    "        train_loss = []\n",
    "        for y_train_pred in ada_clf.staged_predict_proba(train_x):\n",
    "            train_loss.append(log_loss(train_y, y_train_pred))\n",
    "\n",
    "        val_loss = []\n",
    "        for y_val_pred in ada_clf.staged_predict_proba(val_x):\n",
    "            val_loss.append(log_loss(val_y, y_val_pred))\n",
    "\n",
    "        train_error_list.append(train_error)\n",
    "        val_error_list.append(val_error)\n",
    "        train_loss_list.append(train_loss)\n",
    "        val_loss_list.append(val_loss)\n",
    "        \n",
    "        end = time.time()\n",
    "        m, s = divmod(end-start, 60)\n",
    "        h, m = divmod(m, 60)\n",
    "        print(\"time elapsed: %d:%02d:%02d\" % (h, m, s))\n",
    "\n",
    "    train_error_mean = [np.mean([train_error_list[i][j] for i in range(len(train_error_list))]) for j in range(len(train_error_list[0]))]\n",
    "    val_error_mean = [np.mean([val_error_list[i][j] for i in range(len(val_error_list))]) for j in range(len(val_error_list[0]))]\n",
    "    train_loss_mean = [np.mean([train_loss_list[i][j] for i in range(len(train_loss_list))]) for j in range(len(train_loss_list[0]))]\n",
    "    val_loss_mean = [np.mean([val_loss_list[i][j] for i in range(len(val_loss_list))]) for j in range(len(val_loss_list[0]))]\n",
    "\n",
    "    fig, axes = plt.subplots(nrows=1, ncols=2, figsize=(9, 4))\n",
    "    axes[0].plot(range(1, n_estimators+1), val_loss_mean, color='blue', label='validation logloss')\n",
    "    axes[0].plot(range(1, n_estimators+1), train_loss_mean, color='red', label='train logloss')\n",
    "    axes[0].legend()\n",
    "    axes[0].set_xlabel('number of trees')\n",
    "    axes[0].set_ylabel('cv logloss')\n",
    "\n",
    "    axes[1].plot(range(1, n_estimators+1), val_error_mean, color='blue', label='validation error rate')\n",
    "    axes[1].plot(range(1, n_estimators+1), train_error_mean, color='red', label='train error rate')\n",
    "    axes[1].legend()\n",
    "    axes[1].set_xlabel('number of trees')\n",
    "    axes[1].set_ylabel('cv error rate')\n",
    "    \n",
    "    plt.tight_layout()\n",
    "    plt.show()"
   ]
  },
  {
   "cell_type": "code",
   "execution_count": 11,
   "metadata": {
    "collapsed": false
   },
   "outputs": [
    {
     "name": "stdout",
     "output_type": "stream",
     "text": [
      "Loading features files\n",
      "Ordinal encoding\n",
      "Features document-term matrix\n",
      "Running Fold 1 / 5\ttime elapsed: 0:00:35\n",
      "Running Fold 2 / 5\ttime elapsed: 0:00:34\n",
      "Running Fold 3 / 5\ttime elapsed: 0:00:35\n",
      "Running Fold 4 / 5\ttime elapsed: 0:00:34\n",
      "Running Fold 5 / 5\ttime elapsed: 0:00:34\n"
     ]
    },
    {
     "data": {
      "image/png": "[encoded data removed]",
      "text/plain": [
       "<matplotlib.figure.Figure at 0x7fd43f829f60>"
      ]
     },
     "metadata": {},
     "output_type": "display_data"
    }
   ],
   "source": [
    "staged_prediction()"
   ]
  },
  {
   "cell_type": "markdown",
   "metadata": {},
   "source": [
    "In adaboost classification, although both the training and testing error rate keeps decreasing, as indicated in the right-hand figure, the logloss starts to increase after barely 50 iterations and goes asymptotically to 1. This may indicates either the adaboost classifier is implemented in a wrong way, or it does not fit this type of classification problem."
   ]
  }
 ],
 "metadata": {
  "kernelspec": {
   "display_name": "Python 3",
   "language": "python",
   "name": "python3"
  },
  "language_info": {
   "codemirror_mode": {
    "name": "ipython",
    "version": 3
   },
   "file_extension": ".py",
   "mimetype": "text/x-python",
   "name": "python",
   "nbconvert_exporter": "python",
   "pygments_lexer": "ipython3",
   "version": "3.6.0"
  }
 },
 "nbformat": 4,
 "nbformat_minor": 2
}
