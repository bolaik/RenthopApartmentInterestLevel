{
 "cells": [
  {
   "cell_type": "code",
   "execution_count": 1,
   "metadata": {
    "collapsed": true
   },
   "outputs": [],
   "source": [
    "import numpy as np\n",
    "import pandas as pd\n",
    "import re"
   ]
  },
  {
   "cell_type": "code",
   "execution_count": 2,
   "metadata": {
    "collapsed": true
   },
   "outputs": [],
   "source": [
    "longtime_feat = pd.read_csv('feat_input/longtime_feat.csv')\n",
    "encoded_feat = pd.read_csv('feat_input/feat_stats_encoding.csv')"
   ]
  },
  {
   "cell_type": "markdown",
   "metadata": {},
   "source": [
    "### Create dataframe from csv file"
   ]
  },
  {
   "cell_type": "code",
   "execution_count": 3,
   "metadata": {
    "collapsed": true
   },
   "outputs": [],
   "source": [
    "feat_basic_csv = pd.read_csv('feat_input/basic_feat.csv')\n",
    "feat_basic_csv.features = feat_basic_csv.features.apply(lambda x: re.findall(r\"[\\w'|\\ ]+\", x))"
   ]
  },
  {
   "cell_type": "code",
   "execution_count": 4,
   "metadata": {
    "collapsed": false
   },
   "outputs": [],
   "source": [
    "feat_csv = feat_basic_csv.merge(longtime_feat, on='listing_id')\n",
    "feat_csv = feat_csv.merge(encoded_feat, on='listing_id')\n",
    "#feat_csv = feat_csv.fillna(-1)"
   ]
  },
  {
   "cell_type": "markdown",
   "metadata": {},
   "source": [
    "### Create dataframe from json file"
   ]
  },
  {
   "cell_type": "code",
   "execution_count": 5,
   "metadata": {
    "collapsed": true
   },
   "outputs": [],
   "source": [
    "feat_basic_json = pd.read_json('feat_input/basic_feat.json')"
   ]
  },
  {
   "cell_type": "code",
   "execution_count": 6,
   "metadata": {
    "collapsed": false
   },
   "outputs": [],
   "source": [
    "feat_basic_json.display_address = feat_basic_json.display_address.replace(r'\\r$', '', regex=True)\n",
    "feat_basic_json.street_address = feat_basic_json.street_address.replace(r'\\r$', '', regex=True)"
   ]
  },
  {
   "cell_type": "code",
   "execution_count": 7,
   "metadata": {
    "collapsed": false
   },
   "outputs": [],
   "source": [
    "feat_json = feat_basic_json.merge(longtime_feat, on='listing_id')\n",
    "feat_json = feat_json.merge(encoded_feat, on='listing_id')\n",
    "#feat_json = feat_json.replace('', np.nan)\n",
    "#feat_json = feat_json.fillna(-1)"
   ]
  },
  {
   "cell_type": "markdown",
   "metadata": {},
   "source": [
    "### Reset index"
   ]
  },
  {
   "cell_type": "code",
   "execution_count": 8,
   "metadata": {
    "collapsed": false
   },
   "outputs": [],
   "source": [
    "feat_csv = feat_csv.sort_values('listing_id', ascending=True).reset_index()\n",
    "feat_json = feat_json.sort_values('listing_id', ascending=True).reset_index()"
   ]
  },
  {
   "cell_type": "markdown",
   "metadata": {},
   "source": [
    "### Compare two dataframes"
   ]
  },
  {
   "cell_type": "code",
   "execution_count": 9,
   "metadata": {
    "collapsed": false,
    "scrolled": false
   },
   "outputs": [
    {
     "name": "stdout",
     "output_type": "stream",
     "text": [
      "bathrooms 0\n",
      "bedrooms 0\n",
      "building_id 0\n",
      "display_address 350\n",
      "features 107521\n",
      "interest_level 0\n",
      "latitude 0\n",
      "listing_id 0\n",
      "longitude 0\n",
      "manager_id 0\n",
      "price 0\n",
      "street_address 23\n",
      "feature_num 124011\n",
      "photo_num 124011\n",
      "desc_wordcount 0\n",
      "distance_city 0\n",
      "day_of_year 0\n",
      "created_month 0\n",
      "created_day 0\n",
      "created_hour 0\n",
      "day_of_week 0\n",
      "price_bed_rt 0\n",
      "price_bath_rt 0\n",
      "price_room_rt 0\n",
      "bed_bath_rt 0\n",
      "bed_bath_dif 0\n",
      "bed_bath_sum 0\n",
      "bed_room_rt 0\n",
      "time_stamp 0\n",
      "img_sizes_mean 0\n",
      "jwd_type_low_than_num 0\n",
      "jwd_type_all 0\n",
      "jwd_type_rt 0\n",
      "building_zero_num 0\n",
      "bathrooms_size_manager_id 0\n",
      "bathrooms_mean_manager_id 0\n",
      "bathrooms_std_manager_id 0\n",
      "bathrooms_median_manager_id 0\n",
      "bathrooms_max_manager_id 0\n",
      "bathrooms_min_manager_id 0\n",
      "bedrooms_size_manager_id 0\n",
      "bedrooms_mean_manager_id 0\n",
      "bedrooms_std_manager_id 0\n",
      "bedrooms_median_manager_id 0\n",
      "bedrooms_max_manager_id 0\n",
      "bedrooms_min_manager_id 0\n",
      "latitude_size_manager_id 0\n",
      "latitude_mean_manager_id 0\n",
      "latitude_std_manager_id 0\n",
      "latitude_median_manager_id 0\n",
      "latitude_max_manager_id 0\n",
      "latitude_min_manager_id 0\n",
      "longitude_size_manager_id 0\n",
      "longitude_mean_manager_id 0\n",
      "longitude_std_manager_id 0\n",
      "longitude_median_manager_id 0\n",
      "longitude_max_manager_id 0\n",
      "longitude_min_manager_id 0\n",
      "price_size_manager_id 0\n",
      "price_mean_manager_id 0\n",
      "price_std_manager_id 0\n",
      "price_median_manager_id 0\n",
      "price_max_manager_id 0\n",
      "price_min_manager_id 0\n",
      "distance_city_size_manager_id 0\n",
      "distance_city_mean_manager_id 0\n",
      "distance_city_std_manager_id 0\n",
      "distance_city_median_manager_id 0\n",
      "distance_city_max_manager_id 0\n",
      "distance_city_min_manager_id 0\n",
      "price_size_bedrooms 0\n",
      "price_mean_bedrooms 0\n",
      "price_std_bedrooms 0\n",
      "price_median_bedrooms 0\n",
      "price_max_bedrooms 0\n",
      "price_min_bedrooms 0\n",
      "bathrooms_size_bedrooms 0\n",
      "bathrooms_mean_bedrooms 0\n",
      "bathrooms_std_bedrooms 0\n",
      "bathrooms_median_bedrooms 0\n",
      "bathrooms_max_bedrooms 0\n",
      "bathrooms_min_bedrooms 0\n",
      "price_size_bathrooms 0\n",
      "price_mean_bathrooms 0\n",
      "price_std_bathrooms 0\n",
      "price_median_bathrooms 0\n",
      "price_max_bathrooms 0\n",
      "price_min_bathrooms 0\n",
      "manager_id_low 0\n",
      "manager_id_medium 0\n",
      "manager_id_high 0\n",
      "price_manager_id_mean_pred_0 0\n",
      "price_manager_id_mean_pred_1 0\n",
      "price_manager_id_mean_pred_2 0\n"
     ]
    }
   ],
   "source": [
    "for a in feat_csv.columns.values:\n",
    "    if a not in ['index']:\n",
    "        if type(feat_json[a][0]) == np.float64:\n",
    "            print(a, sum(abs(1 - feat_csv[a] / feat_json[a]) > 1e-4))\n",
    "        else:\n",
    "            print(a, sum(feat_json[a] != feat_csv[a]))"
   ]
  },
  {
   "cell_type": "markdown",
   "metadata": {
    "collapsed": true
   },
   "source": [
    "### To see where the difference comes from"
   ]
  },
  {
   "cell_type": "code",
   "execution_count": 10,
   "metadata": {
    "collapsed": false,
    "scrolled": false
   },
   "outputs": [
    {
     "data": {
      "text/plain": [
       "1.0"
      ]
     },
     "execution_count": 10,
     "metadata": {},
     "output_type": "execute_result"
    }
   ],
   "source": [
    "diff_street_address = feat_csv[['street_address']].loc[feat_csv.street_address != feat_json.street_address]\n",
    "sum(diff_street_address.street_address.isnull()) / len(diff_street_address)"
   ]
  },
  {
   "cell_type": "code",
   "execution_count": 11,
   "metadata": {
    "collapsed": false
   },
   "outputs": [
    {
     "data": {
      "text/plain": [
       "1.0"
      ]
     },
     "execution_count": 11,
     "metadata": {},
     "output_type": "execute_result"
    }
   ],
   "source": [
    "diff_street_address_json = feat_json[['street_address']].loc[feat_csv.street_address != feat_json.street_address]\n",
    "sum(diff_street_address_json.street_address == '') / len(diff_street_address_json)"
   ]
  },
  {
   "cell_type": "code",
   "execution_count": 12,
   "metadata": {
    "collapsed": false
   },
   "outputs": [
    {
     "data": {
      "text/plain": [
       "1.0"
      ]
     },
     "execution_count": 12,
     "metadata": {},
     "output_type": "execute_result"
    }
   ],
   "source": [
    "diff_display_address = feat_csv[['display_address']].loc[feat_csv.display_address != feat_json.display_address]\n",
    "sum(diff_display_address.display_address.isnull()) / len(diff_display_address)"
   ]
  },
  {
   "cell_type": "markdown",
   "metadata": {},
   "source": [
    "### Check features column"
   ]
  },
  {
   "cell_type": "code",
   "execution_count": 13,
   "metadata": {
    "collapsed": false
   },
   "outputs": [
    {
     "data": {
      "text/plain": [
       "0           [Doorman,  Elevator,  Laundry In Building]\n",
       "1    [Common Outdoor Space,  Cats Allowed,  Private...\n",
       "2    [Cats Allowed,  Dogs Allowed,  No Fee,  Doorma...\n",
       "3    [Common Outdoor Space,  Cats Allowed,  Private...\n",
       "4    [Cats Allowed,  Dogs Allowed,  No Fee,  Laundr...\n",
       "Name: features, dtype: object"
      ]
     },
     "execution_count": 13,
     "metadata": {},
     "output_type": "execute_result"
    }
   ],
   "source": [
    "feat_csv.features.head()"
   ]
  },
  {
   "cell_type": "code",
   "execution_count": 14,
   "metadata": {
    "collapsed": false
   },
   "outputs": [
    {
     "data": {
      "text/plain": [
       "0             [Doorman, Elevator, Laundry In Building]\n",
       "1    [Common Outdoor Space, Cats Allowed, Private O...\n",
       "2    [Cats Allowed, Dogs Allowed, No Fee, Doorman, ...\n",
       "3    [Common Outdoor Space, Cats Allowed, Private O...\n",
       "4    [Cats Allowed, Dogs Allowed, No Fee, Laundry I...\n",
       "Name: features, dtype: object"
      ]
     },
     "execution_count": 14,
     "metadata": {},
     "output_type": "execute_result"
    }
   ],
   "source": [
    "feat_json.features.head()"
   ]
  },
  {
   "cell_type": "markdown",
   "metadata": {},
   "source": [
    "### Continue to work on features column"
   ]
  },
  {
   "cell_type": "code",
   "execution_count": 15,
   "metadata": {
    "collapsed": true
   },
   "outputs": [],
   "source": [
    "from nltk.stem.snowball import SnowballStemmer\n",
    "stemmer = SnowballStemmer('english')"
   ]
  },
  {
   "cell_type": "code",
   "execution_count": 16,
   "metadata": {
    "collapsed": true
   },
   "outputs": [],
   "source": [
    "feat_csv.features = feat_csv.features.apply(lambda x: [stemmer.stem(y) for y in x])\n",
    "feat_csv.features = feat_csv.features.apply(lambda x: ['_'.join(['feature'] + y.split()) for y in x])\n",
    "feat_csv.features = feat_csv.features.apply(lambda x: ' '.join(x))"
   ]
  },
  {
   "cell_type": "code",
   "execution_count": 17,
   "metadata": {
    "collapsed": true
   },
   "outputs": [],
   "source": [
    "feat_json.features = feat_json.features.apply(lambda x: [stemmer.stem(y) for y in x])\n",
    "feat_json.features = feat_json.features.apply(lambda x: ['_'.join(['feature'] + y.split()) for y in x])\n",
    "feat_json.features = feat_json.features.apply(lambda x: ' '.join(x))"
   ]
  },
  {
   "cell_type": "code",
   "execution_count": 18,
   "metadata": {
    "collapsed": false
   },
   "outputs": [
    {
     "name": "stdout",
     "output_type": "stream",
     "text": [
      "display_address 350\n",
      "features 32377\n",
      "street_address 23\n"
     ]
    }
   ],
   "source": [
    "for a in feat_csv.columns.values:\n",
    "    if a in ['display_address', 'street_address', 'features']:\n",
    "        if type(feat_json[a][0]) == np.float64:\n",
    "            print(a, sum(abs(1 - feat_csv[a] / feat_json[a]) > 1e-4))\n",
    "        else:\n",
    "            print(a, sum(feat_json[a] != feat_csv[a]))"
   ]
  },
  {
   "cell_type": "code",
   "execution_count": 19,
   "metadata": {
    "collapsed": true
   },
   "outputs": [],
   "source": [
    "diff_features_csv = feat_csv.features.loc[feat_csv.features != feat_json.features]\n",
    "diff_features_json = feat_json.features.loc[feat_csv.features != feat_json.features]"
   ]
  },
  {
   "cell_type": "code",
   "execution_count": 20,
   "metadata": {
    "collapsed": false
   },
   "outputs": [],
   "source": [
    "pd.set_option('display.max_colwidth', -1)"
   ]
  },
  {
   "cell_type": "code",
   "execution_count": 21,
   "metadata": {
    "collapsed": false
   },
   "outputs": [],
   "source": [
    "diff_features = pd.concat([diff_features_csv, diff_features_json], axis=1)\n",
    "diff_features.columns = ['features_csv', 'features_json']"
   ]
  },
  {
   "cell_type": "code",
   "execution_count": 22,
   "metadata": {
    "collapsed": false,
    "scrolled": true
   },
   "outputs": [
    {
     "data": {
      "text/html": [
       "<div>\n",
       "<style>\n",
       "    .dataframe thead tr:only-child th {\n",
       "        text-align: right;\n",
       "    }\n",
       "\n",
       "    .dataframe thead th {\n",
       "        text-align: left;\n",
       "    }\n",
       "\n",
       "    .dataframe tbody tr th {\n",
       "        vertical-align: top;\n",
       "    }\n",
       "</style>\n",
       "<table border=\"1\" class=\"dataframe\">\n",
       "  <thead>\n",
       "    <tr style=\"text-align: right;\">\n",
       "      <th></th>\n",
       "      <th>features_csv</th>\n",
       "      <th>features_json</th>\n",
       "    </tr>\n",
       "  </thead>\n",
       "  <tbody>\n",
       "    <tr>\n",
       "      <th>14</th>\n",
       "      <td>feature_pre feature_war feature_dogs_allow feature_cats_allow</td>\n",
       "      <td>feature_pre-war feature_dogs_allow feature_cats_allow</td>\n",
       "    </tr>\n",
       "    <tr>\n",
       "      <th>15</th>\n",
       "      <td>feature_pre feature_war</td>\n",
       "      <td>feature_pre-war</td>\n",
       "    </tr>\n",
       "    <tr>\n",
       "      <th>16</th>\n",
       "      <td>feature_pre feature_war feature_dogs_allow feature_cats_allow</td>\n",
       "      <td>feature_pre-war feature_dogs_allow feature_cats_allow</td>\n",
       "    </tr>\n",
       "    <tr>\n",
       "      <th>17</th>\n",
       "      <td>feature_doorman feature_fitness_cent feature_pre feature_war</td>\n",
       "      <td>feature_doorman feature_fitness_cent feature_pre-war</td>\n",
       "    </tr>\n",
       "    <tr>\n",
       "      <th>19</th>\n",
       "      <td>feature_pre feature_war feature_dogs_allow feature_cats_allow</td>\n",
       "      <td>feature_pre-war feature_dogs_allow feature_cats_allow</td>\n",
       "    </tr>\n",
       "  </tbody>\n",
       "</table>\n",
       "</div>"
      ],
      "text/plain": [
       "                                                     features_csv  \\\n",
       "14  feature_pre feature_war feature_dogs_allow feature_cats_allow   \n",
       "15  feature_pre feature_war                                         \n",
       "16  feature_pre feature_war feature_dogs_allow feature_cats_allow   \n",
       "17  feature_doorman feature_fitness_cent feature_pre feature_war    \n",
       "19  feature_pre feature_war feature_dogs_allow feature_cats_allow   \n",
       "\n",
       "                                            features_json  \n",
       "14  feature_pre-war feature_dogs_allow feature_cats_allow  \n",
       "15  feature_pre-war                                        \n",
       "16  feature_pre-war feature_dogs_allow feature_cats_allow  \n",
       "17  feature_doorman feature_fitness_cent feature_pre-war   \n",
       "19  feature_pre-war feature_dogs_allow feature_cats_allow  "
      ]
     },
     "execution_count": 22,
     "metadata": {},
     "output_type": "execute_result"
    }
   ],
   "source": [
    "diff_features.head()"
   ]
  },
  {
   "cell_type": "markdown",
   "metadata": {},
   "source": [
    "### Create Term-Document matrix using sklearn CountVectorizer"
   ]
  },
  {
   "cell_type": "code",
   "execution_count": 23,
   "metadata": {
    "collapsed": true
   },
   "outputs": [],
   "source": [
    "from sklearn.feature_extraction.text import CountVectorizer\n",
    "vector_csv = CountVectorizer(max_features = 100)"
   ]
  },
  {
   "cell_type": "code",
   "execution_count": 24,
   "metadata": {
    "collapsed": false
   },
   "outputs": [
    {
     "data": {
      "text/plain": [
       "<10x7 sparse matrix of type '<class 'numpy.int64'>'\n",
       "\twith 39 stored elements in Compressed Sparse Row format>"
      ]
     },
     "execution_count": 24,
     "metadata": {},
     "output_type": "execute_result"
    }
   ],
   "source": [
    "vector_csv.fit_transform(diff_features_csv.iloc[:10])"
   ]
  },
  {
   "cell_type": "code",
   "execution_count": 25,
   "metadata": {
    "collapsed": false
   },
   "outputs": [
    {
     "data": {
      "text/plain": [
       "['feature_cats_allow',\n",
       " 'feature_dogs_allow',\n",
       " 'feature_doorman',\n",
       " 'feature_fitness_cent',\n",
       " 'feature_no_fe',\n",
       " 'feature_pre',\n",
       " 'feature_war']"
      ]
     },
     "execution_count": 25,
     "metadata": {},
     "output_type": "execute_result"
    }
   ],
   "source": [
    "vector_csv.get_feature_names()"
   ]
  },
  {
   "cell_type": "code",
   "execution_count": 26,
   "metadata": {
    "collapsed": false
   },
   "outputs": [
    {
     "data": {
      "text/plain": [
       "['feature_cats_allow',\n",
       " 'feature_dogs_allow',\n",
       " 'feature_doorman',\n",
       " 'feature_fitness_cent',\n",
       " 'feature_no_fe',\n",
       " 'feature_pre-war']"
      ]
     },
     "execution_count": 26,
     "metadata": {},
     "output_type": "execute_result"
    }
   ],
   "source": [
    "vector_json = CountVectorizer(max_features = 100, token_pattern=r'[\\w-]+')\n",
    "vector_json.fit_transform(diff_features_json.iloc[:10])\n",
    "vector_json.get_feature_names()"
   ]
  },
  {
   "cell_type": "code",
   "execution_count": 27,
   "metadata": {
    "collapsed": false
   },
   "outputs": [
    {
     "data": {
      "text/html": [
       "<div>\n",
       "<style>\n",
       "    .dataframe thead tr:only-child th {\n",
       "        text-align: right;\n",
       "    }\n",
       "\n",
       "    .dataframe thead th {\n",
       "        text-align: left;\n",
       "    }\n",
       "\n",
       "    .dataframe tbody tr th {\n",
       "        vertical-align: top;\n",
       "    }\n",
       "</style>\n",
       "<table border=\"1\" class=\"dataframe\">\n",
       "  <thead>\n",
       "    <tr style=\"text-align: right;\">\n",
       "      <th></th>\n",
       "      <th>features_csv</th>\n",
       "      <th>features_json</th>\n",
       "    </tr>\n",
       "  </thead>\n",
       "  <tbody>\n",
       "    <tr>\n",
       "      <th>14</th>\n",
       "      <td>feature_pre feature_war feature_dogs_allow feature_cats_allow</td>\n",
       "      <td>feature_pre-war feature_dogs_allow feature_cats_allow</td>\n",
       "    </tr>\n",
       "    <tr>\n",
       "      <th>15</th>\n",
       "      <td>feature_pre feature_war</td>\n",
       "      <td>feature_pre-war</td>\n",
       "    </tr>\n",
       "    <tr>\n",
       "      <th>16</th>\n",
       "      <td>feature_pre feature_war feature_dogs_allow feature_cats_allow</td>\n",
       "      <td>feature_pre-war feature_dogs_allow feature_cats_allow</td>\n",
       "    </tr>\n",
       "    <tr>\n",
       "      <th>17</th>\n",
       "      <td>feature_doorman feature_fitness_cent feature_pre feature_war</td>\n",
       "      <td>feature_doorman feature_fitness_cent feature_pre-war</td>\n",
       "    </tr>\n",
       "    <tr>\n",
       "      <th>19</th>\n",
       "      <td>feature_pre feature_war feature_dogs_allow feature_cats_allow</td>\n",
       "      <td>feature_pre-war feature_dogs_allow feature_cats_allow</td>\n",
       "    </tr>\n",
       "    <tr>\n",
       "      <th>20</th>\n",
       "      <td>feature_fitness_cent feature_pre feature_war feature_no_fe feature_dogs_allow feature_cats_allow</td>\n",
       "      <td>feature_fitness_cent feature_pre-war feature_no_fe feature_dogs_allow feature_cats_allow</td>\n",
       "    </tr>\n",
       "    <tr>\n",
       "      <th>21</th>\n",
       "      <td>feature_pre feature_war feature_dogs_allow feature_cats_allow</td>\n",
       "      <td>feature_pre-war feature_dogs_allow feature_cats_allow</td>\n",
       "    </tr>\n",
       "    <tr>\n",
       "      <th>22</th>\n",
       "      <td>feature_pre feature_war</td>\n",
       "      <td>feature_pre-war</td>\n",
       "    </tr>\n",
       "    <tr>\n",
       "      <th>25</th>\n",
       "      <td>feature_pre feature_war</td>\n",
       "      <td>feature_pre-war</td>\n",
       "    </tr>\n",
       "    <tr>\n",
       "      <th>28</th>\n",
       "      <td>feature_doorman feature_fitness_cent feature_pre feature_war feature_no_fe feature_dogs_allow feature_cats_allow</td>\n",
       "      <td>feature_doorman feature_fitness_cent feature_pre-war feature_no_fe feature_dogs_allow feature_cats_allow</td>\n",
       "    </tr>\n",
       "  </tbody>\n",
       "</table>\n",
       "</div>"
      ],
      "text/plain": [
       "                                                                                                        features_csv  \\\n",
       "14  feature_pre feature_war feature_dogs_allow feature_cats_allow                                                      \n",
       "15  feature_pre feature_war                                                                                            \n",
       "16  feature_pre feature_war feature_dogs_allow feature_cats_allow                                                      \n",
       "17  feature_doorman feature_fitness_cent feature_pre feature_war                                                       \n",
       "19  feature_pre feature_war feature_dogs_allow feature_cats_allow                                                      \n",
       "20  feature_fitness_cent feature_pre feature_war feature_no_fe feature_dogs_allow feature_cats_allow                   \n",
       "21  feature_pre feature_war feature_dogs_allow feature_cats_allow                                                      \n",
       "22  feature_pre feature_war                                                                                            \n",
       "25  feature_pre feature_war                                                                                            \n",
       "28  feature_doorman feature_fitness_cent feature_pre feature_war feature_no_fe feature_dogs_allow feature_cats_allow   \n",
       "\n",
       "                                                                                               features_json  \n",
       "14  feature_pre-war feature_dogs_allow feature_cats_allow                                                     \n",
       "15  feature_pre-war                                                                                           \n",
       "16  feature_pre-war feature_dogs_allow feature_cats_allow                                                     \n",
       "17  feature_doorman feature_fitness_cent feature_pre-war                                                      \n",
       "19  feature_pre-war feature_dogs_allow feature_cats_allow                                                     \n",
       "20  feature_fitness_cent feature_pre-war feature_no_fe feature_dogs_allow feature_cats_allow                  \n",
       "21  feature_pre-war feature_dogs_allow feature_cats_allow                                                     \n",
       "22  feature_pre-war                                                                                           \n",
       "25  feature_pre-war                                                                                           \n",
       "28  feature_doorman feature_fitness_cent feature_pre-war feature_no_fe feature_dogs_allow feature_cats_allow  "
      ]
     },
     "execution_count": 27,
     "metadata": {},
     "output_type": "execute_result"
    }
   ],
   "source": [
    "diff_features.head(10)"
   ]
  },
  {
   "cell_type": "markdown",
   "metadata": {
    "collapsed": true
   },
   "source": [
    "### Dump to file"
   ]
  },
  {
   "cell_type": "code",
   "execution_count": 28,
   "metadata": {
    "collapsed": true
   },
   "outputs": [],
   "source": [
    "feat_csv.to_csv('feat_csv.csv', index=False)\n",
    "feat_json.to_csv('feat_json.csv', index=False)"
   ]
  },
  {
   "cell_type": "code",
   "execution_count": 29,
   "metadata": {
    "collapsed": false
   },
   "outputs": [],
   "source": [
    "feat_csv_re = pd.read_csv('feat_csv.csv')\n",
    "feat_json_re = pd.read_csv('feat_json.csv')"
   ]
  },
  {
   "cell_type": "code",
   "execution_count": 30,
   "metadata": {
    "collapsed": false
   },
   "outputs": [
    {
     "name": "stdout",
     "output_type": "stream",
     "text": [
      "bathrooms 0\n",
      "bedrooms 0\n",
      "building_id 0\n",
      "display_address 350\n",
      "features 40512\n",
      "interest_level 0\n",
      "latitude 0\n",
      "listing_id 0\n",
      "longitude 0\n",
      "manager_id 0\n",
      "price 0\n",
      "street_address 23\n",
      "feature_num 124011\n",
      "photo_num 124011\n",
      "desc_wordcount 0\n",
      "distance_city 0\n",
      "day_of_year 0\n",
      "created_month 0\n",
      "created_day 0\n",
      "created_hour 0\n",
      "day_of_week 0\n",
      "price_bed_rt 0\n",
      "price_bath_rt 0\n",
      "price_room_rt 0\n",
      "bed_bath_rt 0\n",
      "bed_bath_dif 0\n",
      "bed_bath_sum 0\n",
      "bed_room_rt 0\n",
      "time_stamp 0\n",
      "img_sizes_mean 0\n",
      "jwd_type_low_than_num 0\n",
      "jwd_type_all 0\n",
      "jwd_type_rt 0\n",
      "building_zero_num 0\n",
      "bathrooms_size_manager_id 0\n",
      "bathrooms_mean_manager_id 0\n",
      "bathrooms_std_manager_id 0\n",
      "bathrooms_median_manager_id 0\n",
      "bathrooms_max_manager_id 0\n",
      "bathrooms_min_manager_id 0\n",
      "bedrooms_size_manager_id 0\n",
      "bedrooms_mean_manager_id 0\n",
      "bedrooms_std_manager_id 0\n",
      "bedrooms_median_manager_id 0\n",
      "bedrooms_max_manager_id 0\n",
      "bedrooms_min_manager_id 0\n",
      "latitude_size_manager_id 0\n",
      "latitude_mean_manager_id 0\n",
      "latitude_std_manager_id 0\n",
      "latitude_median_manager_id 0\n",
      "latitude_max_manager_id 0\n",
      "latitude_min_manager_id 0\n",
      "longitude_size_manager_id 0\n",
      "longitude_mean_manager_id 0\n",
      "longitude_std_manager_id 0\n",
      "longitude_median_manager_id 0\n",
      "longitude_max_manager_id 0\n",
      "longitude_min_manager_id 0\n",
      "price_size_manager_id 0\n",
      "price_mean_manager_id 0\n",
      "price_std_manager_id 0\n",
      "price_median_manager_id 0\n",
      "price_max_manager_id 0\n",
      "price_min_manager_id 0\n",
      "distance_city_size_manager_id 0\n",
      "distance_city_mean_manager_id 0\n",
      "distance_city_std_manager_id 0\n",
      "distance_city_median_manager_id 0\n",
      "distance_city_max_manager_id 0\n",
      "distance_city_min_manager_id 0\n",
      "price_size_bedrooms 0\n",
      "price_mean_bedrooms 0\n",
      "price_std_bedrooms 0\n",
      "price_median_bedrooms 0\n",
      "price_max_bedrooms 0\n",
      "price_min_bedrooms 0\n",
      "bathrooms_size_bedrooms 0\n",
      "bathrooms_mean_bedrooms 0\n",
      "bathrooms_std_bedrooms 0\n",
      "bathrooms_median_bedrooms 0\n",
      "bathrooms_max_bedrooms 0\n",
      "bathrooms_min_bedrooms 0\n",
      "price_size_bathrooms 0\n",
      "price_mean_bathrooms 0\n",
      "price_std_bathrooms 0\n",
      "price_median_bathrooms 0\n",
      "price_max_bathrooms 0\n",
      "price_min_bathrooms 0\n",
      "manager_id_low 0\n",
      "manager_id_medium 0\n",
      "manager_id_high 0\n",
      "price_manager_id_mean_pred_0 0\n",
      "price_manager_id_mean_pred_1 0\n",
      "price_manager_id_mean_pred_2 0\n"
     ]
    }
   ],
   "source": [
    "for a in feat_csv_re.columns.values:\n",
    "    if a not in ['index']:\n",
    "        if type(feat_json_re[a][0]) == np.float64:\n",
    "            print(a, sum(abs(1 - feat_csv_re[a] / feat_json_re[a]) > 1e-4))\n",
    "        else:\n",
    "            print(a, sum(feat_json_re[a] != feat_csv_re[a]))"
   ]
  },
  {
   "cell_type": "markdown",
   "metadata": {},
   "source": [
    "### Define xgb cv "
   ]
  },
  {
   "cell_type": "code",
   "execution_count": 31,
   "metadata": {
    "collapsed": true
   },
   "outputs": [],
   "source": [
    "import xgboost as xgb\n",
    "def xgb_cv(dtrain, num_rounds = 50000, early_stop_rounds=250):\n",
    "    print('Start xgboost cross-validation')\n",
    "    params = {'booster': 'gbtree',\n",
    "              'objective': 'multi:softprob',\n",
    "              'eval_metric': 'mlogloss',\n",
    "              'gamma': 1,\n",
    "              'min_child_weight': 1.5,\n",
    "              'max_depth': 5,\n",
    "              'lambda': 10,\n",
    "              'subsample': 0.7,\n",
    "              'colsample_bytree': 0.7,\n",
    "              'colsample_bylevel': 0.7,\n",
    "              'eta': 0.03,\n",
    "              'tree_method': 'exact',\n",
    "              'seed': 36683,\n",
    "              'nthread': 4,\n",
    "              'num_class': 3,\n",
    "              'silent': 1\n",
    "              }\n",
    "    xgb2cv = xgb.cv(params=params,\n",
    "                    dtrain=dtrain,\n",
    "                    num_boost_round=num_rounds,\n",
    "                    nfold=5,\n",
    "                    stratified=True,\n",
    "                    verbose_eval=50,\n",
    "                    early_stopping_rounds=early_stop_rounds)\n",
    "    return xgb2cv"
   ]
  },
  {
   "cell_type": "markdown",
   "metadata": {},
   "source": [
    "### Train Csv dataframe using xgb cv"
   ]
  },
  {
   "cell_type": "code",
   "execution_count": 32,
   "metadata": {
    "collapsed": true
   },
   "outputs": [],
   "source": [
    "from sklearn.preprocessing import LabelEncoder\n",
    "categorical = [\"display_address\", \"manager_id\", \"building_id\", \"street_address\"]\n",
    "for f in categorical:\n",
    "    if feat_csv[f].dtype == 'object':\n",
    "        lbl = LabelEncoder()\n",
    "        lbl.fit(list(feat_csv[f].values))\n",
    "        feat_csv[f] = lbl.transform(list(feat_csv[f].values))"
   ]
  },
  {
   "cell_type": "code",
   "execution_count": 33,
   "metadata": {
    "collapsed": true
   },
   "outputs": [],
   "source": [
    "feat_csv.drop(['features'], axis=1, inplace=True)"
   ]
  },
  {
   "cell_type": "code",
   "execution_count": 34,
   "metadata": {
    "collapsed": false
   },
   "outputs": [
    {
     "data": {
      "text/plain": [
       "array(['index', 'bathrooms', 'bedrooms', 'building_id', 'display_address',\n",
       "       'latitude', 'listing_id', 'longitude', 'manager_id', 'price',\n",
       "       'street_address', 'feature_num', 'photo_num', 'desc_wordcount',\n",
       "       'distance_city', 'day_of_year', 'created_month', 'created_day',\n",
       "       'created_hour', 'day_of_week', 'price_bed_rt', 'price_bath_rt',\n",
       "       'price_room_rt', 'bed_bath_rt', 'bed_bath_dif', 'bed_bath_sum',\n",
       "       'bed_room_rt', 'time_stamp', 'img_sizes_mean',\n",
       "       'jwd_type_low_than_num', 'jwd_type_all', 'jwd_type_rt',\n",
       "       'building_zero_num', 'bathrooms_size_manager_id',\n",
       "       'bathrooms_mean_manager_id', 'bathrooms_std_manager_id',\n",
       "       'bathrooms_median_manager_id', 'bathrooms_max_manager_id',\n",
       "       'bathrooms_min_manager_id', 'bedrooms_size_manager_id',\n",
       "       'bedrooms_mean_manager_id', 'bedrooms_std_manager_id',\n",
       "       'bedrooms_median_manager_id', 'bedrooms_max_manager_id',\n",
       "       'bedrooms_min_manager_id', 'latitude_size_manager_id',\n",
       "       'latitude_mean_manager_id', 'latitude_std_manager_id',\n",
       "       'latitude_median_manager_id', 'latitude_max_manager_id',\n",
       "       'latitude_min_manager_id', 'longitude_size_manager_id',\n",
       "       'longitude_mean_manager_id', 'longitude_std_manager_id',\n",
       "       'longitude_median_manager_id', 'longitude_max_manager_id',\n",
       "       'longitude_min_manager_id', 'price_size_manager_id',\n",
       "       'price_mean_manager_id', 'price_std_manager_id',\n",
       "       'price_median_manager_id', 'price_max_manager_id',\n",
       "       'price_min_manager_id', 'distance_city_size_manager_id',\n",
       "       'distance_city_mean_manager_id', 'distance_city_std_manager_id',\n",
       "       'distance_city_median_manager_id', 'distance_city_max_manager_id',\n",
       "       'distance_city_min_manager_id', 'price_size_bedrooms',\n",
       "       'price_mean_bedrooms', 'price_std_bedrooms',\n",
       "       'price_median_bedrooms', 'price_max_bedrooms', 'price_min_bedrooms',\n",
       "       'bathrooms_size_bedrooms', 'bathrooms_mean_bedrooms',\n",
       "       'bathrooms_std_bedrooms', 'bathrooms_median_bedrooms',\n",
       "       'bathrooms_max_bedrooms', 'bathrooms_min_bedrooms',\n",
       "       'price_size_bathrooms', 'price_mean_bathrooms',\n",
       "       'price_std_bathrooms', 'price_median_bathrooms',\n",
       "       'price_max_bathrooms', 'price_min_bathrooms', 'manager_id_low',\n",
       "       'manager_id_medium', 'manager_id_high',\n",
       "       'price_manager_id_mean_pred_0', 'price_manager_id_mean_pred_1',\n",
       "       'price_manager_id_mean_pred_2'], dtype=object)"
      ]
     },
     "execution_count": 34,
     "metadata": {},
     "output_type": "execute_result"
    }
   ],
   "source": [
    "train_csv = feat_csv[feat_csv.interest_level != -1].copy()\n",
    "test_csv = feat_csv[feat_csv.interest_level == -1].copy()\n",
    "y_train_csv=train_csv[\"interest_level\"]\n",
    "x_train_csv = train_csv.drop(['interest_level'], axis=1)\n",
    "x_train_csv.columns.values"
   ]
  },
  {
   "cell_type": "code",
   "execution_count": 35,
   "metadata": {
    "collapsed": false
   },
   "outputs": [
    {
     "name": "stdout",
     "output_type": "stream",
     "text": [
      "Start xgboost cross-validation\n",
      "[0]\ttrain-mlogloss:1.07898+0.000224968\ttest-mlogloss:1.0792+0.000239993\n",
      "[50]\ttrain-mlogloss:0.660347+0.000898065\ttest-mlogloss:0.669866+0.00233874\n",
      "[100]\ttrain-mlogloss:0.571462+0.00120799\ttest-mlogloss:0.588125+0.00372488\n",
      "[150]\ttrain-mlogloss:0.538569+0.00105192\ttest-mlogloss:0.561891+0.00444706\n",
      "[200]\ttrain-mlogloss:0.519681+0.00108435\ttest-mlogloss:0.549629+0.00491667\n",
      "[250]\ttrain-mlogloss:0.505739+0.00096267\ttest-mlogloss:0.542111+0.00497954\n",
      "[300]\ttrain-mlogloss:0.494032+0.000932057\ttest-mlogloss:0.536921+0.004927\n",
      "[350]\ttrain-mlogloss:0.484013+0.000933687\ttest-mlogloss:0.533374+0.00484482\n",
      "[400]\ttrain-mlogloss:0.474908+0.000888991\ttest-mlogloss:0.530611+0.00484593\n",
      "[450]\ttrain-mlogloss:0.466726+0.000694355\ttest-mlogloss:0.528531+0.00474222\n",
      "[500]\ttrain-mlogloss:0.45887+0.000708136\ttest-mlogloss:0.526894+0.00471079\n",
      "[550]\ttrain-mlogloss:0.451602+0.000650004\ttest-mlogloss:0.525526+0.00466927\n",
      "[600]\ttrain-mlogloss:0.444675+0.000568017\ttest-mlogloss:0.52429+0.00467572\n",
      "[650]\ttrain-mlogloss:0.438073+0.000612776\ttest-mlogloss:0.523318+0.00465882\n",
      "[700]\ttrain-mlogloss:0.431688+0.000584286\ttest-mlogloss:0.522435+0.00459375\n",
      "[750]\ttrain-mlogloss:0.425575+0.000562983\ttest-mlogloss:0.521791+0.00448683\n",
      "[800]\ttrain-mlogloss:0.4197+0.000498314\ttest-mlogloss:0.521139+0.00445677\n",
      "[850]\ttrain-mlogloss:0.414069+0.00046861\ttest-mlogloss:0.520528+0.00437634\n",
      "[900]\ttrain-mlogloss:0.408482+0.000454982\ttest-mlogloss:0.520024+0.00440051\n",
      "[950]\ttrain-mlogloss:0.403063+0.000364824\ttest-mlogloss:0.519621+0.00431135\n",
      "[1000]\ttrain-mlogloss:0.397844+0.000419207\ttest-mlogloss:0.519276+0.00430892\n",
      "[1050]\ttrain-mlogloss:0.392728+0.000423547\ttest-mlogloss:0.518956+0.00432289\n",
      "[1100]\ttrain-mlogloss:0.387679+0.000410322\ttest-mlogloss:0.518644+0.00431119\n",
      "[1150]\ttrain-mlogloss:0.382844+0.000406117\ttest-mlogloss:0.518509+0.00418803\n",
      "[1200]\ttrain-mlogloss:0.37815+0.000333329\ttest-mlogloss:0.51837+0.00423259\n",
      "[1250]\ttrain-mlogloss:0.37349+0.000419517\ttest-mlogloss:0.518279+0.00417257\n",
      "[1300]\ttrain-mlogloss:0.368942+0.000389217\ttest-mlogloss:0.518183+0.00417908\n",
      "[1350]\ttrain-mlogloss:0.36446+0.000369392\ttest-mlogloss:0.518169+0.00417793\n",
      "[1400]\ttrain-mlogloss:0.360147+0.000365632\ttest-mlogloss:0.518112+0.00416575\n",
      "[1450]\ttrain-mlogloss:0.355897+0.000318086\ttest-mlogloss:0.518073+0.00412247\n",
      "[1500]\ttrain-mlogloss:0.351705+0.000324028\ttest-mlogloss:0.518155+0.00404455\n",
      "[1550]\ttrain-mlogloss:0.34764+0.00025335\ttest-mlogloss:0.518117+0.00399397\n",
      "[1600]\ttrain-mlogloss:0.343553+0.000386155\ttest-mlogloss:0.518232+0.00403243\n",
      "[1650]\ttrain-mlogloss:0.339692+0.000438165\ttest-mlogloss:0.518359+0.00396335\n"
     ]
    }
   ],
   "source": [
    "dtrain = xgb.DMatrix(x_train_csv, label=y_train_csv)\n",
    "_ = xgb_cv(dtrain)"
   ]
  },
  {
   "cell_type": "markdown",
   "metadata": {
    "collapsed": true
   },
   "source": [
    "### Train Json dataframe using xgb cv"
   ]
  },
  {
   "cell_type": "code",
   "execution_count": 36,
   "metadata": {
    "collapsed": false
   },
   "outputs": [],
   "source": [
    "from sklearn.preprocessing import LabelEncoder\n",
    "categorical = [\"display_address\", \"manager_id\", \"building_id\", \"street_address\"]\n",
    "for f in categorical:\n",
    "    if feat_json[f].dtype == 'object':\n",
    "        lbl = LabelEncoder()\n",
    "        lbl.fit(list(feat_json[f].values))\n",
    "        feat_json[f] = lbl.transform(list(feat_json[f].values))"
   ]
  },
  {
   "cell_type": "code",
   "execution_count": 37,
   "metadata": {
    "collapsed": false
   },
   "outputs": [],
   "source": [
    "feat_json.drop(['features'], axis=1, inplace=True)"
   ]
  },
  {
   "cell_type": "code",
   "execution_count": 38,
   "metadata": {
    "collapsed": false
   },
   "outputs": [
    {
     "data": {
      "text/plain": [
       "array(['index', 'bathrooms', 'bed_bath_dif', 'bed_bath_rt', 'bed_bath_sum',\n",
       "       'bed_room_rt', 'bedrooms', 'building_id', 'created_day',\n",
       "       'created_hour', 'created_month', 'day_of_week', 'day_of_year',\n",
       "       'desc_wordcount', 'display_address', 'distance_city', 'feature_num',\n",
       "       'img_sizes_mean', 'latitude', 'listing_id', 'longitude',\n",
       "       'manager_id', 'photo_num', 'price', 'price_bath_rt', 'price_bed_rt',\n",
       "       'price_room_rt', 'street_address', 'time_stamp',\n",
       "       'jwd_type_low_than_num', 'jwd_type_all', 'jwd_type_rt',\n",
       "       'building_zero_num', 'bathrooms_size_manager_id',\n",
       "       'bathrooms_mean_manager_id', 'bathrooms_std_manager_id',\n",
       "       'bathrooms_median_manager_id', 'bathrooms_max_manager_id',\n",
       "       'bathrooms_min_manager_id', 'bedrooms_size_manager_id',\n",
       "       'bedrooms_mean_manager_id', 'bedrooms_std_manager_id',\n",
       "       'bedrooms_median_manager_id', 'bedrooms_max_manager_id',\n",
       "       'bedrooms_min_manager_id', 'latitude_size_manager_id',\n",
       "       'latitude_mean_manager_id', 'latitude_std_manager_id',\n",
       "       'latitude_median_manager_id', 'latitude_max_manager_id',\n",
       "       'latitude_min_manager_id', 'longitude_size_manager_id',\n",
       "       'longitude_mean_manager_id', 'longitude_std_manager_id',\n",
       "       'longitude_median_manager_id', 'longitude_max_manager_id',\n",
       "       'longitude_min_manager_id', 'price_size_manager_id',\n",
       "       'price_mean_manager_id', 'price_std_manager_id',\n",
       "       'price_median_manager_id', 'price_max_manager_id',\n",
       "       'price_min_manager_id', 'distance_city_size_manager_id',\n",
       "       'distance_city_mean_manager_id', 'distance_city_std_manager_id',\n",
       "       'distance_city_median_manager_id', 'distance_city_max_manager_id',\n",
       "       'distance_city_min_manager_id', 'price_size_bedrooms',\n",
       "       'price_mean_bedrooms', 'price_std_bedrooms',\n",
       "       'price_median_bedrooms', 'price_max_bedrooms', 'price_min_bedrooms',\n",
       "       'bathrooms_size_bedrooms', 'bathrooms_mean_bedrooms',\n",
       "       'bathrooms_std_bedrooms', 'bathrooms_median_bedrooms',\n",
       "       'bathrooms_max_bedrooms', 'bathrooms_min_bedrooms',\n",
       "       'price_size_bathrooms', 'price_mean_bathrooms',\n",
       "       'price_std_bathrooms', 'price_median_bathrooms',\n",
       "       'price_max_bathrooms', 'price_min_bathrooms', 'manager_id_low',\n",
       "       'manager_id_medium', 'manager_id_high',\n",
       "       'price_manager_id_mean_pred_0', 'price_manager_id_mean_pred_1',\n",
       "       'price_manager_id_mean_pred_2'], dtype=object)"
      ]
     },
     "execution_count": 38,
     "metadata": {},
     "output_type": "execute_result"
    }
   ],
   "source": [
    "train_json = feat_json[feat_json.interest_level != -1].copy()\n",
    "test_json = feat_json[feat_json.interest_level == -1].copy()\n",
    "y_train_json=train_json[\"interest_level\"]\n",
    "x_train_json = train_json.drop(['interest_level'], axis=1)\n",
    "x_train_json.columns.values"
   ]
  },
  {
   "cell_type": "code",
   "execution_count": 39,
   "metadata": {
    "collapsed": false
   },
   "outputs": [
    {
     "name": "stdout",
     "output_type": "stream",
     "text": [
      "Start xgboost cross-validation\n",
      "[0]\ttrain-mlogloss:1.07886+0.00010134\ttest-mlogloss:1.07907+6.76917e-05\n",
      "[50]\ttrain-mlogloss:0.660458+0.000738978\ttest-mlogloss:0.669706+0.00260449\n",
      "[100]\ttrain-mlogloss:0.571889+0.000987022\ttest-mlogloss:0.588327+0.00383684\n",
      "[150]\ttrain-mlogloss:0.539055+0.000985395\ttest-mlogloss:0.561892+0.00449936\n",
      "[200]\ttrain-mlogloss:0.520114+0.0011274\ttest-mlogloss:0.549455+0.00470958\n",
      "[250]\ttrain-mlogloss:0.506089+0.00101914\ttest-mlogloss:0.541969+0.00485209\n",
      "[300]\ttrain-mlogloss:0.494484+0.000928464\ttest-mlogloss:0.536831+0.00482069\n",
      "[350]\ttrain-mlogloss:0.484541+0.000901724\ttest-mlogloss:0.533252+0.00480363\n",
      "[400]\ttrain-mlogloss:0.475523+0.000755502\ttest-mlogloss:0.530449+0.00478235\n",
      "[450]\ttrain-mlogloss:0.467138+0.000626529\ttest-mlogloss:0.528261+0.00472326\n",
      "[500]\ttrain-mlogloss:0.459415+0.000559225\ttest-mlogloss:0.526565+0.00467987\n",
      "[550]\ttrain-mlogloss:0.452237+0.000469055\ttest-mlogloss:0.52522+0.00466411\n",
      "[600]\ttrain-mlogloss:0.445416+0.000543329\ttest-mlogloss:0.523964+0.00455745\n",
      "[650]\ttrain-mlogloss:0.438855+0.000575269\ttest-mlogloss:0.522887+0.0045044\n",
      "[700]\ttrain-mlogloss:0.432532+0.000470371\ttest-mlogloss:0.52207+0.00447696\n",
      "[750]\ttrain-mlogloss:0.426343+0.000443131\ttest-mlogloss:0.521365+0.00440845\n",
      "[800]\ttrain-mlogloss:0.420559+0.000449625\ttest-mlogloss:0.52074+0.0044157\n",
      "[850]\ttrain-mlogloss:0.414942+0.000485108\ttest-mlogloss:0.520185+0.00439431\n",
      "[900]\ttrain-mlogloss:0.409402+0.000427761\ttest-mlogloss:0.519711+0.00441678\n",
      "[950]\ttrain-mlogloss:0.404054+0.00036513\ttest-mlogloss:0.519323+0.0043831\n",
      "[1000]\ttrain-mlogloss:0.398789+0.000452764\ttest-mlogloss:0.518995+0.00432868\n",
      "[1050]\ttrain-mlogloss:0.393811+0.000505097\ttest-mlogloss:0.518657+0.00435108\n",
      "[1100]\ttrain-mlogloss:0.388816+0.000449813\ttest-mlogloss:0.518319+0.00435556\n",
      "[1150]\ttrain-mlogloss:0.384028+0.000452896\ttest-mlogloss:0.518149+0.00427166\n",
      "[1200]\ttrain-mlogloss:0.379388+0.000480726\ttest-mlogloss:0.517952+0.00419344\n",
      "[1250]\ttrain-mlogloss:0.374774+0.000476073\ttest-mlogloss:0.517898+0.00415319\n",
      "[1300]\ttrain-mlogloss:0.370256+0.000530504\ttest-mlogloss:0.517809+0.00409488\n",
      "[1350]\ttrain-mlogloss:0.365858+0.000562951\ttest-mlogloss:0.517801+0.00400412\n",
      "[1400]\ttrain-mlogloss:0.361542+0.000539476\ttest-mlogloss:0.517776+0.00391966\n",
      "[1450]\ttrain-mlogloss:0.357317+0.00042384\ttest-mlogloss:0.517773+0.0039411\n",
      "[1500]\ttrain-mlogloss:0.353171+0.000436014\ttest-mlogloss:0.517807+0.00391658\n",
      "[1550]\ttrain-mlogloss:0.349118+0.000385897\ttest-mlogloss:0.517792+0.00390108\n",
      "[1600]\ttrain-mlogloss:0.345108+0.000435071\ttest-mlogloss:0.517808+0.00388781\n",
      "[1650]\ttrain-mlogloss:0.34123+0.000454085\ttest-mlogloss:0.51788+0.00375522\n",
      "[1700]\ttrain-mlogloss:0.33738+0.000490867\ttest-mlogloss:0.517851+0.00376238\n"
     ]
    }
   ],
   "source": [
    "dtrain = xgb.DMatrix(x_train_json, label=y_train_json)\n",
    "_ = xgb_cv(dtrain)"
   ]
  },
  {
   "cell_type": "markdown",
   "metadata": {
    "collapsed": true
   },
   "source": [
    "The comparison here makes more sense, and it shows no difference for training from a json file or csv file!"
   ]
  }
 ],
 "metadata": {
  "kernelspec": {
   "display_name": "Python 3",
   "language": "python",
   "name": "python3"
  },
  "language_info": {
   "codemirror_mode": {
    "name": "ipython",
    "version": 3
   },
   "file_extension": ".py",
   "mimetype": "text/x-python",
   "name": "python",
   "nbconvert_exporter": "python",
   "pygments_lexer": "ipython3",
   "version": "3.6.0"
  }
 },
 "nbformat": 4,
 "nbformat_minor": 2
}
