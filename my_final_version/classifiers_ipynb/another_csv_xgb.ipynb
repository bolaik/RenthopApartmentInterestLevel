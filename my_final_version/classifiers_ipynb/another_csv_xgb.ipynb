{
 "cells": [
  {
   "cell_type": "markdown",
   "metadata": {},
   "source": [
    "### XGB on csv input features\n",
    "\n",
    "same implementation as another ipython notebook, using features input from json file."
   ]
  },
  {
   "cell_type": "code",
   "execution_count": 14,
   "metadata": {
    "collapsed": true
   },
   "outputs": [],
   "source": [
    "import numpy as np\n",
    "import pandas as pd\n",
    "from scipy import sparse\n",
    "from sklearn.model_selection import StratifiedKFold, KFold\n",
    "from sklearn import preprocessing\n",
    "from sklearn.feature_extraction.text import CountVectorizer\n",
    "import xgboost as xgb\n",
    "from sklearn.externals import joblib\n",
    "import re\n",
    "from nltk.stem.snowball import SnowballStemmer\n",
    "from scipy.sparse import csr_matrix\n",
    "import string"
   ]
  },
  {
   "cell_type": "code",
   "execution_count": 15,
   "metadata": {
    "collapsed": true
   },
   "outputs": [],
   "source": [
    "def most_freq_vects(docs, max_feature=None, percent=None, token_pattern=u'(?u)\\b\\w\\w+\\b'):\n",
    "    vect = CountVectorizer(token_pattern=token_pattern)\n",
    "    feat_sparse = vect.fit_transform(docs.values.astype('U'))\n",
    "    freq_table = list(zip(vect.get_feature_names(), np.asarray(feat_sparse.sum(axis=0)).ravel()))\n",
    "    freq_table = pd.DataFrame(freq_table, columns=['feature', 'count']).sort_values('count', ascending=False)\n",
    "    if not max_feature:\n",
    "        if percent:\n",
    "            max_feature = int(percent * len(vect.get_feature_names()))\n",
    "        else:\n",
    "            max_feature = len(vect.get_feature_names())\n",
    "    feat_df = pd.DataFrame(feat_sparse.todense(), columns=vect.get_feature_names())\n",
    "    names = list(freq_table.feature[:max_feature])\n",
    "    return names, csr_matrix(feat_df[names].values)"
   ]
  },
  {
   "cell_type": "code",
   "execution_count": 16,
   "metadata": {
    "collapsed": true
   },
   "outputs": [],
   "source": [
    "def xgb_data_prep():\n",
    "    basic_feat = pd.read_csv('../feat_input/basic_feat.csv')\n",
    "    longtime_feat = pd.read_csv('../feat_input/longtime_feat.csv')\n",
    "    encoded_feat = pd.read_csv('../feat_input/feat_stats_encoding.csv')\n",
    "    print('Loading features finished')\n",
    "\n",
    "    # apply ordinal encoding to categorical feature\n",
    "\n",
    "    categorical = [\"display_address\", \"manager_id\", \"building_id\", \"street_address\"]\n",
    "    for f in categorical:\n",
    "        if basic_feat[f].dtype == 'object':\n",
    "            lbl = preprocessing.LabelEncoder()\n",
    "            lbl.fit(list(basic_feat[f].values))\n",
    "            basic_feat[f] = lbl.transform(list(basic_feat[f].values))\n",
    "    print('Ordinal encoding finished')\n",
    "\n",
    "    all_feat = basic_feat.merge(longtime_feat, on='listing_id')\n",
    "    all_feat = all_feat.merge(encoded_feat, on='listing_id')\n",
    "\n",
    "    all_feat = all_feat.sort_values('interest_level', ascending=False).reset_index()\n",
    "    train = all_feat[all_feat.interest_level != -1].copy()\n",
    "    test = all_feat[all_feat.interest_level == -1].copy()\n",
    "    y_train=train[\"interest_level\"]\n",
    "    \n",
    "    train_num=train.shape[0]\n",
    "    stemmer = SnowballStemmer('english')\n",
    "    punct = string.punctuation\n",
    "    punct = re.sub(\"'|-\", \"\", punct)\n",
    "    pattern = r\"[0-9]|[{}]\".format(punct)\n",
    "\n",
    "    all_feat['features'] = all_feat['features'].apply(lambda x: x.split(\",\"))  \n",
    "    all_feat['features'] = all_feat['features'].apply(lambda x: [re.sub(pattern, \"\", y) for y in x])\n",
    "    all_feat['features'] = all_feat['features'].apply(lambda x: [stemmer.stem(y) for y in x])\n",
    "    all_feat['features'] = all_feat['features'].apply(lambda x: ['_'.join(['feature'] + y.split()) for y in x])\n",
    "    all_feat['features'] = all_feat['features'].apply(lambda x: ' '.join(x))\n",
    "\n",
    "    vect_names, vect_sparse = most_freq_vects(all_feat['features'], max_feature=100, token_pattern=r\"[^ ]+\")\n",
    "    print(vect_names)\n",
    "\n",
    "    tr_sparse = vect_sparse[:train_num]\n",
    "    te_sparse = vect_sparse[train_num:]\n",
    "    print(\"Document-term matrix finished\")\n",
    "\n",
    "    x_train = train.drop([\"interest_level\",\"features\",\"index\"],axis=1)\n",
    "    x_test = test.drop([\"interest_level\",\"features\",\"index\"],axis=1)\n",
    "\n",
    "    x_train = sparse.hstack([x_train.astype(float),tr_sparse.astype(float)]).tocsr()\n",
    "    x_test = sparse.hstack([x_test.astype(float),te_sparse.astype(float)]).tocsr()\n",
    "\n",
    "    return x_train, y_train, x_test, test.listing_id"
   ]
  },
  {
   "cell_type": "code",
   "execution_count": 17,
   "metadata": {
    "collapsed": true
   },
   "outputs": [],
   "source": [
    "def xgb_cv(dtrain, num_rounds = 50000, early_stop_rounds=250):\n",
    "    print('Start xgboost cross-validation')\n",
    "    params = {'booster': 'gbtree',\n",
    "              'objective': 'multi:softprob',\n",
    "              'eval_metric': 'mlogloss',\n",
    "              'gamma': 1,\n",
    "              'min_child_weight': 1.5,\n",
    "              'max_depth': 5,\n",
    "              'lambda': 10,\n",
    "              'subsample': 0.7,\n",
    "              'colsample_bytree': 0.7,\n",
    "              'colsample_bylevel': 0.7,\n",
    "              'eta': 0.03,\n",
    "              'tree_method': 'exact',\n",
    "              'seed': 36683,\n",
    "              'nthread': 4,\n",
    "              'num_class': 3,\n",
    "              'silent': 1\n",
    "              }\n",
    "    xgb2cv = xgb.cv(params=params,\n",
    "                    dtrain=dtrain,\n",
    "                    num_boost_round=num_rounds,\n",
    "                    nfold=5,\n",
    "                    stratified=True,\n",
    "                    verbose_eval=50,\n",
    "                    early_stopping_rounds=early_stop_rounds)\n",
    "    return xgb2cv"
   ]
  },
  {
   "cell_type": "code",
   "execution_count": 18,
   "metadata": {
    "collapsed": false
   },
   "outputs": [
    {
     "name": "stdout",
     "output_type": "stream",
     "text": [
      "Loading features finished\n",
      "Ordinal encoding finished\n",
      "['feature_elev', 'feature_cats_allow', 'feature_hardwood_floor', 'feature_dogs_allow', 'feature_doorman', 'feature_dishwash', 'feature_laundry_in_build', 'feature_no_fe', 'feature_fitness_cent', 'feature_laundry_in_unit', 'feature_pre-war', 'feature_roof_deck', 'feature_outdoor_spac', 'feature_dining_room', 'feature_high_speed_internet', 'feature', 'feature_balconi', 'feature_swimming_pool', 'feature_new_construct', 'feature_terrac', 'feature_exclus', 'feature_loft', 'feature_gardenpatio', 'feature_prewar', 'feature_wheelchair_access', 'feature_common_outdoor_spac', 'feature_hardwood', 'feature_simplex', 'feature_fireplac', 'feature_high_ceil', 'feature_lowris', 'feature_garag', 'feature_reduced_fe', 'feature_laundry_room', 'feature_furnish', 'feature_multi-level', 'feature_private_outdoor_spac', 'feature_parking_spac', 'feature_publicoutdoor', 'feature_roof-deck', 'feature_live_in_sup', 'feature_renov', 'feature_pool', 'feature_on-site_laundri', 'feature_laundri', 'feature_green_build', 'feature_storag', 'feature_stainless_steel_appli', 'feature_concierg', 'feature_dryer_in_unit', 'feature_washer_in_unit', 'feature_newly_renov', 'feature_on-site_garag', 'feature_light', 'feature_patio', 'feature_washerdry', 'feature_walk_in_closet', 'feature_live-in_superintend', 'feature_gymfit', 'feature_exposed_brick', 'feature_granite_kitchen', 'feature_bike_room', 'feature_pets_on_approv', 'feature_garden', 'feature_marble_bath', 'feature_valet', 'feature_subway', 'feature_residents_loung', 'feature_eat_in_kitchen', 'feature_central_ac', 'feature_live-in_sup', 'feature_full-time_doorman', 'feature_common_parkinggarag', 'feature_wifi_access', 'feature_park', 'feature_highris', 'feature_loung', 'feature_short_term_allow', 'feature_childrens_playroom', 'feature_no_pet', 'feature_duplex', 'feature_actual_apt_photo', 'feature_view', 'feature_luxury_build', 'feature_gym', 'feature_common_roof_deck', 'feature_residents_garden', 'feature_outdoor_area', 'feature_roofdeck', 'feature_indoor_pool', \"feature_children's_playroom\", 'feature_virtual_doorman', 'feature_livework', 'feature_building-common-outdoor-spac', 'feature_washer_dry', 'feature_microwav', 'feature_valet_park', 'feature_air_condit', 'feature_sauna', 'feature_lounge_room']\n",
      "Document-term matrix finished\n",
      "Start xgboost cross-validation\n",
      "[0]\ttrain-mlogloss:1.07871+0.000107209\ttest-mlogloss:1.07898+4.76848e-05\n",
      "[50]\ttrain-mlogloss:0.659379+0.000682179\ttest-mlogloss:0.66889+0.0031046\n",
      "[100]\ttrain-mlogloss:0.568627+0.000948859\ttest-mlogloss:0.585289+0.00393364\n",
      "[150]\ttrain-mlogloss:0.534357+0.00129219\ttest-mlogloss:0.557447+0.00411498\n",
      "[200]\ttrain-mlogloss:0.514257+0.00131837\ttest-mlogloss:0.543722+0.00416929\n",
      "[250]\ttrain-mlogloss:0.499443+0.00120127\ttest-mlogloss:0.535155+0.00422178\n",
      "[300]\ttrain-mlogloss:0.487218+0.00109717\ttest-mlogloss:0.529243+0.00420589\n",
      "[350]\ttrain-mlogloss:0.476841+0.00100321\ttest-mlogloss:0.524911+0.00416834\n",
      "[400]\ttrain-mlogloss:0.467361+0.000829844\ttest-mlogloss:0.521561+0.00411715\n",
      "[450]\ttrain-mlogloss:0.459014+0.000788636\ttest-mlogloss:0.519055+0.00425716\n",
      "[500]\ttrain-mlogloss:0.451029+0.000728295\ttest-mlogloss:0.516915+0.00432272\n",
      "[550]\ttrain-mlogloss:0.443686+0.000750563\ttest-mlogloss:0.515224+0.00433177\n",
      "[600]\ttrain-mlogloss:0.436554+0.000887168\ttest-mlogloss:0.513813+0.00428691\n",
      "[650]\ttrain-mlogloss:0.429919+0.000772602\ttest-mlogloss:0.512583+0.00429443\n",
      "[700]\ttrain-mlogloss:0.423473+0.000984137\ttest-mlogloss:0.511472+0.00419116\n",
      "[750]\ttrain-mlogloss:0.417187+0.000905709\ttest-mlogloss:0.51057+0.00424812\n",
      "[800]\ttrain-mlogloss:0.411297+0.000955388\ttest-mlogloss:0.509811+0.00422928\n",
      "[850]\ttrain-mlogloss:0.405543+0.000964351\ttest-mlogloss:0.50916+0.00431321\n",
      "[900]\ttrain-mlogloss:0.399919+0.000902756\ttest-mlogloss:0.508502+0.00442684\n",
      "[950]\ttrain-mlogloss:0.394515+0.000905194\ttest-mlogloss:0.507968+0.00454528\n",
      "[1000]\ttrain-mlogloss:0.389328+0.000861152\ttest-mlogloss:0.507598+0.00455849\n",
      "[1050]\ttrain-mlogloss:0.384156+0.000858728\ttest-mlogloss:0.507194+0.0045665\n",
      "[1100]\ttrain-mlogloss:0.379309+0.000891385\ttest-mlogloss:0.506957+0.0046177\n",
      "[1150]\ttrain-mlogloss:0.374432+0.000917903\ttest-mlogloss:0.506746+0.00463912\n",
      "[1200]\ttrain-mlogloss:0.369655+0.000911318\ttest-mlogloss:0.506528+0.0046769\n",
      "[1250]\ttrain-mlogloss:0.365139+0.000827094\ttest-mlogloss:0.506358+0.00465804\n",
      "[1300]\ttrain-mlogloss:0.360691+0.000834637\ttest-mlogloss:0.506093+0.00470766\n",
      "[1350]\ttrain-mlogloss:0.356336+0.00092508\ttest-mlogloss:0.505975+0.0047651\n",
      "[1400]\ttrain-mlogloss:0.352001+0.000935384\ttest-mlogloss:0.505842+0.00479143\n",
      "[1450]\ttrain-mlogloss:0.347833+0.000898859\ttest-mlogloss:0.505796+0.00483023\n",
      "[1500]\ttrain-mlogloss:0.343704+0.000869391\ttest-mlogloss:0.505733+0.00484122\n",
      "[1550]\ttrain-mlogloss:0.339657+0.000851581\ttest-mlogloss:0.505668+0.00489198\n",
      "[1600]\ttrain-mlogloss:0.335817+0.00094557\ttest-mlogloss:0.505722+0.00490383\n",
      "[1650]\ttrain-mlogloss:0.331916+0.000874259\ttest-mlogloss:0.50571+0.00492931\n",
      "[1700]\ttrain-mlogloss:0.32812+0.000848349\ttest-mlogloss:0.505731+0.00487358\n",
      "[1750]\ttrain-mlogloss:0.324438+0.000945788\ttest-mlogloss:0.505769+0.00495779\n"
     ]
    }
   ],
   "source": [
    "X_train, y_train, X_test, listing_id = xgb_data_prep()\n",
    "dtrain = xgb.DMatrix(X_train, label=y_train)\n",
    "dtest = xgb.DMatrix(X_test)\n",
    "\n",
    "# cross-validation and training\n",
    "xgb_cv_hist = xgb_cv(dtrain)"
   ]
  },
  {
   "cell_type": "code",
   "execution_count": null,
   "metadata": {
    "collapsed": true
   },
   "outputs": [],
   "source": []
  }
 ],
 "metadata": {
  "kernelspec": {
   "display_name": "Python 3",
   "language": "python",
   "name": "python3"
  },
  "language_info": {
   "codemirror_mode": {
    "name": "ipython",
    "version": 3
   },
   "file_extension": ".py",
   "mimetype": "text/x-python",
   "name": "python",
   "nbconvert_exporter": "python",
   "pygments_lexer": "ipython3",
   "version": "3.6.0"
  }
 },
 "nbformat": 4,
 "nbformat_minor": 2
}
