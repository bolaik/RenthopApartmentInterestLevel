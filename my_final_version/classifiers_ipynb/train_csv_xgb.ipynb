{
 "cells": [
  {
   "cell_type": "code",
   "execution_count": 1,
   "metadata": {
    "collapsed": true
   },
   "outputs": [],
   "source": [
    "import numpy as np\n",
    "import pandas as pd"
   ]
  },
  {
   "cell_type": "code",
   "execution_count": 2,
   "metadata": {
    "collapsed": true
   },
   "outputs": [],
   "source": [
    "longtime_feat = pd.read_csv('feat_input/longtime_feat.csv')\n",
    "encoded_feat = pd.read_csv('feat_input/feat_stats_encoding.csv')"
   ]
  },
  {
   "cell_type": "code",
   "execution_count": 3,
   "metadata": {
    "collapsed": true
   },
   "outputs": [],
   "source": [
    "feat_basic_csv = pd.read_csv('feat_input/basic_feat.csv')"
   ]
  },
  {
   "cell_type": "code",
   "execution_count": 4,
   "metadata": {
    "collapsed": true
   },
   "outputs": [],
   "source": [
    "feat_csv = feat_basic_csv.merge(longtime_feat, on='listing_id')\n",
    "feat_csv = feat_csv.merge(encoded_feat, on='listing_id')"
   ]
  },
  {
   "cell_type": "code",
   "execution_count": 5,
   "metadata": {
    "collapsed": false
   },
   "outputs": [
    {
     "data": {
      "text/html": [
       "<div>\n",
       "<style>\n",
       "    .dataframe thead tr:only-child th {\n",
       "        text-align: right;\n",
       "    }\n",
       "\n",
       "    .dataframe thead th {\n",
       "        text-align: left;\n",
       "    }\n",
       "\n",
       "    .dataframe tbody tr th {\n",
       "        vertical-align: top;\n",
       "    }\n",
       "</style>\n",
       "<table border=\"1\" class=\"dataframe\">\n",
       "  <thead>\n",
       "    <tr style=\"text-align: right;\">\n",
       "      <th></th>\n",
       "      <th>bathrooms</th>\n",
       "      <th>bedrooms</th>\n",
       "      <th>building_id</th>\n",
       "      <th>display_address</th>\n",
       "      <th>features</th>\n",
       "      <th>interest_level</th>\n",
       "      <th>latitude</th>\n",
       "      <th>listing_id</th>\n",
       "      <th>longitude</th>\n",
       "      <th>manager_id</th>\n",
       "      <th>...</th>\n",
       "      <th>price_std_bathrooms</th>\n",
       "      <th>price_median_bathrooms</th>\n",
       "      <th>price_max_bathrooms</th>\n",
       "      <th>price_min_bathrooms</th>\n",
       "      <th>manager_id_low</th>\n",
       "      <th>manager_id_medium</th>\n",
       "      <th>manager_id_high</th>\n",
       "      <th>price_manager_id_mean_pred_0</th>\n",
       "      <th>price_manager_id_mean_pred_1</th>\n",
       "      <th>price_manager_id_mean_pred_2</th>\n",
       "    </tr>\n",
       "  </thead>\n",
       "  <tbody>\n",
       "    <tr>\n",
       "      <th>0</th>\n",
       "      <td>2.0</td>\n",
       "      <td>3</td>\n",
       "      <td>f7fc4fd7b6b80615ebfce3e212e17cce</td>\n",
       "      <td>Hausman Street</td>\n",
       "      <td>[Pre-War, Dishwasher, Hardwood Floors]</td>\n",
       "      <td>1</td>\n",
       "      <td>40.7245</td>\n",
       "      <td>6818139</td>\n",
       "      <td>-73.9389</td>\n",
       "      <td>198d2e96429920ff71cd06ddff323713</td>\n",
       "      <td>...</td>\n",
       "      <td>1983.841877</td>\n",
       "      <td>5200.0</td>\n",
       "      <td>50550</td>\n",
       "      <td>800</td>\n",
       "      <td>0.727554</td>\n",
       "      <td>0.179567</td>\n",
       "      <td>0.092879</td>\n",
       "      <td>3088.333333</td>\n",
       "      <td>0.000000</td>\n",
       "      <td>0.000000</td>\n",
       "    </tr>\n",
       "    <tr>\n",
       "      <th>1</th>\n",
       "      <td>1.0</td>\n",
       "      <td>0</td>\n",
       "      <td>45c480f3a0771a4e6ddf7a81790a0b07</td>\n",
       "      <td>E 78 Street</td>\n",
       "      <td>[Loft, Laundry in Unit, Hardwood Floors, Dogs ...</td>\n",
       "      <td>1</td>\n",
       "      <td>40.7706</td>\n",
       "      <td>7088908</td>\n",
       "      <td>-73.9501</td>\n",
       "      <td>136b844f49c4eae017d6cabe8ca03b9d</td>\n",
       "      <td>...</td>\n",
       "      <td>17543.181907</td>\n",
       "      <td>2900.0</td>\n",
       "      <td>4490000</td>\n",
       "      <td>1</td>\n",
       "      <td>0.745455</td>\n",
       "      <td>0.678175</td>\n",
       "      <td>0.737513</td>\n",
       "      <td>2655.636364</td>\n",
       "      <td>468.381818</td>\n",
       "      <td>153.454545</td>\n",
       "    </tr>\n",
       "    <tr>\n",
       "      <th>2</th>\n",
       "      <td>1.0</td>\n",
       "      <td>0</td>\n",
       "      <td>b0d419ddd5ff150f96b328c61ee6e7e2</td>\n",
       "      <td>W 83rd St</td>\n",
       "      <td>[Furnished, Short Term Allowed]</td>\n",
       "      <td>2</td>\n",
       "      <td>40.7855</td>\n",
       "      <td>7122047</td>\n",
       "      <td>-73.9752</td>\n",
       "      <td>0a4de95e82c122b78494dcea6cb9f44d</td>\n",
       "      <td>...</td>\n",
       "      <td>17543.181907</td>\n",
       "      <td>2900.0</td>\n",
       "      <td>4490000</td>\n",
       "      <td>1</td>\n",
       "      <td>0.884674</td>\n",
       "      <td>0.294118</td>\n",
       "      <td>0.488038</td>\n",
       "      <td>985.294118</td>\n",
       "      <td>727.294118</td>\n",
       "      <td>810.000000</td>\n",
       "    </tr>\n",
       "    <tr>\n",
       "      <th>3</th>\n",
       "      <td>1.0</td>\n",
       "      <td>3</td>\n",
       "      <td>c3d5bcc96eb5d960b9a3feb67e71115b</td>\n",
       "      <td>40th St</td>\n",
       "      <td>[]</td>\n",
       "      <td>0</td>\n",
       "      <td>40.6444</td>\n",
       "      <td>7169671</td>\n",
       "      <td>-73.9936</td>\n",
       "      <td>324631e1aacaa41bc4475f879756bbb6</td>\n",
       "      <td>...</td>\n",
       "      <td>17543.181907</td>\n",
       "      <td>2900.0</td>\n",
       "      <td>4490000</td>\n",
       "      <td>1</td>\n",
       "      <td>0.963549</td>\n",
       "      <td>0.080645</td>\n",
       "      <td>0.656988</td>\n",
       "      <td>2185.177419</td>\n",
       "      <td>141.935484</td>\n",
       "      <td>51.532258</td>\n",
       "    </tr>\n",
       "    <tr>\n",
       "      <th>4</th>\n",
       "      <td>1.0</td>\n",
       "      <td>3</td>\n",
       "      <td>3989b2e8d5eb6cd4ccfc8fa4257b277b</td>\n",
       "      <td>W 144th  Beautiful Spacious Renovated Secure L...</td>\n",
       "      <td>[Cats Allowed, Dogs Allowed, No Fee, Reduced F...</td>\n",
       "      <td>1</td>\n",
       "      <td>40.8260</td>\n",
       "      <td>7168565</td>\n",
       "      <td>-73.9519</td>\n",
       "      <td>2a4e0d2668fde3afa267d312b3a2a9d8</td>\n",
       "      <td>...</td>\n",
       "      <td>17543.181907</td>\n",
       "      <td>2900.0</td>\n",
       "      <td>4490000</td>\n",
       "      <td>1</td>\n",
       "      <td>0.264957</td>\n",
       "      <td>0.683939</td>\n",
       "      <td>0.966049</td>\n",
       "      <td>581.196581</td>\n",
       "      <td>1075.854701</td>\n",
       "      <td>445.299145</td>\n",
       "    </tr>\n",
       "  </tbody>\n",
       "</table>\n",
       "<p>5 rows × 94 columns</p>\n",
       "</div>"
      ],
      "text/plain": [
       "   bathrooms  bedrooms                       building_id  \\\n",
       "0        2.0         3  f7fc4fd7b6b80615ebfce3e212e17cce   \n",
       "1        1.0         0  45c480f3a0771a4e6ddf7a81790a0b07   \n",
       "2        1.0         0  b0d419ddd5ff150f96b328c61ee6e7e2   \n",
       "3        1.0         3  c3d5bcc96eb5d960b9a3feb67e71115b   \n",
       "4        1.0         3  3989b2e8d5eb6cd4ccfc8fa4257b277b   \n",
       "\n",
       "                                     display_address  \\\n",
       "0                                     Hausman Street   \n",
       "1                                        E 78 Street   \n",
       "2                                          W 83rd St   \n",
       "3                                            40th St   \n",
       "4  W 144th  Beautiful Spacious Renovated Secure L...   \n",
       "\n",
       "                                            features  interest_level  \\\n",
       "0             [Pre-War, Dishwasher, Hardwood Floors]               1   \n",
       "1  [Loft, Laundry in Unit, Hardwood Floors, Dogs ...               1   \n",
       "2                    [Furnished, Short Term Allowed]               2   \n",
       "3                                                 []               0   \n",
       "4  [Cats Allowed, Dogs Allowed, No Fee, Reduced F...               1   \n",
       "\n",
       "   latitude  listing_id  longitude                        manager_id  \\\n",
       "0   40.7245     6818139   -73.9389  198d2e96429920ff71cd06ddff323713   \n",
       "1   40.7706     7088908   -73.9501  136b844f49c4eae017d6cabe8ca03b9d   \n",
       "2   40.7855     7122047   -73.9752  0a4de95e82c122b78494dcea6cb9f44d   \n",
       "3   40.6444     7169671   -73.9936  324631e1aacaa41bc4475f879756bbb6   \n",
       "4   40.8260     7168565   -73.9519  2a4e0d2668fde3afa267d312b3a2a9d8   \n",
       "\n",
       "               ...               price_std_bathrooms price_median_bathrooms  \\\n",
       "0              ...                       1983.841877                 5200.0   \n",
       "1              ...                      17543.181907                 2900.0   \n",
       "2              ...                      17543.181907                 2900.0   \n",
       "3              ...                      17543.181907                 2900.0   \n",
       "4              ...                      17543.181907                 2900.0   \n",
       "\n",
       "   price_max_bathrooms  price_min_bathrooms  manager_id_low  \\\n",
       "0                50550                  800        0.727554   \n",
       "1              4490000                    1        0.745455   \n",
       "2              4490000                    1        0.884674   \n",
       "3              4490000                    1        0.963549   \n",
       "4              4490000                    1        0.264957   \n",
       "\n",
       "   manager_id_medium  manager_id_high  price_manager_id_mean_pred_0  \\\n",
       "0           0.179567         0.092879                   3088.333333   \n",
       "1           0.678175         0.737513                   2655.636364   \n",
       "2           0.294118         0.488038                    985.294118   \n",
       "3           0.080645         0.656988                   2185.177419   \n",
       "4           0.683939         0.966049                    581.196581   \n",
       "\n",
       "   price_manager_id_mean_pred_1  price_manager_id_mean_pred_2  \n",
       "0                      0.000000                      0.000000  \n",
       "1                    468.381818                    153.454545  \n",
       "2                    727.294118                    810.000000  \n",
       "3                    141.935484                     51.532258  \n",
       "4                   1075.854701                    445.299145  \n",
       "\n",
       "[5 rows x 94 columns]"
      ]
     },
     "execution_count": 5,
     "metadata": {},
     "output_type": "execute_result"
    }
   ],
   "source": [
    "feat_csv.head()"
   ]
  },
  {
   "cell_type": "code",
   "execution_count": 5,
   "metadata": {
    "collapsed": true
   },
   "outputs": [],
   "source": [
    "#feat_csv = feat_csv.sort_values('listing_id', ascending=True).reset_index()"
   ]
  },
  {
   "cell_type": "code",
   "execution_count": 6,
   "metadata": {
    "collapsed": true
   },
   "outputs": [],
   "source": [
    "import xgboost as xgb\n",
    "def xgb_cv(dtrain, num_rounds = 50000, early_stop_rounds=250):\n",
    "    print('Start xgboost cross-validation')\n",
    "    params = {'booster': 'gbtree',\n",
    "              'objective': 'multi:softprob',\n",
    "              'eval_metric': 'mlogloss',\n",
    "              'gamma': 1,\n",
    "              'min_child_weight': 1.5,\n",
    "              'max_depth': 5,\n",
    "              'lambda': 10,\n",
    "              'subsample': 0.7,\n",
    "              'colsample_bytree': 0.7,\n",
    "              'colsample_bylevel': 0.7,\n",
    "              'eta': 0.03,\n",
    "              'tree_method': 'exact',\n",
    "              'seed': 36683,\n",
    "              'nthread': 4,\n",
    "              'num_class': 3,\n",
    "              'silent': 1\n",
    "              }\n",
    "    xgb2cv = xgb.cv(params=params,\n",
    "                    dtrain=dtrain,\n",
    "                    num_boost_round=num_rounds,\n",
    "                    nfold=5,\n",
    "                    stratified=True,\n",
    "                    verbose_eval=50,\n",
    "                    early_stopping_rounds=early_stop_rounds)\n",
    "    return xgb2cv"
   ]
  },
  {
   "cell_type": "code",
   "execution_count": 7,
   "metadata": {
    "collapsed": true
   },
   "outputs": [],
   "source": [
    "from sklearn.preprocessing import LabelEncoder\n",
    "categorical = [\"display_address\", \"manager_id\", \"building_id\", \"street_address\"]\n",
    "for f in categorical:\n",
    "    if feat_csv[f].dtype == 'object':\n",
    "        lbl = LabelEncoder()\n",
    "        lbl.fit(list(feat_csv[f].values))\n",
    "        feat_csv[f] = lbl.transform(list(feat_csv[f].values))"
   ]
  },
  {
   "cell_type": "code",
   "execution_count": 8,
   "metadata": {
    "collapsed": true
   },
   "outputs": [],
   "source": [
    "feat_csv.drop(['features'], axis=1, inplace=True)"
   ]
  },
  {
   "cell_type": "code",
   "execution_count": 9,
   "metadata": {
    "collapsed": false
   },
   "outputs": [
    {
     "data": {
      "text/plain": [
       "array(['bathrooms', 'bedrooms', 'building_id', 'display_address',\n",
       "       'latitude', 'listing_id', 'longitude', 'manager_id', 'price',\n",
       "       'street_address', 'feature_num', 'photo_num', 'desc_wordcount',\n",
       "       'distance_city', 'day_of_year', 'created_month', 'created_day',\n",
       "       'created_hour', 'day_of_week', 'price_bed_rt', 'price_bath_rt',\n",
       "       'price_room_rt', 'bed_bath_rt', 'bed_bath_dif', 'bed_bath_sum',\n",
       "       'bed_room_rt', 'time_stamp', 'img_sizes_mean',\n",
       "       'jwd_type_low_than_num', 'jwd_type_all', 'jwd_type_rt',\n",
       "       'building_zero_num', 'bathrooms_size_manager_id',\n",
       "       'bathrooms_mean_manager_id', 'bathrooms_std_manager_id',\n",
       "       'bathrooms_median_manager_id', 'bathrooms_max_manager_id',\n",
       "       'bathrooms_min_manager_id', 'bedrooms_size_manager_id',\n",
       "       'bedrooms_mean_manager_id', 'bedrooms_std_manager_id',\n",
       "       'bedrooms_median_manager_id', 'bedrooms_max_manager_id',\n",
       "       'bedrooms_min_manager_id', 'latitude_size_manager_id',\n",
       "       'latitude_mean_manager_id', 'latitude_std_manager_id',\n",
       "       'latitude_median_manager_id', 'latitude_max_manager_id',\n",
       "       'latitude_min_manager_id', 'longitude_size_manager_id',\n",
       "       'longitude_mean_manager_id', 'longitude_std_manager_id',\n",
       "       'longitude_median_manager_id', 'longitude_max_manager_id',\n",
       "       'longitude_min_manager_id', 'price_size_manager_id',\n",
       "       'price_mean_manager_id', 'price_std_manager_id',\n",
       "       'price_median_manager_id', 'price_max_manager_id',\n",
       "       'price_min_manager_id', 'distance_city_size_manager_id',\n",
       "       'distance_city_mean_manager_id', 'distance_city_std_manager_id',\n",
       "       'distance_city_median_manager_id', 'distance_city_max_manager_id',\n",
       "       'distance_city_min_manager_id', 'price_size_bedrooms',\n",
       "       'price_mean_bedrooms', 'price_std_bedrooms',\n",
       "       'price_median_bedrooms', 'price_max_bedrooms', 'price_min_bedrooms',\n",
       "       'bathrooms_size_bedrooms', 'bathrooms_mean_bedrooms',\n",
       "       'bathrooms_std_bedrooms', 'bathrooms_median_bedrooms',\n",
       "       'bathrooms_max_bedrooms', 'bathrooms_min_bedrooms',\n",
       "       'price_size_bathrooms', 'price_mean_bathrooms',\n",
       "       'price_std_bathrooms', 'price_median_bathrooms',\n",
       "       'price_max_bathrooms', 'price_min_bathrooms', 'manager_id_low',\n",
       "       'manager_id_medium', 'manager_id_high',\n",
       "       'price_manager_id_mean_pred_0', 'price_manager_id_mean_pred_1',\n",
       "       'price_manager_id_mean_pred_2'], dtype=object)"
      ]
     },
     "execution_count": 9,
     "metadata": {},
     "output_type": "execute_result"
    }
   ],
   "source": [
    "train_csv = feat_csv[feat_csv.interest_level != -1].copy()\n",
    "test_csv = feat_csv[feat_csv.interest_level == -1].copy()\n",
    "y_train_csv=train_csv[\"interest_level\"]\n",
    "x_train_csv = train_csv.drop(['interest_level'], axis=1)\n",
    "x_train_csv.columns.values"
   ]
  },
  {
   "cell_type": "code",
   "execution_count": null,
   "metadata": {
    "collapsed": false
   },
   "outputs": [
    {
     "name": "stdout",
     "output_type": "stream",
     "text": [
      "Start xgboost cross-validation\n",
      "[0]\ttrain-mlogloss:1.0785+3.18584e-05\ttest-mlogloss:1.07876+6.53024e-05\n",
      "[50]\ttrain-mlogloss:0.660557+0.000810693\ttest-mlogloss:0.670132+0.0014998\n",
      "[100]\ttrain-mlogloss:0.571757+0.000768113\ttest-mlogloss:0.588446+0.00239705\n",
      "[150]\ttrain-mlogloss:0.538888+0.000720602\ttest-mlogloss:0.56199+0.00230571\n",
      "[200]\ttrain-mlogloss:0.519995+0.000498575\ttest-mlogloss:0.549604+0.00220778\n"
     ]
    }
   ],
   "source": [
    "#dtrain = xgb.DMatrix(x_train_csv, label=y_train_csv)\n",
    "#_ = xgb_cv(dtrain)"
   ]
  },
  {
   "cell_type": "code",
   "execution_count": null,
   "metadata": {
    "collapsed": true
   },
   "outputs": [],
   "source": []
  }
 ],
 "metadata": {
  "kernelspec": {
   "display_name": "Python 3",
   "language": "python",
   "name": "python3"
  },
  "language_info": {
   "codemirror_mode": {
    "name": "ipython",
    "version": 3
   },
   "file_extension": ".py",
   "mimetype": "text/x-python",
   "name": "python",
   "nbconvert_exporter": "python",
   "pygments_lexer": "ipython3",
   "version": "3.6.0"
  }
 },
 "nbformat": 4,
 "nbformat_minor": 2
}
