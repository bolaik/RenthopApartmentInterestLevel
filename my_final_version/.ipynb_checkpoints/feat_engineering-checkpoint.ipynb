{
 "cells": [
  {
   "cell_type": "code",
   "execution_count": 2,
   "metadata": {
    "collapsed": true
   },
   "outputs": [],
   "source": [
    "import numpy as np\n",
    "import pandas as pd"
   ]
  },
  {
   "cell_type": "code",
   "execution_count": 2,
   "metadata": {
    "collapsed": false
   },
   "outputs": [
    {
     "data": {
      "text/html": [
       "<div>\n",
       "<style>\n",
       "    .dataframe thead tr:only-child th {\n",
       "        text-align: right;\n",
       "    }\n",
       "\n",
       "    .dataframe thead th {\n",
       "        text-align: left;\n",
       "    }\n",
       "\n",
       "    .dataframe tbody tr th {\n",
       "        vertical-align: top;\n",
       "    }\n",
       "</style>\n",
       "<table border=\"1\" class=\"dataframe\">\n",
       "  <thead>\n",
       "    <tr style=\"text-align: right;\">\n",
       "      <th></th>\n",
       "      <th>bathrooms</th>\n",
       "      <th>bedrooms</th>\n",
       "      <th>building_id</th>\n",
       "      <th>created</th>\n",
       "      <th>description</th>\n",
       "      <th>display_address</th>\n",
       "      <th>features</th>\n",
       "      <th>interest_level</th>\n",
       "      <th>latitude</th>\n",
       "      <th>listing_id</th>\n",
       "      <th>longitude</th>\n",
       "      <th>manager_id</th>\n",
       "      <th>photos</th>\n",
       "      <th>price</th>\n",
       "      <th>street_address</th>\n",
       "    </tr>\n",
       "  </thead>\n",
       "  <tbody>\n",
       "    <tr>\n",
       "      <th>10</th>\n",
       "      <td>1.5</td>\n",
       "      <td>3</td>\n",
       "      <td>53a5b119ba8f7b61d4e010512e0dfc85</td>\n",
       "      <td>2016-06-24 07:54:24</td>\n",
       "      <td>A Brand New 3 Bedroom 1.5 bath ApartmentEnjoy ...</td>\n",
       "      <td>Metropolitan Avenue</td>\n",
       "      <td>[]</td>\n",
       "      <td>medium</td>\n",
       "      <td>40.7145</td>\n",
       "      <td>7211212</td>\n",
       "      <td>-73.9425</td>\n",
       "      <td>5ba989232d0489da1b5f2c45f6688adc</td>\n",
       "      <td>[https://photos.renthop.com/2/7211212_1ed4542e...</td>\n",
       "      <td>3000</td>\n",
       "      <td>792 Metropolitan Avenue</td>\n",
       "    </tr>\n",
       "    <tr>\n",
       "      <th>10000</th>\n",
       "      <td>1.0</td>\n",
       "      <td>2</td>\n",
       "      <td>c5c8a357cba207596b04d1afd1e4f130</td>\n",
       "      <td>2016-06-12 12:19:27</td>\n",
       "      <td></td>\n",
       "      <td>Columbus Avenue</td>\n",
       "      <td>[Doorman, Elevator, Fitness Center, Cats Allow...</td>\n",
       "      <td>low</td>\n",
       "      <td>40.7947</td>\n",
       "      <td>7150865</td>\n",
       "      <td>-73.9667</td>\n",
       "      <td>7533621a882f71e25173b27e3139d83d</td>\n",
       "      <td>[https://photos.renthop.com/2/7150865_be3306c5...</td>\n",
       "      <td>5465</td>\n",
       "      <td>808 Columbus Avenue</td>\n",
       "    </tr>\n",
       "  </tbody>\n",
       "</table>\n",
       "</div>"
      ],
      "text/plain": [
       "       bathrooms  bedrooms                       building_id  \\\n",
       "10           1.5         3  53a5b119ba8f7b61d4e010512e0dfc85   \n",
       "10000        1.0         2  c5c8a357cba207596b04d1afd1e4f130   \n",
       "\n",
       "                   created                                        description  \\\n",
       "10     2016-06-24 07:54:24  A Brand New 3 Bedroom 1.5 bath ApartmentEnjoy ...   \n",
       "10000  2016-06-12 12:19:27                                                      \n",
       "\n",
       "           display_address                                           features  \\\n",
       "10     Metropolitan Avenue                                                 []   \n",
       "10000      Columbus Avenue  [Doorman, Elevator, Fitness Center, Cats Allow...   \n",
       "\n",
       "      interest_level  latitude  listing_id  longitude  \\\n",
       "10            medium   40.7145     7211212   -73.9425   \n",
       "10000            low   40.7947     7150865   -73.9667   \n",
       "\n",
       "                             manager_id  \\\n",
       "10     5ba989232d0489da1b5f2c45f6688adc   \n",
       "10000  7533621a882f71e25173b27e3139d83d   \n",
       "\n",
       "                                                  photos  price  \\\n",
       "10     [https://photos.renthop.com/2/7211212_1ed4542e...   3000   \n",
       "10000  [https://photos.renthop.com/2/7150865_be3306c5...   5465   \n",
       "\n",
       "                street_address  \n",
       "10     792 Metropolitan Avenue  \n",
       "10000      808 Columbus Avenue  "
      ]
     },
     "execution_count": 2,
     "metadata": {},
     "output_type": "execute_result"
    }
   ],
   "source": [
    "t1 = pd.read_json('../input/train.json')\n",
    "t1.head(2)"
   ]
  },
  {
   "cell_type": "code",
   "execution_count": 3,
   "metadata": {
    "collapsed": false
   },
   "outputs": [
    {
     "data": {
      "text/plain": [
       "array(['bathrooms', 'bedrooms', 'building_id', 'created', 'description',\n",
       "       'display_address', 'features', 'interest_level', 'latitude',\n",
       "       'listing_id', 'longitude', 'manager_id', 'photos', 'price',\n",
       "       'street_address'], dtype=object)"
      ]
     },
     "execution_count": 3,
     "metadata": {},
     "output_type": "execute_result"
    }
   ],
   "source": [
    "t1.columns.values"
   ]
  },
  {
   "cell_type": "code",
   "execution_count": 51,
   "metadata": {
    "collapsed": false
   },
   "outputs": [
    {
     "data": {
      "text/plain": [
       "0.06297617117847301"
      ]
     },
     "execution_count": 51,
     "metadata": {},
     "output_type": "execute_result"
    }
   ],
   "source": [
    "sum([s.lower().count('large window') for s in t1.description])/len([s.count('subway') for s in t1.description])"
   ]
  },
  {
   "cell_type": "code",
   "execution_count": 5,
   "metadata": {
    "collapsed": false
   },
   "outputs": [],
   "source": [
    "import time\n",
    "t1['dayofyear'] = [time.strptime(x, '%Y-%m-%d %H:%M:%S').tm_yday for x in t1['created']]"
   ]
  },
  {
   "cell_type": "code",
   "execution_count": 7,
   "metadata": {
    "collapsed": false,
    "scrolled": true
   },
   "outputs": [
    {
     "data": {
      "text/html": [
       "<div>\n",
       "<table border=\"1\" class=\"dataframe\">\n",
       "  <thead>\n",
       "    <tr style=\"text-align: right;\">\n",
       "      <th></th>\n",
       "      <th>created</th>\n",
       "      <th>dayofyear</th>\n",
       "    </tr>\n",
       "  </thead>\n",
       "  <tbody>\n",
       "    <tr>\n",
       "      <th>10</th>\n",
       "      <td>2016-06-24 07:54:24</td>\n",
       "      <td>176</td>\n",
       "    </tr>\n",
       "    <tr>\n",
       "      <th>10000</th>\n",
       "      <td>2016-06-12 12:19:27</td>\n",
       "      <td>164</td>\n",
       "    </tr>\n",
       "    <tr>\n",
       "      <th>100004</th>\n",
       "      <td>2016-04-17 03:26:41</td>\n",
       "      <td>108</td>\n",
       "    </tr>\n",
       "    <tr>\n",
       "      <th>100007</th>\n",
       "      <td>2016-04-18 02:22:02</td>\n",
       "      <td>109</td>\n",
       "    </tr>\n",
       "    <tr>\n",
       "      <th>100013</th>\n",
       "      <td>2016-04-28 01:32:41</td>\n",
       "      <td>119</td>\n",
       "    </tr>\n",
       "  </tbody>\n",
       "</table>\n",
       "</div>"
      ],
      "text/plain": [
       "                    created  dayofyear\n",
       "10      2016-06-24 07:54:24        176\n",
       "10000   2016-06-12 12:19:27        164\n",
       "100004  2016-04-17 03:26:41        108\n",
       "100007  2016-04-18 02:22:02        109\n",
       "100013  2016-04-28 01:32:41        119"
      ]
     },
     "execution_count": 7,
     "metadata": {},
     "output_type": "execute_result"
    }
   ],
   "source": [
    "t1.loc[:,['created', 'dayofyear']].head()"
   ]
  },
  {
   "cell_type": "code",
   "execution_count": 15,
   "metadata": {
    "collapsed": false
   },
   "outputs": [],
   "source": [
    "t1['price_per_bed'] = [price/bed if bed != 0 else -1 for (price, bed) in zip(t1['price'], t1['bedrooms'])]"
   ]
  },
  {
   "cell_type": "code",
   "execution_count": 25,
   "metadata": {
    "collapsed": false
   },
   "outputs": [],
   "source": [
    "t1.index = range(t1.shape[0])"
   ]
  },
  {
   "cell_type": "code",
   "execution_count": 26,
   "metadata": {
    "collapsed": false
   },
   "outputs": [
    {
     "data": {
      "text/html": [
       "<div>\n",
       "<table border=\"1\" class=\"dataframe\">\n",
       "  <thead>\n",
       "    <tr style=\"text-align: right;\">\n",
       "      <th></th>\n",
       "      <th>bathrooms</th>\n",
       "      <th>bedrooms</th>\n",
       "      <th>building_id</th>\n",
       "      <th>created</th>\n",
       "      <th>description</th>\n",
       "      <th>display_address</th>\n",
       "      <th>features</th>\n",
       "      <th>interest_level</th>\n",
       "      <th>latitude</th>\n",
       "      <th>listing_id</th>\n",
       "      <th>longitude</th>\n",
       "      <th>manager_id</th>\n",
       "      <th>photos</th>\n",
       "      <th>price</th>\n",
       "      <th>street_address</th>\n",
       "      <th>dayofyear</th>\n",
       "      <th>price_per_bed</th>\n",
       "    </tr>\n",
       "  </thead>\n",
       "  <tbody>\n",
       "    <tr>\n",
       "      <th>0</th>\n",
       "      <td>1.5</td>\n",
       "      <td>3</td>\n",
       "      <td>53a5b119ba8f7b61d4e010512e0dfc85</td>\n",
       "      <td>2016-06-24 07:54:24</td>\n",
       "      <td>A Brand New 3 Bedroom 1.5 bath ApartmentEnjoy ...</td>\n",
       "      <td>Metropolitan Avenue</td>\n",
       "      <td>[]</td>\n",
       "      <td>medium</td>\n",
       "      <td>40.7145</td>\n",
       "      <td>7211212</td>\n",
       "      <td>-73.9425</td>\n",
       "      <td>5ba989232d0489da1b5f2c45f6688adc</td>\n",
       "      <td>[https://photos.renthop.com/2/7211212_1ed4542e...</td>\n",
       "      <td>3000</td>\n",
       "      <td>792 Metropolitan Avenue</td>\n",
       "      <td>176</td>\n",
       "      <td>1000.0</td>\n",
       "    </tr>\n",
       "    <tr>\n",
       "      <th>1</th>\n",
       "      <td>1.0</td>\n",
       "      <td>2</td>\n",
       "      <td>c5c8a357cba207596b04d1afd1e4f130</td>\n",
       "      <td>2016-06-12 12:19:27</td>\n",
       "      <td></td>\n",
       "      <td>Columbus Avenue</td>\n",
       "      <td>[Doorman, Elevator, Fitness Center, Cats Allow...</td>\n",
       "      <td>low</td>\n",
       "      <td>40.7947</td>\n",
       "      <td>7150865</td>\n",
       "      <td>-73.9667</td>\n",
       "      <td>7533621a882f71e25173b27e3139d83d</td>\n",
       "      <td>[https://photos.renthop.com/2/7150865_be3306c5...</td>\n",
       "      <td>5465</td>\n",
       "      <td>808 Columbus Avenue</td>\n",
       "      <td>164</td>\n",
       "      <td>2732.5</td>\n",
       "    </tr>\n",
       "    <tr>\n",
       "      <th>2</th>\n",
       "      <td>1.0</td>\n",
       "      <td>1</td>\n",
       "      <td>c3ba40552e2120b0acfc3cb5730bb2aa</td>\n",
       "      <td>2016-04-17 03:26:41</td>\n",
       "      <td>Top Top West Village location, beautiful Pre-w...</td>\n",
       "      <td>W 13 Street</td>\n",
       "      <td>[Laundry In Building, Dishwasher, Hardwood Flo...</td>\n",
       "      <td>high</td>\n",
       "      <td>40.7388</td>\n",
       "      <td>6887163</td>\n",
       "      <td>-74.0018</td>\n",
       "      <td>d9039c43983f6e564b1482b273bd7b01</td>\n",
       "      <td>[https://photos.renthop.com/2/6887163_de85c427...</td>\n",
       "      <td>2850</td>\n",
       "      <td>241 W 13 Street</td>\n",
       "      <td>108</td>\n",
       "      <td>2850.0</td>\n",
       "    </tr>\n",
       "    <tr>\n",
       "      <th>3</th>\n",
       "      <td>1.0</td>\n",
       "      <td>1</td>\n",
       "      <td>28d9ad350afeaab8027513a3e52ac8d5</td>\n",
       "      <td>2016-04-18 02:22:02</td>\n",
       "      <td>Building Amenities - Garage - Garden - fitness...</td>\n",
       "      <td>East 49th Street</td>\n",
       "      <td>[Hardwood Floors, No Fee]</td>\n",
       "      <td>low</td>\n",
       "      <td>40.7539</td>\n",
       "      <td>6888711</td>\n",
       "      <td>-73.9677</td>\n",
       "      <td>1067e078446a7897d2da493d2f741316</td>\n",
       "      <td>[https://photos.renthop.com/2/6888711_6e660cee...</td>\n",
       "      <td>3275</td>\n",
       "      <td>333 East 49th Street</td>\n",
       "      <td>109</td>\n",
       "      <td>3275.0</td>\n",
       "    </tr>\n",
       "    <tr>\n",
       "      <th>4</th>\n",
       "      <td>1.0</td>\n",
       "      <td>4</td>\n",
       "      <td>0</td>\n",
       "      <td>2016-04-28 01:32:41</td>\n",
       "      <td>Beautifully renovated 3 bedroom flex 4 bedroom...</td>\n",
       "      <td>West 143rd Street</td>\n",
       "      <td>[Pre-War]</td>\n",
       "      <td>low</td>\n",
       "      <td>40.8241</td>\n",
       "      <td>6934781</td>\n",
       "      <td>-73.9493</td>\n",
       "      <td>98e13ad4b495b9613cef886d79a6291f</td>\n",
       "      <td>[https://photos.renthop.com/2/6934781_1fa4b41a...</td>\n",
       "      <td>3350</td>\n",
       "      <td>500 West 143rd Street</td>\n",
       "      <td>119</td>\n",
       "      <td>837.5</td>\n",
       "    </tr>\n",
       "  </tbody>\n",
       "</table>\n",
       "</div>"
      ],
      "text/plain": [
       "   bathrooms  bedrooms                       building_id              created  \\\n",
       "0        1.5         3  53a5b119ba8f7b61d4e010512e0dfc85  2016-06-24 07:54:24   \n",
       "1        1.0         2  c5c8a357cba207596b04d1afd1e4f130  2016-06-12 12:19:27   \n",
       "2        1.0         1  c3ba40552e2120b0acfc3cb5730bb2aa  2016-04-17 03:26:41   \n",
       "3        1.0         1  28d9ad350afeaab8027513a3e52ac8d5  2016-04-18 02:22:02   \n",
       "4        1.0         4                                 0  2016-04-28 01:32:41   \n",
       "\n",
       "                                         description      display_address  \\\n",
       "0  A Brand New 3 Bedroom 1.5 bath ApartmentEnjoy ...  Metropolitan Avenue   \n",
       "1                                                         Columbus Avenue   \n",
       "2  Top Top West Village location, beautiful Pre-w...          W 13 Street   \n",
       "3  Building Amenities - Garage - Garden - fitness...     East 49th Street   \n",
       "4  Beautifully renovated 3 bedroom flex 4 bedroom...    West 143rd Street   \n",
       "\n",
       "                                            features interest_level  latitude  \\\n",
       "0                                                 []         medium   40.7145   \n",
       "1  [Doorman, Elevator, Fitness Center, Cats Allow...            low   40.7947   \n",
       "2  [Laundry In Building, Dishwasher, Hardwood Flo...           high   40.7388   \n",
       "3                          [Hardwood Floors, No Fee]            low   40.7539   \n",
       "4                                          [Pre-War]            low   40.8241   \n",
       "\n",
       "   listing_id  longitude                        manager_id  \\\n",
       "0     7211212   -73.9425  5ba989232d0489da1b5f2c45f6688adc   \n",
       "1     7150865   -73.9667  7533621a882f71e25173b27e3139d83d   \n",
       "2     6887163   -74.0018  d9039c43983f6e564b1482b273bd7b01   \n",
       "3     6888711   -73.9677  1067e078446a7897d2da493d2f741316   \n",
       "4     6934781   -73.9493  98e13ad4b495b9613cef886d79a6291f   \n",
       "\n",
       "                                              photos  price  \\\n",
       "0  [https://photos.renthop.com/2/7211212_1ed4542e...   3000   \n",
       "1  [https://photos.renthop.com/2/7150865_be3306c5...   5465   \n",
       "2  [https://photos.renthop.com/2/6887163_de85c427...   2850   \n",
       "3  [https://photos.renthop.com/2/6888711_6e660cee...   3275   \n",
       "4  [https://photos.renthop.com/2/6934781_1fa4b41a...   3350   \n",
       "\n",
       "            street_address  dayofyear  price_per_bed  \n",
       "0  792 Metropolitan Avenue        176         1000.0  \n",
       "1      808 Columbus Avenue        164         2732.5  \n",
       "2          241 W 13 Street        108         2850.0  \n",
       "3     333 East 49th Street        109         3275.0  \n",
       "4    500 West 143rd Street        119          837.5  "
      ]
     },
     "execution_count": 26,
     "metadata": {},
     "output_type": "execute_result"
    }
   ],
   "source": [
    "t1.head(5)"
   ]
  },
  {
   "cell_type": "code",
   "execution_count": 36,
   "metadata": {
    "collapsed": false
   },
   "outputs": [
    {
     "data": {
      "text/plain": [
       "0"
      ]
     },
     "execution_count": 36,
     "metadata": {},
     "output_type": "execute_result"
    }
   ],
   "source": [
    "len(t1.features.iloc[0])"
   ]
  },
  {
   "cell_type": "code",
   "execution_count": 39,
   "metadata": {
    "collapsed": true
   },
   "outputs": [],
   "source": [
    "t1['feature_num'] = [len(x) for x in t1['features']]\n",
    "t1['photo_num'] = [len(x) for x in t1.photos]"
   ]
  },
  {
   "cell_type": "code",
   "execution_count": 106,
   "metadata": {
    "collapsed": false
   },
   "outputs": [
    {
     "data": {
      "text/plain": [
       "[106350,\n",
       " 2028,\n",
       " 37426,\n",
       " 39134,\n",
       " 46941,\n",
       " 49884,\n",
       " 63688,\n",
       " 66197,\n",
       " 69423,\n",
       " 70841,\n",
       " 76934,\n",
       " 85521]"
      ]
     },
     "execution_count": 106,
     "metadata": {},
     "output_type": "execute_result"
    }
   ],
   "source": [
    "outlier_addrs = t1[(t1.longitude==0) | (t1.latitude==0)]\n",
    "ind = outlier_addrs.index.tolist()\n",
    "ind"
   ]
  },
  {
   "cell_type": "code",
   "execution_count": 53,
   "metadata": {
    "collapsed": false
   },
   "outputs": [],
   "source": [
    "outlier_ny = [''.join([x, ', new york']) for x in outlier_addrs.street_address]"
   ]
  },
  {
   "cell_type": "code",
   "execution_count": 54,
   "metadata": {
    "collapsed": false
   },
   "outputs": [
    {
     "data": {
      "text/plain": [
       "['259 Decatur Street, new york',\n",
       " '145 28 Street, new york',\n",
       " 'Van Sicklen street, new york',\n",
       " '219 E 28th, new york',\n",
       " '1632 Madison Ave, new york',\n",
       " '41-42 24th St , new york',\n",
       " '450 East 83rd Street, new york',\n",
       " '247 west 87, new york',\n",
       " '118 W 109th, new york',\n",
       " '246 Mott St , new york',\n",
       " '21 W 106th, new york',\n",
       " '338 e. 53, new york']"
      ]
     },
     "execution_count": 54,
     "metadata": {},
     "output_type": "execute_result"
    }
   ],
   "source": [
    "outlier_ny"
   ]
  },
  {
   "cell_type": "code",
   "execution_count": 129,
   "metadata": {
    "collapsed": false
   },
   "outputs": [],
   "source": [
    "import geocoder\n",
    "coords = [geocoder.google(addr).latlng for addr in outlier_ny]\n",
    "#coords = pd.DataFrame(coords)\n",
    "#coords.columns = ['lng', 'lat']"
   ]
  },
  {
   "cell_type": "code",
   "execution_count": 125,
   "metadata": {
    "collapsed": false
   },
   "outputs": [
    {
     "data": {
      "text/html": [
       "<div>\n",
       "<table border=\"1\" class=\"dataframe\">\n",
       "  <thead>\n",
       "    <tr style=\"text-align: right;\">\n",
       "      <th></th>\n",
       "      <th>lng</th>\n",
       "      <th>lat</th>\n",
       "    </tr>\n",
       "  </thead>\n",
       "  <tbody>\n",
       "    <tr>\n",
       "      <th>0</th>\n",
       "      <td>40.681647</td>\n",
       "      <td>-73.933444</td>\n",
       "    </tr>\n",
       "    <tr>\n",
       "      <th>1</th>\n",
       "      <td>40.747085</td>\n",
       "      <td>-73.992443</td>\n",
       "    </tr>\n",
       "    <tr>\n",
       "      <th>2</th>\n",
       "      <td>40.596789</td>\n",
       "      <td>-73.975039</td>\n",
       "    </tr>\n",
       "    <tr>\n",
       "      <th>3</th>\n",
       "      <td>40.741788</td>\n",
       "      <td>-73.979825</td>\n",
       "    </tr>\n",
       "    <tr>\n",
       "      <th>4</th>\n",
       "      <td>40.795761</td>\n",
       "      <td>-73.948468</td>\n",
       "    </tr>\n",
       "    <tr>\n",
       "      <th>5</th>\n",
       "      <td>40.751531</td>\n",
       "      <td>-73.941312</td>\n",
       "    </tr>\n",
       "    <tr>\n",
       "      <th>6</th>\n",
       "      <td>40.773986</td>\n",
       "      <td>-73.948994</td>\n",
       "    </tr>\n",
       "    <tr>\n",
       "      <th>7</th>\n",
       "      <td>42.662479</td>\n",
       "      <td>-73.778376</td>\n",
       "    </tr>\n",
       "    <tr>\n",
       "      <th>8</th>\n",
       "      <td>40.801498</td>\n",
       "      <td>-73.962729</td>\n",
       "    </tr>\n",
       "    <tr>\n",
       "      <th>9</th>\n",
       "      <td>40.723285</td>\n",
       "      <td>-73.994663</td>\n",
       "    </tr>\n",
       "    <tr>\n",
       "      <th>10</th>\n",
       "      <td>40.798732</td>\n",
       "      <td>-73.960986</td>\n",
       "    </tr>\n",
       "    <tr>\n",
       "      <th>11</th>\n",
       "      <td>42.054263</td>\n",
       "      <td>-76.004770</td>\n",
       "    </tr>\n",
       "  </tbody>\n",
       "</table>\n",
       "</div>"
      ],
      "text/plain": [
       "          lng        lat\n",
       "0   40.681647 -73.933444\n",
       "1   40.747085 -73.992443\n",
       "2   40.596789 -73.975039\n",
       "3   40.741788 -73.979825\n",
       "4   40.795761 -73.948468\n",
       "5   40.751531 -73.941312\n",
       "6   40.773986 -73.948994\n",
       "7   42.662479 -73.778376\n",
       "8   40.801498 -73.962729\n",
       "9   40.723285 -73.994663\n",
       "10  40.798732 -73.960986\n",
       "11  42.054263 -76.004770"
      ]
     },
     "execution_count": 125,
     "metadata": {},
     "output_type": "execute_result"
    }
   ],
   "source": [
    "coords"
   ]
  },
  {
   "cell_type": "code",
   "execution_count": 131,
   "metadata": {
    "collapsed": false
   },
   "outputs": [],
   "source": [
    "t1.loc[(t1.longitude==0) | (t1.latitude==0), ['longitude', 'latitude']] = coords"
   ]
  },
  {
   "cell_type": "code",
   "execution_count": 136,
   "metadata": {
    "collapsed": false
   },
   "outputs": [
    {
     "data": {
      "text/html": [
       "<div>\n",
       "<table border=\"1\" class=\"dataframe\">\n",
       "  <thead>\n",
       "    <tr style=\"text-align: right;\">\n",
       "      <th></th>\n",
       "      <th>bathrooms</th>\n",
       "      <th>bedrooms</th>\n",
       "      <th>building_id</th>\n",
       "      <th>created</th>\n",
       "      <th>description</th>\n",
       "      <th>display_address</th>\n",
       "      <th>features</th>\n",
       "      <th>interest_level</th>\n",
       "      <th>latitude</th>\n",
       "      <th>listing_id</th>\n",
       "      <th>longitude</th>\n",
       "      <th>manager_id</th>\n",
       "      <th>photos</th>\n",
       "      <th>price</th>\n",
       "      <th>street_address</th>\n",
       "    </tr>\n",
       "  </thead>\n",
       "  <tbody>\n",
       "    <tr>\n",
       "      <th>10</th>\n",
       "      <td>1.5</td>\n",
       "      <td>3</td>\n",
       "      <td>53a5b119ba8f7b61d4e010512e0dfc85</td>\n",
       "      <td>2016-06-24 07:54:24</td>\n",
       "      <td>A Brand New 3 Bedroom 1.5 bath ApartmentEnjoy ...</td>\n",
       "      <td>Metropolitan Avenue</td>\n",
       "      <td>[]</td>\n",
       "      <td>medium</td>\n",
       "      <td>40.7145</td>\n",
       "      <td>7211212</td>\n",
       "      <td>-73.9425</td>\n",
       "      <td>5ba989232d0489da1b5f2c45f6688adc</td>\n",
       "      <td>[https://photos.renthop.com/2/7211212_1ed4542e...</td>\n",
       "      <td>3000</td>\n",
       "      <td>792 Metropolitan Avenue</td>\n",
       "    </tr>\n",
       "    <tr>\n",
       "      <th>10000</th>\n",
       "      <td>1.0</td>\n",
       "      <td>2</td>\n",
       "      <td>c5c8a357cba207596b04d1afd1e4f130</td>\n",
       "      <td>2016-06-12 12:19:27</td>\n",
       "      <td></td>\n",
       "      <td>Columbus Avenue</td>\n",
       "      <td>[Doorman, Elevator, Fitness Center, Cats Allow...</td>\n",
       "      <td>low</td>\n",
       "      <td>40.7947</td>\n",
       "      <td>7150865</td>\n",
       "      <td>-73.9667</td>\n",
       "      <td>7533621a882f71e25173b27e3139d83d</td>\n",
       "      <td>[https://photos.renthop.com/2/7150865_be3306c5...</td>\n",
       "      <td>5465</td>\n",
       "      <td>808 Columbus Avenue</td>\n",
       "    </tr>\n",
       "    <tr>\n",
       "      <th>100004</th>\n",
       "      <td>1.0</td>\n",
       "      <td>1</td>\n",
       "      <td>c3ba40552e2120b0acfc3cb5730bb2aa</td>\n",
       "      <td>2016-04-17 03:26:41</td>\n",
       "      <td>Top Top West Village location, beautiful Pre-w...</td>\n",
       "      <td>W 13 Street</td>\n",
       "      <td>[Laundry In Building, Dishwasher, Hardwood Flo...</td>\n",
       "      <td>high</td>\n",
       "      <td>40.7388</td>\n",
       "      <td>6887163</td>\n",
       "      <td>-74.0018</td>\n",
       "      <td>d9039c43983f6e564b1482b273bd7b01</td>\n",
       "      <td>[https://photos.renthop.com/2/6887163_de85c427...</td>\n",
       "      <td>2850</td>\n",
       "      <td>241 W 13 Street</td>\n",
       "    </tr>\n",
       "    <tr>\n",
       "      <th>100007</th>\n",
       "      <td>1.0</td>\n",
       "      <td>1</td>\n",
       "      <td>28d9ad350afeaab8027513a3e52ac8d5</td>\n",
       "      <td>2016-04-18 02:22:02</td>\n",
       "      <td>Building Amenities - Garage - Garden - fitness...</td>\n",
       "      <td>East 49th Street</td>\n",
       "      <td>[Hardwood Floors, No Fee]</td>\n",
       "      <td>low</td>\n",
       "      <td>40.7539</td>\n",
       "      <td>6888711</td>\n",
       "      <td>-73.9677</td>\n",
       "      <td>1067e078446a7897d2da493d2f741316</td>\n",
       "      <td>[https://photos.renthop.com/2/6888711_6e660cee...</td>\n",
       "      <td>3275</td>\n",
       "      <td>333 East 49th Street</td>\n",
       "    </tr>\n",
       "    <tr>\n",
       "      <th>100013</th>\n",
       "      <td>1.0</td>\n",
       "      <td>4</td>\n",
       "      <td>0</td>\n",
       "      <td>2016-04-28 01:32:41</td>\n",
       "      <td>Beautifully renovated 3 bedroom flex 4 bedroom...</td>\n",
       "      <td>West 143rd Street</td>\n",
       "      <td>[Pre-War]</td>\n",
       "      <td>low</td>\n",
       "      <td>40.8241</td>\n",
       "      <td>6934781</td>\n",
       "      <td>-73.9493</td>\n",
       "      <td>98e13ad4b495b9613cef886d79a6291f</td>\n",
       "      <td>[https://photos.renthop.com/2/6934781_1fa4b41a...</td>\n",
       "      <td>3350</td>\n",
       "      <td>500 West 143rd Street</td>\n",
       "    </tr>\n",
       "  </tbody>\n",
       "</table>\n",
       "</div>"
      ],
      "text/plain": [
       "        bathrooms  bedrooms                       building_id  \\\n",
       "10            1.5         3  53a5b119ba8f7b61d4e010512e0dfc85   \n",
       "10000         1.0         2  c5c8a357cba207596b04d1afd1e4f130   \n",
       "100004        1.0         1  c3ba40552e2120b0acfc3cb5730bb2aa   \n",
       "100007        1.0         1  28d9ad350afeaab8027513a3e52ac8d5   \n",
       "100013        1.0         4                                 0   \n",
       "\n",
       "                    created  \\\n",
       "10      2016-06-24 07:54:24   \n",
       "10000   2016-06-12 12:19:27   \n",
       "100004  2016-04-17 03:26:41   \n",
       "100007  2016-04-18 02:22:02   \n",
       "100013  2016-04-28 01:32:41   \n",
       "\n",
       "                                              description  \\\n",
       "10      A Brand New 3 Bedroom 1.5 bath ApartmentEnjoy ...   \n",
       "10000                                                       \n",
       "100004  Top Top West Village location, beautiful Pre-w...   \n",
       "100007  Building Amenities - Garage - Garden - fitness...   \n",
       "100013  Beautifully renovated 3 bedroom flex 4 bedroom...   \n",
       "\n",
       "            display_address  \\\n",
       "10      Metropolitan Avenue   \n",
       "10000       Columbus Avenue   \n",
       "100004          W 13 Street   \n",
       "100007     East 49th Street   \n",
       "100013    West 143rd Street   \n",
       "\n",
       "                                                 features interest_level  \\\n",
       "10                                                     []         medium   \n",
       "10000   [Doorman, Elevator, Fitness Center, Cats Allow...            low   \n",
       "100004  [Laundry In Building, Dishwasher, Hardwood Flo...           high   \n",
       "100007                          [Hardwood Floors, No Fee]            low   \n",
       "100013                                          [Pre-War]            low   \n",
       "\n",
       "        latitude  listing_id  longitude                        manager_id  \\\n",
       "10       40.7145     7211212   -73.9425  5ba989232d0489da1b5f2c45f6688adc   \n",
       "10000    40.7947     7150865   -73.9667  7533621a882f71e25173b27e3139d83d   \n",
       "100004   40.7388     6887163   -74.0018  d9039c43983f6e564b1482b273bd7b01   \n",
       "100007   40.7539     6888711   -73.9677  1067e078446a7897d2da493d2f741316   \n",
       "100013   40.8241     6934781   -73.9493  98e13ad4b495b9613cef886d79a6291f   \n",
       "\n",
       "                                                   photos  price  \\\n",
       "10      [https://photos.renthop.com/2/7211212_1ed4542e...   3000   \n",
       "10000   [https://photos.renthop.com/2/7150865_be3306c5...   5465   \n",
       "100004  [https://photos.renthop.com/2/6887163_de85c427...   2850   \n",
       "100007  [https://photos.renthop.com/2/6888711_6e660cee...   3275   \n",
       "100013  [https://photos.renthop.com/2/6934781_1fa4b41a...   3350   \n",
       "\n",
       "                 street_address  \n",
       "10      792 Metropolitan Avenue  \n",
       "10000       808 Columbus Avenue  \n",
       "100004          241 W 13 Street  \n",
       "100007     333 East 49th Street  \n",
       "100013    500 West 143rd Street  "
      ]
     },
     "execution_count": 136,
     "metadata": {},
     "output_type": "execute_result"
    }
   ],
   "source": [
    "t1.head(5)"
   ]
  },
  {
   "cell_type": "code",
   "execution_count": 137,
   "metadata": {
    "collapsed": false
   },
   "outputs": [],
   "source": [
    "ny_center = geocoder.google('new york').latlng"
   ]
  },
  {
   "cell_type": "code",
   "execution_count": 138,
   "metadata": {
    "collapsed": true
   },
   "outputs": [],
   "source": [
    "t1['distance_city'] = list(map(lambda lng, lat: np.sqrt((lat - ny_center[0])**2 + (lng - ny_center[1])**2), t1['longitude'], t1['latitude']))"
   ]
  },
  {
   "cell_type": "code",
   "execution_count": 139,
   "metadata": {
    "collapsed": false
   },
   "outputs": [
    {
     "data": {
      "text/html": [
       "<div>\n",
       "<table border=\"1\" class=\"dataframe\">\n",
       "  <thead>\n",
       "    <tr style=\"text-align: right;\">\n",
       "      <th></th>\n",
       "      <th>bathrooms</th>\n",
       "      <th>bedrooms</th>\n",
       "      <th>building_id</th>\n",
       "      <th>created</th>\n",
       "      <th>description</th>\n",
       "      <th>display_address</th>\n",
       "      <th>features</th>\n",
       "      <th>interest_level</th>\n",
       "      <th>latitude</th>\n",
       "      <th>listing_id</th>\n",
       "      <th>longitude</th>\n",
       "      <th>manager_id</th>\n",
       "      <th>photos</th>\n",
       "      <th>price</th>\n",
       "      <th>street_address</th>\n",
       "      <th>distance_city</th>\n",
       "    </tr>\n",
       "  </thead>\n",
       "  <tbody>\n",
       "    <tr>\n",
       "      <th>10</th>\n",
       "      <td>1.5</td>\n",
       "      <td>3</td>\n",
       "      <td>53a5b119ba8f7b61d4e010512e0dfc85</td>\n",
       "      <td>2016-06-24 07:54:24</td>\n",
       "      <td>A Brand New 3 Bedroom 1.5 bath ApartmentEnjoy ...</td>\n",
       "      <td>Metropolitan Avenue</td>\n",
       "      <td>[]</td>\n",
       "      <td>medium</td>\n",
       "      <td>40.7145</td>\n",
       "      <td>7211212</td>\n",
       "      <td>-73.9425</td>\n",
       "      <td>5ba989232d0489da1b5f2c45f6688adc</td>\n",
       "      <td>[https://photos.renthop.com/2/7211212_1ed4542e...</td>\n",
       "      <td>3000</td>\n",
       "      <td>792 Metropolitan Avenue</td>\n",
       "      <td>0.063465</td>\n",
       "    </tr>\n",
       "    <tr>\n",
       "      <th>10000</th>\n",
       "      <td>1.0</td>\n",
       "      <td>2</td>\n",
       "      <td>c5c8a357cba207596b04d1afd1e4f130</td>\n",
       "      <td>2016-06-12 12:19:27</td>\n",
       "      <td></td>\n",
       "      <td>Columbus Avenue</td>\n",
       "      <td>[Doorman, Elevator, Fitness Center, Cats Allow...</td>\n",
       "      <td>low</td>\n",
       "      <td>40.7947</td>\n",
       "      <td>7150865</td>\n",
       "      <td>-73.9667</td>\n",
       "      <td>7533621a882f71e25173b27e3139d83d</td>\n",
       "      <td>[https://photos.renthop.com/2/7150865_be3306c5...</td>\n",
       "      <td>5465</td>\n",
       "      <td>808 Columbus Avenue</td>\n",
       "      <td>0.090830</td>\n",
       "    </tr>\n",
       "    <tr>\n",
       "      <th>100004</th>\n",
       "      <td>1.0</td>\n",
       "      <td>1</td>\n",
       "      <td>c3ba40552e2120b0acfc3cb5730bb2aa</td>\n",
       "      <td>2016-04-17 03:26:41</td>\n",
       "      <td>Top Top West Village location, beautiful Pre-w...</td>\n",
       "      <td>W 13 Street</td>\n",
       "      <td>[Laundry In Building, Dishwasher, Hardwood Flo...</td>\n",
       "      <td>high</td>\n",
       "      <td>40.7388</td>\n",
       "      <td>6887163</td>\n",
       "      <td>-74.0018</td>\n",
       "      <td>d9039c43983f6e564b1482b273bd7b01</td>\n",
       "      <td>[https://photos.renthop.com/2/6887163_de85c427...</td>\n",
       "      <td>2850</td>\n",
       "      <td>241 W 13 Street</td>\n",
       "      <td>0.026344</td>\n",
       "    </tr>\n",
       "    <tr>\n",
       "      <th>100007</th>\n",
       "      <td>1.0</td>\n",
       "      <td>1</td>\n",
       "      <td>28d9ad350afeaab8027513a3e52ac8d5</td>\n",
       "      <td>2016-04-18 02:22:02</td>\n",
       "      <td>Building Amenities - Garage - Garden - fitness...</td>\n",
       "      <td>East 49th Street</td>\n",
       "      <td>[Hardwood Floors, No Fee]</td>\n",
       "      <td>low</td>\n",
       "      <td>40.7539</td>\n",
       "      <td>6888711</td>\n",
       "      <td>-73.9677</td>\n",
       "      <td>1067e078446a7897d2da493d2f741316</td>\n",
       "      <td>[https://photos.renthop.com/2/6888711_6e660cee...</td>\n",
       "      <td>3275</td>\n",
       "      <td>333 East 49th Street</td>\n",
       "      <td>0.056151</td>\n",
       "    </tr>\n",
       "    <tr>\n",
       "      <th>100013</th>\n",
       "      <td>1.0</td>\n",
       "      <td>4</td>\n",
       "      <td>0</td>\n",
       "      <td>2016-04-28 01:32:41</td>\n",
       "      <td>Beautifully renovated 3 bedroom flex 4 bedroom...</td>\n",
       "      <td>West 143rd Street</td>\n",
       "      <td>[Pre-War]</td>\n",
       "      <td>low</td>\n",
       "      <td>40.8241</td>\n",
       "      <td>6934781</td>\n",
       "      <td>-73.9493</td>\n",
       "      <td>98e13ad4b495b9613cef886d79a6291f</td>\n",
       "      <td>[https://photos.renthop.com/2/6934781_1fa4b41a...</td>\n",
       "      <td>3350</td>\n",
       "      <td>500 West 143rd Street</td>\n",
       "      <td>0.124898</td>\n",
       "    </tr>\n",
       "  </tbody>\n",
       "</table>\n",
       "</div>"
      ],
      "text/plain": [
       "        bathrooms  bedrooms                       building_id  \\\n",
       "10            1.5         3  53a5b119ba8f7b61d4e010512e0dfc85   \n",
       "10000         1.0         2  c5c8a357cba207596b04d1afd1e4f130   \n",
       "100004        1.0         1  c3ba40552e2120b0acfc3cb5730bb2aa   \n",
       "100007        1.0         1  28d9ad350afeaab8027513a3e52ac8d5   \n",
       "100013        1.0         4                                 0   \n",
       "\n",
       "                    created  \\\n",
       "10      2016-06-24 07:54:24   \n",
       "10000   2016-06-12 12:19:27   \n",
       "100004  2016-04-17 03:26:41   \n",
       "100007  2016-04-18 02:22:02   \n",
       "100013  2016-04-28 01:32:41   \n",
       "\n",
       "                                              description  \\\n",
       "10      A Brand New 3 Bedroom 1.5 bath ApartmentEnjoy ...   \n",
       "10000                                                       \n",
       "100004  Top Top West Village location, beautiful Pre-w...   \n",
       "100007  Building Amenities - Garage - Garden - fitness...   \n",
       "100013  Beautifully renovated 3 bedroom flex 4 bedroom...   \n",
       "\n",
       "            display_address  \\\n",
       "10      Metropolitan Avenue   \n",
       "10000       Columbus Avenue   \n",
       "100004          W 13 Street   \n",
       "100007     East 49th Street   \n",
       "100013    West 143rd Street   \n",
       "\n",
       "                                                 features interest_level  \\\n",
       "10                                                     []         medium   \n",
       "10000   [Doorman, Elevator, Fitness Center, Cats Allow...            low   \n",
       "100004  [Laundry In Building, Dishwasher, Hardwood Flo...           high   \n",
       "100007                          [Hardwood Floors, No Fee]            low   \n",
       "100013                                          [Pre-War]            low   \n",
       "\n",
       "        latitude  listing_id  longitude                        manager_id  \\\n",
       "10       40.7145     7211212   -73.9425  5ba989232d0489da1b5f2c45f6688adc   \n",
       "10000    40.7947     7150865   -73.9667  7533621a882f71e25173b27e3139d83d   \n",
       "100004   40.7388     6887163   -74.0018  d9039c43983f6e564b1482b273bd7b01   \n",
       "100007   40.7539     6888711   -73.9677  1067e078446a7897d2da493d2f741316   \n",
       "100013   40.8241     6934781   -73.9493  98e13ad4b495b9613cef886d79a6291f   \n",
       "\n",
       "                                                   photos  price  \\\n",
       "10      [https://photos.renthop.com/2/7211212_1ed4542e...   3000   \n",
       "10000   [https://photos.renthop.com/2/7150865_be3306c5...   5465   \n",
       "100004  [https://photos.renthop.com/2/6887163_de85c427...   2850   \n",
       "100007  [https://photos.renthop.com/2/6888711_6e660cee...   3275   \n",
       "100013  [https://photos.renthop.com/2/6934781_1fa4b41a...   3350   \n",
       "\n",
       "                 street_address  distance_city  \n",
       "10      792 Metropolitan Avenue       0.063465  \n",
       "10000       808 Columbus Avenue       0.090830  \n",
       "100004          241 W 13 Street       0.026344  \n",
       "100007     333 East 49th Street       0.056151  \n",
       "100013    500 West 143rd Street       0.124898  "
      ]
     },
     "execution_count": 139,
     "metadata": {},
     "output_type": "execute_result"
    }
   ],
   "source": [
    "t1.head(5)"
   ]
  },
  {
   "cell_type": "code",
   "execution_count": 4,
   "metadata": {
    "collapsed": true
   },
   "outputs": [],
   "source": [
    "s1 = pd.read_json('../input/test.json')"
   ]
  },
  {
   "cell_type": "code",
   "execution_count": 5,
   "metadata": {
    "collapsed": false
   },
   "outputs": [],
   "source": [
    "t1['features'] = t1[\"features\"].apply(lambda x: \" \".join([\"_\".join(i.lower().split(\" \")) for i in x]))\n",
    "s1['features'] = s1[\"features\"].apply(lambda x: \" \".join([\"_\".join(i.lower().split(\" \")) for i in x]))"
   ]
  },
  {
   "cell_type": "code",
   "execution_count": 6,
   "metadata": {
    "collapsed": false
   },
   "outputs": [
    {
     "data": {
      "text/plain": [
       "'doorman elevator fitness_center cats_allowed dogs_allowed'"
      ]
     },
     "execution_count": 6,
     "metadata": {},
     "output_type": "execute_result"
    }
   ],
   "source": [
    "t1.features.iloc[1]"
   ]
  },
  {
   "cell_type": "code",
   "execution_count": 13,
   "metadata": {
    "collapsed": true
   },
   "outputs": [],
   "source": [
    "import pandas as pd\n",
    "from sklearn.feature_extraction.text import CountVectorizer \n",
    "\n",
    "def fn_tdm_df(docs, xColNames = None, **kwargs):\n",
    "    ''' create a term document matrix as pandas DataFrame\n",
    "    with **kwargs you can pass arguments of CountVectorizer\n",
    "    if xColNames is given the dataframe gets columns Names'''\n",
    "\n",
    "    #initialize the  vectorizer\n",
    "    vectorizer = CountVectorizer(**kwargs)\n",
    "    x1 = vectorizer.fit_transform(docs)\n",
    "    #create dataFrame\n",
    "    df = pd.DataFrame(x1.todense())\n",
    "    df.columns = vectorizer.get_feature_names()\n",
    "    if xColNames is not None:\n",
    "        df.columns = xColNames\n",
    "\n",
    "    return df"
   ]
  },
  {
   "cell_type": "code",
   "execution_count": 14,
   "metadata": {
    "collapsed": false
   },
   "outputs": [],
   "source": [
    "ts1_feats = fn_tdm_df(list(t1['features']) + list(s1['features']), stop_words='english', max_features=150)"
   ]
  },
  {
   "cell_type": "code",
   "execution_count": 16,
   "metadata": {
    "collapsed": false
   },
   "outputs": [
    {
     "data": {
      "text/plain": [
       "(124011, 150)"
      ]
     },
     "execution_count": 16,
     "metadata": {},
     "output_type": "execute_result"
    }
   ],
   "source": [
    "ts1_feats.shape"
   ]
  },
  {
   "cell_type": "code",
   "execution_count": 11,
   "metadata": {
    "collapsed": false
   },
   "outputs": [
    {
     "data": {
      "text/plain": [
       "[[640, 426], [600, 387], [360, 240]]"
      ]
     },
     "execution_count": 11,
     "metadata": {},
     "output_type": "execute_result"
    }
   ],
   "source": [
    "import json\n",
    "with open('../best-plantsgo/input_plantsgo/jpgs.json') as json_data:\n",
    "    photo_sizes = json.load(json_data)\n",
    "keys = list(photo_sizes.keys())\n",
    "photo_sizes[keys[1]]"
   ]
  },
  {
   "cell_type": "code",
   "execution_count": 19,
   "metadata": {
    "collapsed": true
   },
   "outputs": [],
   "source": [
    "img_size_dic = {}\n",
    "for key in photo_sizes.keys():\n",
    "    img_list = photo_sizes[key]\n",
    "    if img_list:\n",
    "        mean_size = np.mean([np.prod(img) for img in img_list])\n",
    "    else:\n",
    "        mean_size = 0\n",
    "    img_size_dic[key] = mean_size\n",
    "t1['img_sizes_mean'] = [img_size_dic.get(str(key), 0) for key in t1['listing_id']]"
   ]
  },
  {
   "cell_type": "code",
   "execution_count": 20,
   "metadata": {
    "collapsed": false
   },
   "outputs": [
    {
     "data": {
      "text/html": [
       "<div>\n",
       "<table border=\"1\" class=\"dataframe\">\n",
       "  <thead>\n",
       "    <tr style=\"text-align: right;\">\n",
       "      <th></th>\n",
       "      <th>listing_id</th>\n",
       "      <th>img_sizes_mean</th>\n",
       "    </tr>\n",
       "  </thead>\n",
       "  <tbody>\n",
       "    <tr>\n",
       "      <th>10</th>\n",
       "      <td>7211212</td>\n",
       "      <td>272640.000000</td>\n",
       "    </tr>\n",
       "    <tr>\n",
       "      <th>10000</th>\n",
       "      <td>7150865</td>\n",
       "      <td>248158.454545</td>\n",
       "    </tr>\n",
       "    <tr>\n",
       "      <th>100004</th>\n",
       "      <td>6887163</td>\n",
       "      <td>306560.000000</td>\n",
       "    </tr>\n",
       "    <tr>\n",
       "      <th>100007</th>\n",
       "      <td>6888711</td>\n",
       "      <td>307200.000000</td>\n",
       "    </tr>\n",
       "    <tr>\n",
       "      <th>100013</th>\n",
       "      <td>6934781</td>\n",
       "      <td>307200.000000</td>\n",
       "    </tr>\n",
       "    <tr>\n",
       "      <th>100014</th>\n",
       "      <td>6894514</td>\n",
       "      <td>286635.200000</td>\n",
       "    </tr>\n",
       "    <tr>\n",
       "      <th>100016</th>\n",
       "      <td>6930771</td>\n",
       "      <td>306560.000000</td>\n",
       "    </tr>\n",
       "    <tr>\n",
       "      <th>100020</th>\n",
       "      <td>6867392</td>\n",
       "      <td>252300.000000</td>\n",
       "    </tr>\n",
       "    <tr>\n",
       "      <th>100026</th>\n",
       "      <td>6898799</td>\n",
       "      <td>307200.000000</td>\n",
       "    </tr>\n",
       "    <tr>\n",
       "      <th>100027</th>\n",
       "      <td>6814332</td>\n",
       "      <td>276480.000000</td>\n",
       "    </tr>\n",
       "    <tr>\n",
       "      <th>100030</th>\n",
       "      <td>6869199</td>\n",
       "      <td>307200.000000</td>\n",
       "    </tr>\n",
       "    <tr>\n",
       "      <th>10004</th>\n",
       "      <td>7102986</td>\n",
       "      <td>306560.000000</td>\n",
       "    </tr>\n",
       "    <tr>\n",
       "      <th>100044</th>\n",
       "      <td>6895442</td>\n",
       "      <td>208640.000000</td>\n",
       "    </tr>\n",
       "    <tr>\n",
       "      <th>100048</th>\n",
       "      <td>6846213</td>\n",
       "      <td>264149.333333</td>\n",
       "    </tr>\n",
       "    <tr>\n",
       "      <th>10005</th>\n",
       "      <td>7089402</td>\n",
       "      <td>273065.833333</td>\n",
       "    </tr>\n",
       "    <tr>\n",
       "      <th>100051</th>\n",
       "      <td>6889043</td>\n",
       "      <td>289920.000000</td>\n",
       "    </tr>\n",
       "    <tr>\n",
       "      <th>100052</th>\n",
       "      <td>6913348</td>\n",
       "      <td>272000.000000</td>\n",
       "    </tr>\n",
       "    <tr>\n",
       "      <th>100053</th>\n",
       "      <td>6894111</td>\n",
       "      <td>307120.000000</td>\n",
       "    </tr>\n",
       "    <tr>\n",
       "      <th>100055</th>\n",
       "      <td>6900220</td>\n",
       "      <td>0.000000</td>\n",
       "    </tr>\n",
       "    <tr>\n",
       "      <th>100058</th>\n",
       "      <td>6848536</td>\n",
       "      <td>234112.500000</td>\n",
       "    </tr>\n",
       "  </tbody>\n",
       "</table>\n",
       "</div>"
      ],
      "text/plain": [
       "        listing_id  img_sizes_mean\n",
       "10         7211212   272640.000000\n",
       "10000      7150865   248158.454545\n",
       "100004     6887163   306560.000000\n",
       "100007     6888711   307200.000000\n",
       "100013     6934781   307200.000000\n",
       "100014     6894514   286635.200000\n",
       "100016     6930771   306560.000000\n",
       "100020     6867392   252300.000000\n",
       "100026     6898799   307200.000000\n",
       "100027     6814332   276480.000000\n",
       "100030     6869199   307200.000000\n",
       "10004      7102986   306560.000000\n",
       "100044     6895442   208640.000000\n",
       "100048     6846213   264149.333333\n",
       "10005      7089402   273065.833333\n",
       "100051     6889043   289920.000000\n",
       "100052     6913348   272000.000000\n",
       "100053     6894111   307120.000000\n",
       "100055     6900220        0.000000\n",
       "100058     6848536   234112.500000"
      ]
     },
     "execution_count": 20,
     "metadata": {},
     "output_type": "execute_result"
    }
   ],
   "source": [
    "t1.loc[:, ['listing_id', 'img_sizes_mean']].head(20)"
   ]
  },
  {
   "cell_type": "code",
   "execution_count": 21,
   "metadata": {
    "collapsed": true
   },
   "outputs": [],
   "source": [
    "import json\n",
    "with open(\"../best-plantsgo/input_plantsgo/jpgs.json\", \"r\") as f:\n",
    "    data = f.read()\n",
    "\n",
    "data = json.loads(data)\n",
    "img_dic = {}\n",
    "for i in data.keys():\n",
    "    img_list = data[i]\n",
    "    shape_list = []\n",
    "    for img in img_list:\n",
    "        shape = img[0] * img[1]\n",
    "        shape_list.append(shape)\n",
    "    leng = len(img_list)\n",
    "    try:\n",
    "        img_dic[int(i)] = sum(shape_list) / leng\n",
    "    except:\n",
    "        img_dic[int(i)] = 0"
   ]
  },
  {
   "cell_type": "code",
   "execution_count": 23,
   "metadata": {
    "collapsed": false
   },
   "outputs": [
    {
     "data": {
      "text/html": [
       "<div>\n",
       "<table border=\"1\" class=\"dataframe\">\n",
       "  <thead>\n",
       "    <tr style=\"text-align: right;\">\n",
       "      <th></th>\n",
       "      <th>listing_id</th>\n",
       "      <th>pic_mean</th>\n",
       "    </tr>\n",
       "  </thead>\n",
       "  <tbody>\n",
       "    <tr>\n",
       "      <th>10</th>\n",
       "      <td>7211212</td>\n",
       "      <td>272640.000000</td>\n",
       "    </tr>\n",
       "    <tr>\n",
       "      <th>10000</th>\n",
       "      <td>7150865</td>\n",
       "      <td>248158.454545</td>\n",
       "    </tr>\n",
       "    <tr>\n",
       "      <th>100004</th>\n",
       "      <td>6887163</td>\n",
       "      <td>306560.000000</td>\n",
       "    </tr>\n",
       "    <tr>\n",
       "      <th>100007</th>\n",
       "      <td>6888711</td>\n",
       "      <td>307200.000000</td>\n",
       "    </tr>\n",
       "    <tr>\n",
       "      <th>100013</th>\n",
       "      <td>6934781</td>\n",
       "      <td>307200.000000</td>\n",
       "    </tr>\n",
       "    <tr>\n",
       "      <th>100014</th>\n",
       "      <td>6894514</td>\n",
       "      <td>286635.200000</td>\n",
       "    </tr>\n",
       "    <tr>\n",
       "      <th>100016</th>\n",
       "      <td>6930771</td>\n",
       "      <td>306560.000000</td>\n",
       "    </tr>\n",
       "    <tr>\n",
       "      <th>100020</th>\n",
       "      <td>6867392</td>\n",
       "      <td>252300.000000</td>\n",
       "    </tr>\n",
       "    <tr>\n",
       "      <th>100026</th>\n",
       "      <td>6898799</td>\n",
       "      <td>307200.000000</td>\n",
       "    </tr>\n",
       "    <tr>\n",
       "      <th>100027</th>\n",
       "      <td>6814332</td>\n",
       "      <td>276480.000000</td>\n",
       "    </tr>\n",
       "    <tr>\n",
       "      <th>100030</th>\n",
       "      <td>6869199</td>\n",
       "      <td>307200.000000</td>\n",
       "    </tr>\n",
       "    <tr>\n",
       "      <th>10004</th>\n",
       "      <td>7102986</td>\n",
       "      <td>306560.000000</td>\n",
       "    </tr>\n",
       "    <tr>\n",
       "      <th>100044</th>\n",
       "      <td>6895442</td>\n",
       "      <td>208640.000000</td>\n",
       "    </tr>\n",
       "    <tr>\n",
       "      <th>100048</th>\n",
       "      <td>6846213</td>\n",
       "      <td>264149.333333</td>\n",
       "    </tr>\n",
       "    <tr>\n",
       "      <th>10005</th>\n",
       "      <td>7089402</td>\n",
       "      <td>273065.833333</td>\n",
       "    </tr>\n",
       "    <tr>\n",
       "      <th>100051</th>\n",
       "      <td>6889043</td>\n",
       "      <td>289920.000000</td>\n",
       "    </tr>\n",
       "    <tr>\n",
       "      <th>100052</th>\n",
       "      <td>6913348</td>\n",
       "      <td>272000.000000</td>\n",
       "    </tr>\n",
       "    <tr>\n",
       "      <th>100053</th>\n",
       "      <td>6894111</td>\n",
       "      <td>307120.000000</td>\n",
       "    </tr>\n",
       "    <tr>\n",
       "      <th>100055</th>\n",
       "      <td>6900220</td>\n",
       "      <td>0.000000</td>\n",
       "    </tr>\n",
       "    <tr>\n",
       "      <th>100058</th>\n",
       "      <td>6848536</td>\n",
       "      <td>234112.500000</td>\n",
       "    </tr>\n",
       "  </tbody>\n",
       "</table>\n",
       "</div>"
      ],
      "text/plain": [
       "        listing_id       pic_mean\n",
       "10         7211212  272640.000000\n",
       "10000      7150865  248158.454545\n",
       "100004     6887163  306560.000000\n",
       "100007     6888711  307200.000000\n",
       "100013     6934781  307200.000000\n",
       "100014     6894514  286635.200000\n",
       "100016     6930771  306560.000000\n",
       "100020     6867392  252300.000000\n",
       "100026     6898799  307200.000000\n",
       "100027     6814332  276480.000000\n",
       "100030     6869199  307200.000000\n",
       "10004      7102986  306560.000000\n",
       "100044     6895442  208640.000000\n",
       "100048     6846213  264149.333333\n",
       "10005      7089402  273065.833333\n",
       "100051     6889043  289920.000000\n",
       "100052     6913348  272000.000000\n",
       "100053     6894111  307120.000000\n",
       "100055     6900220       0.000000\n",
       "100058     6848536  234112.500000"
      ]
     },
     "execution_count": 23,
     "metadata": {},
     "output_type": "execute_result"
    }
   ],
   "source": [
    "t1[\"pic_mean\"]=list(map(lambda x:img_dic.get(x,0),t1[\"listing_id\"]))\n",
    "t1.loc[:, ['listing_id', 'pic_mean']].head(20)"
   ]
  },
  {
   "cell_type": "code",
   "execution_count": 34,
   "metadata": {
    "collapsed": false
   },
   "outputs": [],
   "source": [
    "time_stamp = pd.read_csv('../input/listing_image_time.csv')\n",
    "t1 = t1.merge(time_stamp, left_on='listing_id', right_on='Listing_Id').drop('Listing_Id', axis=1)"
   ]
  },
  {
   "cell_type": "code",
   "execution_count": 35,
   "metadata": {
    "collapsed": false
   },
   "outputs": [
    {
     "data": {
      "text/html": [
       "<div>\n",
       "<table border=\"1\" class=\"dataframe\">\n",
       "  <thead>\n",
       "    <tr style=\"text-align: right;\">\n",
       "      <th></th>\n",
       "      <th>bathrooms</th>\n",
       "      <th>bedrooms</th>\n",
       "      <th>building_id</th>\n",
       "      <th>created</th>\n",
       "      <th>description</th>\n",
       "      <th>display_address</th>\n",
       "      <th>features</th>\n",
       "      <th>interest_level</th>\n",
       "      <th>latitude</th>\n",
       "      <th>listing_id</th>\n",
       "      <th>longitude</th>\n",
       "      <th>manager_id</th>\n",
       "      <th>photos</th>\n",
       "      <th>price</th>\n",
       "      <th>street_address</th>\n",
       "      <th>time_stamp</th>\n",
       "    </tr>\n",
       "  </thead>\n",
       "  <tbody>\n",
       "    <tr>\n",
       "      <th>0</th>\n",
       "      <td>1.5</td>\n",
       "      <td>3</td>\n",
       "      <td>53a5b119ba8f7b61d4e010512e0dfc85</td>\n",
       "      <td>2016-06-24 07:54:24</td>\n",
       "      <td>A Brand New 3 Bedroom 1.5 bath ApartmentEnjoy ...</td>\n",
       "      <td>Metropolitan Avenue</td>\n",
       "      <td>[]</td>\n",
       "      <td>medium</td>\n",
       "      <td>40.7145</td>\n",
       "      <td>7211212</td>\n",
       "      <td>-73.9425</td>\n",
       "      <td>5ba989232d0489da1b5f2c45f6688adc</td>\n",
       "      <td>[https://photos.renthop.com/2/7211212_1ed4542e...</td>\n",
       "      <td>3000</td>\n",
       "      <td>792 Metropolitan Avenue</td>\n",
       "      <td>1478091590</td>\n",
       "    </tr>\n",
       "    <tr>\n",
       "      <th>1</th>\n",
       "      <td>1.0</td>\n",
       "      <td>2</td>\n",
       "      <td>c5c8a357cba207596b04d1afd1e4f130</td>\n",
       "      <td>2016-06-12 12:19:27</td>\n",
       "      <td></td>\n",
       "      <td>Columbus Avenue</td>\n",
       "      <td>[Doorman, Elevator, Fitness Center, Cats Allow...</td>\n",
       "      <td>low</td>\n",
       "      <td>40.7947</td>\n",
       "      <td>7150865</td>\n",
       "      <td>-73.9667</td>\n",
       "      <td>7533621a882f71e25173b27e3139d83d</td>\n",
       "      <td>[https://photos.renthop.com/2/7150865_be3306c5...</td>\n",
       "      <td>5465</td>\n",
       "      <td>808 Columbus Avenue</td>\n",
       "      <td>1478129766</td>\n",
       "    </tr>\n",
       "    <tr>\n",
       "      <th>2</th>\n",
       "      <td>1.0</td>\n",
       "      <td>1</td>\n",
       "      <td>c3ba40552e2120b0acfc3cb5730bb2aa</td>\n",
       "      <td>2016-04-17 03:26:41</td>\n",
       "      <td>Top Top West Village location, beautiful Pre-w...</td>\n",
       "      <td>W 13 Street</td>\n",
       "      <td>[Laundry In Building, Dishwasher, Hardwood Flo...</td>\n",
       "      <td>high</td>\n",
       "      <td>40.7388</td>\n",
       "      <td>6887163</td>\n",
       "      <td>-74.0018</td>\n",
       "      <td>d9039c43983f6e564b1482b273bd7b01</td>\n",
       "      <td>[https://photos.renthop.com/2/6887163_de85c427...</td>\n",
       "      <td>2850</td>\n",
       "      <td>241 W 13 Street</td>\n",
       "      <td>1478714436</td>\n",
       "    </tr>\n",
       "  </tbody>\n",
       "</table>\n",
       "</div>"
      ],
      "text/plain": [
       "   bathrooms  bedrooms                       building_id              created  \\\n",
       "0        1.5         3  53a5b119ba8f7b61d4e010512e0dfc85  2016-06-24 07:54:24   \n",
       "1        1.0         2  c5c8a357cba207596b04d1afd1e4f130  2016-06-12 12:19:27   \n",
       "2        1.0         1  c3ba40552e2120b0acfc3cb5730bb2aa  2016-04-17 03:26:41   \n",
       "\n",
       "                                         description      display_address  \\\n",
       "0  A Brand New 3 Bedroom 1.5 bath ApartmentEnjoy ...  Metropolitan Avenue   \n",
       "1                                                         Columbus Avenue   \n",
       "2  Top Top West Village location, beautiful Pre-w...          W 13 Street   \n",
       "\n",
       "                                            features interest_level  latitude  \\\n",
       "0                                                 []         medium   40.7145   \n",
       "1  [Doorman, Elevator, Fitness Center, Cats Allow...            low   40.7947   \n",
       "2  [Laundry In Building, Dishwasher, Hardwood Flo...           high   40.7388   \n",
       "\n",
       "   listing_id  longitude                        manager_id  \\\n",
       "0     7211212   -73.9425  5ba989232d0489da1b5f2c45f6688adc   \n",
       "1     7150865   -73.9667  7533621a882f71e25173b27e3139d83d   \n",
       "2     6887163   -74.0018  d9039c43983f6e564b1482b273bd7b01   \n",
       "\n",
       "                                              photos  price  \\\n",
       "0  [https://photos.renthop.com/2/7211212_1ed4542e...   3000   \n",
       "1  [https://photos.renthop.com/2/7150865_be3306c5...   5465   \n",
       "2  [https://photos.renthop.com/2/6887163_de85c427...   2850   \n",
       "\n",
       "            street_address  time_stamp  \n",
       "0  792 Metropolitan Avenue  1478091590  \n",
       "1      808 Columbus Avenue  1478129766  \n",
       "2          241 W 13 Street  1478714436  "
      ]
     },
     "execution_count": 35,
     "metadata": {},
     "output_type": "execute_result"
    }
   ],
   "source": [
    "t1.head(3)"
   ]
  },
  {
   "cell_type": "code",
   "execution_count": 36,
   "metadata": {
    "collapsed": false
   },
   "outputs": [
    {
     "data": {
      "text/plain": [
       "array(['bathrooms', 'bedrooms', 'building_id', 'created', 'description',\n",
       "       'display_address', 'features', 'interest_level', 'latitude',\n",
       "       'listing_id', 'longitude', 'manager_id', 'photos', 'price',\n",
       "       'street_address', 'time_stamp'], dtype=object)"
      ]
     },
     "execution_count": 36,
     "metadata": {},
     "output_type": "execute_result"
    }
   ],
   "source": [
    "t1.columns.values"
   ]
  },
  {
   "cell_type": "code",
   "execution_count": 83,
   "metadata": {
    "collapsed": false
   },
   "outputs": [
    {
     "name": "stdout",
     "output_type": "stream",
     "text": [
      "Loading features finished\n"
     ]
    }
   ],
   "source": [
    "basic_feat = pd.read_json('feat_input/basic_feat.json')\n",
    "longtime_feat = pd.read_csv('feat_input/longtime_feat.csv')\n",
    "encoded_feat = pd.read_csv('feat_input/feat_stats_encoding.csv')\n",
    "print('Loading features finished')\n",
    "\n",
    "all_feat = basic_feat.merge(longtime_feat, on='listing_id')\n",
    "all_feat = all_feat.merge(encoded_feat, on='listing_id')"
   ]
  },
  {
   "cell_type": "code",
   "execution_count": 84,
   "metadata": {
    "collapsed": false
   },
   "outputs": [],
   "source": [
    "from nltk.stem.snowball import SnowballStemmer\n",
    "stemmer = SnowballStemmer('english')\n",
    "\n",
    "all_feat['features'] = all_feat['features'].apply(lambda x: [stemmer.stem(y) for y in x])\n",
    "all_feat['features'] = all_feat['features'].apply(lambda x: ['_'.join(['feature'] + y.split()) for y in x])\n",
    "all_feat['features'] = all_feat['features'].apply(lambda x: ' '.join(x))"
   ]
  },
  {
   "cell_type": "code",
   "execution_count": 85,
   "metadata": {
    "collapsed": false
   },
   "outputs": [],
   "source": [
    "pd.options.display.max_columns = 999\n",
    "pd.options.display.max_rows = 999"
   ]
  },
  {
   "cell_type": "code",
   "execution_count": 88,
   "metadata": {
    "collapsed": false
   },
   "outputs": [
    {
     "data": {
      "text/html": [
       "<div>\n",
       "<style>\n",
       "    .dataframe thead tr:only-child th {\n",
       "        text-align: right;\n",
       "    }\n",
       "\n",
       "    .dataframe thead th {\n",
       "        text-align: left;\n",
       "    }\n",
       "\n",
       "    .dataframe tbody tr th {\n",
       "        vertical-align: top;\n",
       "    }\n",
       "</style>\n",
       "<table border=\"1\" class=\"dataframe\">\n",
       "  <thead>\n",
       "    <tr style=\"text-align: right;\">\n",
       "      <th></th>\n",
       "      <th>bathrooms</th>\n",
       "      <th>bed_bath_dif</th>\n",
       "      <th>bed_bath_rt</th>\n",
       "      <th>bed_bath_sum</th>\n",
       "      <th>bed_room_rt</th>\n",
       "      <th>bedrooms</th>\n",
       "      <th>building_id</th>\n",
       "      <th>created_day</th>\n",
       "      <th>created_hour</th>\n",
       "      <th>created_month</th>\n",
       "      <th>day_of_week</th>\n",
       "      <th>day_of_year</th>\n",
       "      <th>desc_wordcount</th>\n",
       "      <th>display_address</th>\n",
       "      <th>distance_city</th>\n",
       "      <th>feature_num</th>\n",
       "      <th>features</th>\n",
       "      <th>img_sizes_mean</th>\n",
       "      <th>interest_level</th>\n",
       "      <th>latitude</th>\n",
       "      <th>listing_id</th>\n",
       "      <th>longitude</th>\n",
       "      <th>manager_id</th>\n",
       "      <th>photo_num</th>\n",
       "      <th>price</th>\n",
       "      <th>price_bath_rt</th>\n",
       "      <th>price_bed_rt</th>\n",
       "      <th>price_room_rt</th>\n",
       "      <th>street_address</th>\n",
       "      <th>time_stamp</th>\n",
       "      <th>jwd_type_low_than_num</th>\n",
       "      <th>jwd_type_all</th>\n",
       "      <th>jwd_type_rt</th>\n",
       "      <th>building_zero_num</th>\n",
       "      <th>bathrooms_size_manager_id</th>\n",
       "      <th>bathrooms_mean_manager_id</th>\n",
       "      <th>bathrooms_std_manager_id</th>\n",
       "      <th>bathrooms_median_manager_id</th>\n",
       "      <th>bathrooms_max_manager_id</th>\n",
       "      <th>bathrooms_min_manager_id</th>\n",
       "      <th>bedrooms_size_manager_id</th>\n",
       "      <th>bedrooms_mean_manager_id</th>\n",
       "      <th>bedrooms_std_manager_id</th>\n",
       "      <th>bedrooms_median_manager_id</th>\n",
       "      <th>bedrooms_max_manager_id</th>\n",
       "      <th>bedrooms_min_manager_id</th>\n",
       "      <th>latitude_size_manager_id</th>\n",
       "      <th>latitude_mean_manager_id</th>\n",
       "      <th>latitude_std_manager_id</th>\n",
       "      <th>latitude_median_manager_id</th>\n",
       "      <th>latitude_max_manager_id</th>\n",
       "      <th>latitude_min_manager_id</th>\n",
       "      <th>longitude_size_manager_id</th>\n",
       "      <th>longitude_mean_manager_id</th>\n",
       "      <th>longitude_std_manager_id</th>\n",
       "      <th>longitude_median_manager_id</th>\n",
       "      <th>longitude_max_manager_id</th>\n",
       "      <th>longitude_min_manager_id</th>\n",
       "      <th>price_size_manager_id</th>\n",
       "      <th>price_mean_manager_id</th>\n",
       "      <th>price_std_manager_id</th>\n",
       "      <th>price_median_manager_id</th>\n",
       "      <th>price_max_manager_id</th>\n",
       "      <th>price_min_manager_id</th>\n",
       "      <th>distance_city_size_manager_id</th>\n",
       "      <th>distance_city_mean_manager_id</th>\n",
       "      <th>distance_city_std_manager_id</th>\n",
       "      <th>distance_city_median_manager_id</th>\n",
       "      <th>distance_city_max_manager_id</th>\n",
       "      <th>distance_city_min_manager_id</th>\n",
       "      <th>price_size_bedrooms</th>\n",
       "      <th>price_mean_bedrooms</th>\n",
       "      <th>price_std_bedrooms</th>\n",
       "      <th>price_median_bedrooms</th>\n",
       "      <th>price_max_bedrooms</th>\n",
       "      <th>price_min_bedrooms</th>\n",
       "      <th>bathrooms_size_bedrooms</th>\n",
       "      <th>bathrooms_mean_bedrooms</th>\n",
       "      <th>bathrooms_std_bedrooms</th>\n",
       "      <th>bathrooms_median_bedrooms</th>\n",
       "      <th>bathrooms_max_bedrooms</th>\n",
       "      <th>bathrooms_min_bedrooms</th>\n",
       "      <th>price_size_bathrooms</th>\n",
       "      <th>price_mean_bathrooms</th>\n",
       "      <th>price_std_bathrooms</th>\n",
       "      <th>price_median_bathrooms</th>\n",
       "      <th>price_max_bathrooms</th>\n",
       "      <th>price_min_bathrooms</th>\n",
       "      <th>manager_id_low</th>\n",
       "      <th>manager_id_medium</th>\n",
       "      <th>manager_id_high</th>\n",
       "      <th>price_manager_id_mean_pred_0</th>\n",
       "      <th>price_manager_id_mean_pred_1</th>\n",
       "      <th>price_manager_id_mean_pred_2</th>\n",
       "    </tr>\n",
       "  </thead>\n",
       "  <tbody>\n",
       "    <tr>\n",
       "      <th>0</th>\n",
       "      <td>1.5</td>\n",
       "      <td>1.5</td>\n",
       "      <td>2.0</td>\n",
       "      <td>4.5</td>\n",
       "      <td>0.666667</td>\n",
       "      <td>3</td>\n",
       "      <td>53a5b119ba8f7b61d4e010512e0dfc85</td>\n",
       "      <td>24</td>\n",
       "      <td>7</td>\n",
       "      <td>6</td>\n",
       "      <td>4</td>\n",
       "      <td>176</td>\n",
       "      <td>95</td>\n",
       "      <td>Metropolitan Avenue</td>\n",
       "      <td>0.063465</td>\n",
       "      <td>0</td>\n",
       "      <td></td>\n",
       "      <td>272640.000000</td>\n",
       "      <td>1</td>\n",
       "      <td>40.7145</td>\n",
       "      <td>7211212</td>\n",
       "      <td>-73.9425</td>\n",
       "      <td>5ba989232d0489da1b5f2c45f6688adc</td>\n",
       "      <td>5</td>\n",
       "      <td>3000</td>\n",
       "      <td>2000.0</td>\n",
       "      <td>1000.0</td>\n",
       "      <td>666.666667</td>\n",
       "      <td>792 Metropolitan Avenue</td>\n",
       "      <td>1478091590</td>\n",
       "      <td>3</td>\n",
       "      <td>8</td>\n",
       "      <td>0.375000</td>\n",
       "      <td>134</td>\n",
       "      <td>235</td>\n",
       "      <td>1.106383</td>\n",
       "      <td>0.305508</td>\n",
       "      <td>1.0</td>\n",
       "      <td>2.0</td>\n",
       "      <td>1.0</td>\n",
       "      <td>235</td>\n",
       "      <td>1.502128</td>\n",
       "      <td>0.935412</td>\n",
       "      <td>1.0</td>\n",
       "      <td>4</td>\n",
       "      <td>0</td>\n",
       "      <td>235</td>\n",
       "      <td>40.701596</td>\n",
       "      <td>0.025991</td>\n",
       "      <td>40.6989</td>\n",
       "      <td>40.8502</td>\n",
       "      <td>40.6455</td>\n",
       "      <td>235</td>\n",
       "      <td>-73.950168</td>\n",
       "      <td>0.022847</td>\n",
       "      <td>-73.95320</td>\n",
       "      <td>-73.8525</td>\n",
       "      <td>-73.9917</td>\n",
       "      <td>235</td>\n",
       "      <td>2541.914894</td>\n",
       "      <td>524.703572</td>\n",
       "      <td>2600.0</td>\n",
       "      <td>4400</td>\n",
       "      <td>1700</td>\n",
       "      <td>235</td>\n",
       "      <td>0.063195</td>\n",
       "      <td>0.020893</td>\n",
       "      <td>0.062504</td>\n",
       "      <td>0.155173</td>\n",
       "      <td>0.021933</td>\n",
       "      <td>18149</td>\n",
       "      <td>5101.319246</td>\n",
       "      <td>2997.884836</td>\n",
       "      <td>4500.0</td>\n",
       "      <td>90000</td>\n",
       "      <td>500</td>\n",
       "      <td>18149</td>\n",
       "      <td>1.585404</td>\n",
       "      <td>1.056916</td>\n",
       "      <td>1.5</td>\n",
       "      <td>112.0</td>\n",
       "      <td>0.0</td>\n",
       "      <td>1642</td>\n",
       "      <td>4220.228989</td>\n",
       "      <td>1289.434792</td>\n",
       "      <td>4122.5</td>\n",
       "      <td>12000</td>\n",
       "      <td>1600</td>\n",
       "      <td>0.727554</td>\n",
       "      <td>0.179567</td>\n",
       "      <td>0.092879</td>\n",
       "      <td>1834.666667</td>\n",
       "      <td>701.866667</td>\n",
       "      <td>0.0</td>\n",
       "    </tr>\n",
       "    <tr>\n",
       "      <th>1</th>\n",
       "      <td>1.0</td>\n",
       "      <td>1.0</td>\n",
       "      <td>2.0</td>\n",
       "      <td>3.0</td>\n",
       "      <td>0.666667</td>\n",
       "      <td>2</td>\n",
       "      <td>c5c8a357cba207596b04d1afd1e4f130</td>\n",
       "      <td>12</td>\n",
       "      <td>12</td>\n",
       "      <td>6</td>\n",
       "      <td>6</td>\n",
       "      <td>164</td>\n",
       "      <td>9</td>\n",
       "      <td>Columbus Avenue</td>\n",
       "      <td>0.090830</td>\n",
       "      <td>5</td>\n",
       "      <td>feature_doorman feature_elev feature_fitness_c...</td>\n",
       "      <td>248158.454545</td>\n",
       "      <td>0</td>\n",
       "      <td>40.7947</td>\n",
       "      <td>7150865</td>\n",
       "      <td>-73.9667</td>\n",
       "      <td>7533621a882f71e25173b27e3139d83d</td>\n",
       "      <td>11</td>\n",
       "      <td>5465</td>\n",
       "      <td>5465.0</td>\n",
       "      <td>2732.5</td>\n",
       "      <td>1821.666667</td>\n",
       "      <td>808 Columbus Avenue</td>\n",
       "      <td>1478129766</td>\n",
       "      <td>1546</td>\n",
       "      <td>1563</td>\n",
       "      <td>0.989123</td>\n",
       "      <td>983</td>\n",
       "      <td>194</td>\n",
       "      <td>1.360825</td>\n",
       "      <td>0.544603</td>\n",
       "      <td>1.0</td>\n",
       "      <td>3.5</td>\n",
       "      <td>0.0</td>\n",
       "      <td>194</td>\n",
       "      <td>1.623711</td>\n",
       "      <td>0.831787</td>\n",
       "      <td>1.0</td>\n",
       "      <td>5</td>\n",
       "      <td>0</td>\n",
       "      <td>194</td>\n",
       "      <td>40.755336</td>\n",
       "      <td>0.025488</td>\n",
       "      <td>40.7512</td>\n",
       "      <td>40.8051</td>\n",
       "      <td>40.7047</td>\n",
       "      <td>194</td>\n",
       "      <td>-73.985078</td>\n",
       "      <td>0.015970</td>\n",
       "      <td>-73.98715</td>\n",
       "      <td>-73.9438</td>\n",
       "      <td>-74.0148</td>\n",
       "      <td>194</td>\n",
       "      <td>5419.932990</td>\n",
       "      <td>1905.188512</td>\n",
       "      <td>4700.0</td>\n",
       "      <td>12995</td>\n",
       "      <td>1995</td>\n",
       "      <td>194</td>\n",
       "      <td>0.049146</td>\n",
       "      <td>0.027100</td>\n",
       "      <td>0.039343</td>\n",
       "      <td>0.101942</td>\n",
       "      <td>0.002745</td>\n",
       "      <td>37114</td>\n",
       "      <td>3988.552837</td>\n",
       "      <td>25610.353074</td>\n",
       "      <td>3350.0</td>\n",
       "      <td>4490000</td>\n",
       "      <td>1</td>\n",
       "      <td>37114</td>\n",
       "      <td>1.247023</td>\n",
       "      <td>0.458671</td>\n",
       "      <td>1.0</td>\n",
       "      <td>20.0</td>\n",
       "      <td>0.0</td>\n",
       "      <td>99086</td>\n",
       "      <td>3183.390015</td>\n",
       "      <td>17543.181907</td>\n",
       "      <td>2900.0</td>\n",
       "      <td>4490000</td>\n",
       "      <td>1</td>\n",
       "      <td>0.727554</td>\n",
       "      <td>0.179567</td>\n",
       "      <td>0.092879</td>\n",
       "      <td>5380.956522</td>\n",
       "      <td>28.913043</td>\n",
       "      <td>0.0</td>\n",
       "    </tr>\n",
       "    <tr>\n",
       "      <th>2</th>\n",
       "      <td>1.0</td>\n",
       "      <td>-1.0</td>\n",
       "      <td>0.0</td>\n",
       "      <td>1.0</td>\n",
       "      <td>0.000000</td>\n",
       "      <td>0</td>\n",
       "      <td>0</td>\n",
       "      <td>14</td>\n",
       "      <td>1</td>\n",
       "      <td>4</td>\n",
       "      <td>3</td>\n",
       "      <td>105</td>\n",
       "      <td>28</td>\n",
       "      <td>York Avenue</td>\n",
       "      <td>0.087295</td>\n",
       "      <td>0</td>\n",
       "      <td></td>\n",
       "      <td>307200.000000</td>\n",
       "      <td>0</td>\n",
       "      <td>40.7769</td>\n",
       "      <td>6869199</td>\n",
       "      <td>-73.9467</td>\n",
       "      <td>e32475a6134d6d18279946b7b20a0f12</td>\n",
       "      <td>1</td>\n",
       "      <td>1950</td>\n",
       "      <td>1950.0</td>\n",
       "      <td>-1.0</td>\n",
       "      <td>1950.000000</td>\n",
       "      <td>1661 York Avenue</td>\n",
       "      <td>1478714534</td>\n",
       "      <td>1507</td>\n",
       "      <td>3345</td>\n",
       "      <td>0.450523</td>\n",
       "      <td>1803</td>\n",
       "      <td>46</td>\n",
       "      <td>1.478261</td>\n",
       "      <td>0.809365</td>\n",
       "      <td>1.0</td>\n",
       "      <td>4.0</td>\n",
       "      <td>1.0</td>\n",
       "      <td>46</td>\n",
       "      <td>1.347826</td>\n",
       "      <td>1.215043</td>\n",
       "      <td>1.0</td>\n",
       "      <td>5</td>\n",
       "      <td>0</td>\n",
       "      <td>46</td>\n",
       "      <td>40.760400</td>\n",
       "      <td>0.015775</td>\n",
       "      <td>40.7596</td>\n",
       "      <td>40.7865</td>\n",
       "      <td>40.7243</td>\n",
       "      <td>46</td>\n",
       "      <td>-73.968461</td>\n",
       "      <td>0.012727</td>\n",
       "      <td>-73.96750</td>\n",
       "      <td>-73.9467</td>\n",
       "      <td>-74.0103</td>\n",
       "      <td>46</td>\n",
       "      <td>6240.826087</td>\n",
       "      <td>7464.901209</td>\n",
       "      <td>3450.0</td>\n",
       "      <td>45000</td>\n",
       "      <td>1950</td>\n",
       "      <td>46</td>\n",
       "      <td>0.060923</td>\n",
       "      <td>0.019246</td>\n",
       "      <td>0.062171</td>\n",
       "      <td>0.088904</td>\n",
       "      <td>0.012314</td>\n",
       "      <td>23564</td>\n",
       "      <td>2518.378925</td>\n",
       "      <td>3476.750266</td>\n",
       "      <td>2400.0</td>\n",
       "      <td>469000</td>\n",
       "      <td>43</td>\n",
       "      <td>23564</td>\n",
       "      <td>0.986717</td>\n",
       "      <td>0.148746</td>\n",
       "      <td>1.0</td>\n",
       "      <td>4.0</td>\n",
       "      <td>0.0</td>\n",
       "      <td>99086</td>\n",
       "      <td>3183.390015</td>\n",
       "      <td>17543.181907</td>\n",
       "      <td>2900.0</td>\n",
       "      <td>4490000</td>\n",
       "      <td>1</td>\n",
       "      <td>0.727554</td>\n",
       "      <td>0.179567</td>\n",
       "      <td>0.092879</td>\n",
       "      <td>6129.888889</td>\n",
       "      <td>0.000000</td>\n",
       "      <td>0.0</td>\n",
       "    </tr>\n",
       "  </tbody>\n",
       "</table>\n",
       "</div>"
      ],
      "text/plain": [
       "   bathrooms  bed_bath_dif  bed_bath_rt  bed_bath_sum  bed_room_rt  bedrooms  \\\n",
       "0        1.5           1.5          2.0           4.5     0.666667         3   \n",
       "1        1.0           1.0          2.0           3.0     0.666667         2   \n",
       "2        1.0          -1.0          0.0           1.0     0.000000         0   \n",
       "\n",
       "                        building_id  created_day  created_hour  created_month  \\\n",
       "0  53a5b119ba8f7b61d4e010512e0dfc85           24             7              6   \n",
       "1  c5c8a357cba207596b04d1afd1e4f130           12            12              6   \n",
       "2                                 0           14             1              4   \n",
       "\n",
       "   day_of_week  day_of_year  desc_wordcount      display_address  \\\n",
       "0            4          176              95  Metropolitan Avenue   \n",
       "1            6          164               9      Columbus Avenue   \n",
       "2            3          105              28          York Avenue   \n",
       "\n",
       "   distance_city  feature_num  \\\n",
       "0       0.063465            0   \n",
       "1       0.090830            5   \n",
       "2       0.087295            0   \n",
       "\n",
       "                                            features  img_sizes_mean  \\\n",
       "0                                                      272640.000000   \n",
       "1  feature_doorman feature_elev feature_fitness_c...   248158.454545   \n",
       "2                                                      307200.000000   \n",
       "\n",
       "   interest_level  latitude  listing_id  longitude  \\\n",
       "0               1   40.7145     7211212   -73.9425   \n",
       "1               0   40.7947     7150865   -73.9667   \n",
       "2               0   40.7769     6869199   -73.9467   \n",
       "\n",
       "                         manager_id  photo_num  price  price_bath_rt  \\\n",
       "0  5ba989232d0489da1b5f2c45f6688adc          5   3000         2000.0   \n",
       "1  7533621a882f71e25173b27e3139d83d         11   5465         5465.0   \n",
       "2  e32475a6134d6d18279946b7b20a0f12          1   1950         1950.0   \n",
       "\n",
       "   price_bed_rt  price_room_rt           street_address  time_stamp  \\\n",
       "0        1000.0     666.666667  792 Metropolitan Avenue  1478091590   \n",
       "1        2732.5    1821.666667      808 Columbus Avenue  1478129766   \n",
       "2          -1.0    1950.000000         1661 York Avenue  1478714534   \n",
       "\n",
       "   jwd_type_low_than_num  jwd_type_all  jwd_type_rt  building_zero_num  \\\n",
       "0                      3             8     0.375000                134   \n",
       "1                   1546          1563     0.989123                983   \n",
       "2                   1507          3345     0.450523               1803   \n",
       "\n",
       "   bathrooms_size_manager_id  bathrooms_mean_manager_id  \\\n",
       "0                        235                   1.106383   \n",
       "1                        194                   1.360825   \n",
       "2                         46                   1.478261   \n",
       "\n",
       "   bathrooms_std_manager_id  bathrooms_median_manager_id  \\\n",
       "0                  0.305508                          1.0   \n",
       "1                  0.544603                          1.0   \n",
       "2                  0.809365                          1.0   \n",
       "\n",
       "   bathrooms_max_manager_id  bathrooms_min_manager_id  \\\n",
       "0                       2.0                       1.0   \n",
       "1                       3.5                       0.0   \n",
       "2                       4.0                       1.0   \n",
       "\n",
       "   bedrooms_size_manager_id  bedrooms_mean_manager_id  \\\n",
       "0                       235                  1.502128   \n",
       "1                       194                  1.623711   \n",
       "2                        46                  1.347826   \n",
       "\n",
       "   bedrooms_std_manager_id  bedrooms_median_manager_id  \\\n",
       "0                 0.935412                         1.0   \n",
       "1                 0.831787                         1.0   \n",
       "2                 1.215043                         1.0   \n",
       "\n",
       "   bedrooms_max_manager_id  bedrooms_min_manager_id  latitude_size_manager_id  \\\n",
       "0                        4                        0                       235   \n",
       "1                        5                        0                       194   \n",
       "2                        5                        0                        46   \n",
       "\n",
       "   latitude_mean_manager_id  latitude_std_manager_id  \\\n",
       "0                 40.701596                 0.025991   \n",
       "1                 40.755336                 0.025488   \n",
       "2                 40.760400                 0.015775   \n",
       "\n",
       "   latitude_median_manager_id  latitude_max_manager_id  \\\n",
       "0                     40.6989                  40.8502   \n",
       "1                     40.7512                  40.8051   \n",
       "2                     40.7596                  40.7865   \n",
       "\n",
       "   latitude_min_manager_id  longitude_size_manager_id  \\\n",
       "0                  40.6455                        235   \n",
       "1                  40.7047                        194   \n",
       "2                  40.7243                         46   \n",
       "\n",
       "   longitude_mean_manager_id  longitude_std_manager_id  \\\n",
       "0                 -73.950168                  0.022847   \n",
       "1                 -73.985078                  0.015970   \n",
       "2                 -73.968461                  0.012727   \n",
       "\n",
       "   longitude_median_manager_id  longitude_max_manager_id  \\\n",
       "0                    -73.95320                  -73.8525   \n",
       "1                    -73.98715                  -73.9438   \n",
       "2                    -73.96750                  -73.9467   \n",
       "\n",
       "   longitude_min_manager_id  price_size_manager_id  price_mean_manager_id  \\\n",
       "0                  -73.9917                    235            2541.914894   \n",
       "1                  -74.0148                    194            5419.932990   \n",
       "2                  -74.0103                     46            6240.826087   \n",
       "\n",
       "   price_std_manager_id  price_median_manager_id  price_max_manager_id  \\\n",
       "0            524.703572                   2600.0                  4400   \n",
       "1           1905.188512                   4700.0                 12995   \n",
       "2           7464.901209                   3450.0                 45000   \n",
       "\n",
       "   price_min_manager_id  distance_city_size_manager_id  \\\n",
       "0                  1700                            235   \n",
       "1                  1995                            194   \n",
       "2                  1950                             46   \n",
       "\n",
       "   distance_city_mean_manager_id  distance_city_std_manager_id  \\\n",
       "0                       0.063195                      0.020893   \n",
       "1                       0.049146                      0.027100   \n",
       "2                       0.060923                      0.019246   \n",
       "\n",
       "   distance_city_median_manager_id  distance_city_max_manager_id  \\\n",
       "0                         0.062504                      0.155173   \n",
       "1                         0.039343                      0.101942   \n",
       "2                         0.062171                      0.088904   \n",
       "\n",
       "   distance_city_min_manager_id  price_size_bedrooms  price_mean_bedrooms  \\\n",
       "0                      0.021933                18149          5101.319246   \n",
       "1                      0.002745                37114          3988.552837   \n",
       "2                      0.012314                23564          2518.378925   \n",
       "\n",
       "   price_std_bedrooms  price_median_bedrooms  price_max_bedrooms  \\\n",
       "0         2997.884836                 4500.0               90000   \n",
       "1        25610.353074                 3350.0             4490000   \n",
       "2         3476.750266                 2400.0              469000   \n",
       "\n",
       "   price_min_bedrooms  bathrooms_size_bedrooms  bathrooms_mean_bedrooms  \\\n",
       "0                 500                    18149                 1.585404   \n",
       "1                   1                    37114                 1.247023   \n",
       "2                  43                    23564                 0.986717   \n",
       "\n",
       "   bathrooms_std_bedrooms  bathrooms_median_bedrooms  bathrooms_max_bedrooms  \\\n",
       "0                1.056916                        1.5                   112.0   \n",
       "1                0.458671                        1.0                    20.0   \n",
       "2                0.148746                        1.0                     4.0   \n",
       "\n",
       "   bathrooms_min_bedrooms  price_size_bathrooms  price_mean_bathrooms  \\\n",
       "0                     0.0                  1642           4220.228989   \n",
       "1                     0.0                 99086           3183.390015   \n",
       "2                     0.0                 99086           3183.390015   \n",
       "\n",
       "   price_std_bathrooms  price_median_bathrooms  price_max_bathrooms  \\\n",
       "0          1289.434792                  4122.5                12000   \n",
       "1         17543.181907                  2900.0              4490000   \n",
       "2         17543.181907                  2900.0              4490000   \n",
       "\n",
       "   price_min_bathrooms  manager_id_low  manager_id_medium  manager_id_high  \\\n",
       "0                 1600        0.727554           0.179567         0.092879   \n",
       "1                    1        0.727554           0.179567         0.092879   \n",
       "2                    1        0.727554           0.179567         0.092879   \n",
       "\n",
       "   price_manager_id_mean_pred_0  price_manager_id_mean_pred_1  \\\n",
       "0                   1834.666667                    701.866667   \n",
       "1                   5380.956522                     28.913043   \n",
       "2                   6129.888889                      0.000000   \n",
       "\n",
       "   price_manager_id_mean_pred_2  \n",
       "0                           0.0  \n",
       "1                           0.0  \n",
       "2                           0.0  "
      ]
     },
     "execution_count": 88,
     "metadata": {},
     "output_type": "execute_result"
    }
   ],
   "source": [
    "all_feat.head(3)"
   ]
  },
  {
   "cell_type": "code",
   "execution_count": 90,
   "metadata": {
    "collapsed": false
   },
   "outputs": [
    {
     "name": "stdout",
     "output_type": "stream",
     "text": [
      "<class 'pandas.core.frame.DataFrame'>\n",
      "Int64Index: 124011 entries, 0 to 124010\n",
      "Data columns (total 94 columns):\n",
      "bathrooms                          124011 non-null float64\n",
      "bed_bath_dif                       124011 non-null float64\n",
      "bed_bath_rt                        124011 non-null float64\n",
      "bed_bath_sum                       124011 non-null float64\n",
      "bed_room_rt                        124011 non-null float64\n",
      "bedrooms                           124011 non-null int64\n",
      "building_id                        124011 non-null object\n",
      "created_day                        124011 non-null int64\n",
      "created_hour                       124011 non-null int64\n",
      "created_month                      124011 non-null int64\n",
      "day_of_week                        124011 non-null int64\n",
      "day_of_year                        124011 non-null int64\n",
      "desc_wordcount                     124011 non-null int64\n",
      "display_address                    124011 non-null object\n",
      "distance_city                      124011 non-null float64\n",
      "feature_num                        124011 non-null int64\n",
      "features                           124011 non-null object\n",
      "img_sizes_mean                     124011 non-null float64\n",
      "interest_level                     124011 non-null int64\n",
      "latitude                           124011 non-null float64\n",
      "listing_id                         124011 non-null int64\n",
      "longitude                          124011 non-null float64\n",
      "manager_id                         124011 non-null object\n",
      "photo_num                          124011 non-null int64\n",
      "price                              124011 non-null int64\n",
      "price_bath_rt                      124011 non-null float64\n",
      "price_bed_rt                       124011 non-null float64\n",
      "price_room_rt                      124011 non-null float64\n",
      "street_address                     124011 non-null object\n",
      "time_stamp                         124011 non-null int64\n",
      "jwd_type_low_than_num              124011 non-null int64\n",
      "jwd_type_all                       124011 non-null int64\n",
      "jwd_type_rt                        124011 non-null float64\n",
      "building_zero_num                  124011 non-null int64\n",
      "bathrooms_size_manager_id          124011 non-null int64\n",
      "bathrooms_mean_manager_id          124011 non-null float64\n",
      "bathrooms_std_manager_id           124011 non-null float64\n",
      "bathrooms_median_manager_id        124011 non-null float64\n",
      "bathrooms_max_manager_id           124011 non-null float64\n",
      "bathrooms_min_manager_id           124011 non-null float64\n",
      "bedrooms_size_manager_id           124011 non-null int64\n",
      "bedrooms_mean_manager_id           124011 non-null float64\n",
      "bedrooms_std_manager_id            124011 non-null float64\n",
      "bedrooms_median_manager_id         124011 non-null float64\n",
      "bedrooms_max_manager_id            124011 non-null int64\n",
      "bedrooms_min_manager_id            124011 non-null int64\n",
      "latitude_size_manager_id           124011 non-null int64\n",
      "latitude_mean_manager_id           124011 non-null float64\n",
      "latitude_std_manager_id            124011 non-null float64\n",
      "latitude_median_manager_id         124011 non-null float64\n",
      "latitude_max_manager_id            124011 non-null float64\n",
      "latitude_min_manager_id            124011 non-null float64\n",
      "longitude_size_manager_id          124011 non-null int64\n",
      "longitude_mean_manager_id          124011 non-null float64\n",
      "longitude_std_manager_id           124011 non-null float64\n",
      "longitude_median_manager_id        124011 non-null float64\n",
      "longitude_max_manager_id           124011 non-null float64\n",
      "longitude_min_manager_id           124011 non-null float64\n",
      "price_size_manager_id              124011 non-null int64\n",
      "price_mean_manager_id              124011 non-null float64\n",
      "price_std_manager_id               124011 non-null float64\n",
      "price_median_manager_id            124011 non-null float64\n",
      "price_max_manager_id               124011 non-null int64\n",
      "price_min_manager_id               124011 non-null int64\n",
      "distance_city_size_manager_id      124011 non-null int64\n",
      "distance_city_mean_manager_id      124011 non-null float64\n",
      "distance_city_std_manager_id       124011 non-null float64\n",
      "distance_city_median_manager_id    124011 non-null float64\n",
      "distance_city_max_manager_id       124011 non-null float64\n",
      "distance_city_min_manager_id       124011 non-null float64\n",
      "price_size_bedrooms                124011 non-null int64\n",
      "price_mean_bedrooms                124011 non-null float64\n",
      "price_std_bedrooms                 124011 non-null float64\n",
      "price_median_bedrooms              124011 non-null float64\n",
      "price_max_bedrooms                 124011 non-null int64\n",
      "price_min_bedrooms                 124011 non-null int64\n",
      "bathrooms_size_bedrooms            124011 non-null int64\n",
      "bathrooms_mean_bedrooms            124011 non-null float64\n",
      "bathrooms_std_bedrooms             124011 non-null float64\n",
      "bathrooms_median_bedrooms          124011 non-null float64\n",
      "bathrooms_max_bedrooms             124011 non-null float64\n",
      "bathrooms_min_bedrooms             124011 non-null float64\n",
      "price_size_bathrooms               124011 non-null int64\n",
      "price_mean_bathrooms               124011 non-null float64\n",
      "price_std_bathrooms                124011 non-null float64\n",
      "price_median_bathrooms             124011 non-null float64\n",
      "price_max_bathrooms                124011 non-null int64\n",
      "price_min_bathrooms                124011 non-null int64\n",
      "manager_id_low                     124011 non-null float64\n",
      "manager_id_medium                  124011 non-null float64\n",
      "manager_id_high                    124011 non-null float64\n",
      "price_manager_id_mean_pred_0       124011 non-null float64\n",
      "price_manager_id_mean_pred_1       124011 non-null float64\n",
      "price_manager_id_mean_pred_2       124011 non-null float64\n",
      "dtypes: float64(56), int64(33), object(5)\n",
      "memory usage: 89.9+ MB\n"
     ]
    }
   ],
   "source": [
    "all_feat.info()"
   ]
  },
  {
   "cell_type": "code",
   "execution_count": 91,
   "metadata": {
    "collapsed": true
   },
   "outputs": [],
   "source": [
    "train = pd.read_json('../input/train.json')\n",
    "test = pd.read_json('../input/test.json')\n",
    "test['interest_level'] = [-1]*test.shape[0]\n",
    "all_raw = train.append(test)"
   ]
  },
  {
   "cell_type": "code",
   "execution_count": 114,
   "metadata": {
    "collapsed": false
   },
   "outputs": [
    {
     "data": {
      "text/plain": [
       "array([''], dtype=object)"
      ]
     },
     "execution_count": 114,
     "metadata": {},
     "output_type": "execute_result"
    }
   ],
   "source": [
    "all_raw.loc[all_raw.listing_id==7213381, 'description'].values"
   ]
  },
  {
   "cell_type": "code",
   "execution_count": 117,
   "metadata": {
    "collapsed": false
   },
   "outputs": [],
   "source": [
    "all_raw = all_raw.replace('', np.nan)"
   ]
  },
  {
   "cell_type": "code",
   "execution_count": 118,
   "metadata": {
    "collapsed": false
   },
   "outputs": [
    {
     "name": "stdout",
     "output_type": "stream",
     "text": [
      "<class 'pandas.core.frame.DataFrame'>\n",
      "Int64Index: 124011 entries, 10 to 99999\n",
      "Data columns (total 15 columns):\n",
      "bathrooms          124011 non-null float64\n",
      "bedrooms           124011 non-null int64\n",
      "building_id        124011 non-null object\n",
      "created            124011 non-null object\n",
      "description        120278 non-null object\n",
      "display_address    123661 non-null object\n",
      "features           124011 non-null object\n",
      "interest_level     124011 non-null object\n",
      "latitude           124011 non-null float64\n",
      "listing_id         124011 non-null int64\n",
      "longitude          124011 non-null float64\n",
      "manager_id         124011 non-null object\n",
      "photos             124011 non-null object\n",
      "price              124011 non-null int64\n",
      "street_address     123988 non-null object\n",
      "dtypes: float64(3), int64(3), object(9)\n",
      "memory usage: 15.1+ MB\n"
     ]
    }
   ],
   "source": [
    "all_raw.info()"
   ]
  },
  {
   "cell_type": "code",
   "execution_count": 95,
   "metadata": {
    "collapsed": true
   },
   "outputs": [],
   "source": [
    "csv_train = pd.read_csv('../input/train.csv')\n",
    "csv_test = pd.read_csv('../input/test.csv')\n",
    "csv_test['interest_level'] = [-1]*test.shape[0]\n",
    "all_csv = csv_train.append(csv_test)"
   ]
  },
  {
   "cell_type": "code",
   "execution_count": 119,
   "metadata": {
    "collapsed": false
   },
   "outputs": [
    {
     "name": "stdout",
     "output_type": "stream",
     "text": [
      "<class 'pandas.core.frame.DataFrame'>\n",
      "Int64Index: 124011 entries, 0 to 74658\n",
      "Data columns (total 16 columns):\n",
      "bathrooms          124011 non-null float64\n",
      "bedrooms           124011 non-null int64\n",
      "building_id        124011 non-null object\n",
      "created            124011 non-null object\n",
      "description        120278 non-null object\n",
      "display_address    123661 non-null object\n",
      "features           124011 non-null object\n",
      "id                 124011 non-null int64\n",
      "interest_level     124011 non-null object\n",
      "latitude           124011 non-null float64\n",
      "listing_id         124011 non-null int64\n",
      "longitude          124011 non-null float64\n",
      "manager_id         124011 non-null object\n",
      "photos             124011 non-null object\n",
      "price              124011 non-null int64\n",
      "street_address     123988 non-null object\n",
      "dtypes: float64(3), int64(4), object(9)\n",
      "memory usage: 16.1+ MB\n"
     ]
    }
   ],
   "source": [
    "all_csv.info()"
   ]
  },
  {
   "cell_type": "code",
   "execution_count": 125,
   "metadata": {
    "collapsed": true
   },
   "outputs": [],
   "source": [
    "feat_basic_csv = pd.read_csv('feat_input/basic_feat.csv')"
   ]
  },
  {
   "cell_type": "code",
   "execution_count": 126,
   "metadata": {
    "collapsed": false
   },
   "outputs": [],
   "source": [
    "import re\n",
    "feat_basic_csv.features = feat_basic_csv.features.apply(lambda x: re.findall(r\"[\\w'|\\ ]+\", x))"
   ]
  },
  {
   "cell_type": "code",
   "execution_count": 127,
   "metadata": {
    "collapsed": false
   },
   "outputs": [
    {
     "data": {
      "text/plain": [
       "0            [Pre, War,  Dishwasher,  Hardwood Floors]\n",
       "1    [Loft,  Laundry in Unit,  Hardwood Floors,  Do...\n",
       "2                     [Furnished,  Short Term Allowed]\n",
       "3                                                   []\n",
       "4    [Cats Allowed,  Dogs Allowed,  No Fee,  Reduce...\n",
       "Name: features, dtype: object"
      ]
     },
     "execution_count": 127,
     "metadata": {},
     "output_type": "execute_result"
    }
   ],
   "source": [
    "feat_basic_csv.features.head()"
   ]
  },
  {
   "cell_type": "code",
   "execution_count": 154,
   "metadata": {
    "collapsed": false
   },
   "outputs": [
    {
     "data": {
      "text/plain": [
       "0     0\n",
       "1     0\n",
       "2     0\n",
       "3     0\n",
       "4     0\n",
       "5     0\n",
       "6     0\n",
       "7     0\n",
       "8     0\n",
       "9     1\n",
       "10    0\n",
       "11    0\n",
       "12    0\n",
       "13    0\n",
       "14    0\n",
       "15    0\n",
       "16    0\n",
       "17    0\n",
       "18    0\n",
       "19    0\n",
       "Name: description, dtype: int64"
      ]
     },
     "execution_count": 154,
     "metadata": {},
     "output_type": "execute_result"
    }
   ],
   "source": [
    "all_csv.description.iloc[:20].apply(lambda x: x.count('quiet') if x is not np.nan else 0)"
   ]
  },
  {
   "cell_type": "code",
   "execution_count": 155,
   "metadata": {
    "collapsed": true
   },
   "outputs": [],
   "source": [
    "feat_basic_json = pd.read_json('feat_input/basic_feat.json')"
   ]
  },
  {
   "cell_type": "code",
   "execution_count": 156,
   "metadata": {
    "collapsed": false
   },
   "outputs": [
    {
     "data": {
      "text/plain": [
       "array(['bathrooms', 'bedrooms', 'building_id', 'display_address',\n",
       "       'features', 'interest_level', 'latitude', 'listing_id', 'longitude',\n",
       "       'manager_id', 'price', 'street_address', 'feature_num', 'photo_num',\n",
       "       'desc_wordcount', 'distance_city', 'day_of_year', 'created_month',\n",
       "       'created_day', 'created_hour', 'day_of_week', 'price_bed_rt',\n",
       "       'price_bath_rt', 'price_room_rt', 'bed_bath_rt', 'bed_bath_dif',\n",
       "       'bed_bath_sum', 'bed_room_rt', 'time_stamp', 'img_sizes_mean'], dtype=object)"
      ]
     },
     "execution_count": 156,
     "metadata": {},
     "output_type": "execute_result"
    }
   ],
   "source": [
    "feat_basic_csv.columns.values"
   ]
  },
  {
   "cell_type": "code",
   "execution_count": 157,
   "metadata": {
    "collapsed": false
   },
   "outputs": [
    {
     "data": {
      "text/plain": [
       "array(['bathrooms', 'bed_bath_dif', 'bed_bath_rt', 'bed_bath_sum',\n",
       "       'bed_room_rt', 'bedrooms', 'building_id', 'created_day',\n",
       "       'created_hour', 'created_month', 'day_of_week', 'day_of_year',\n",
       "       'desc_wordcount', 'display_address', 'distance_city', 'feature_num',\n",
       "       'features', 'img_sizes_mean', 'interest_level', 'latitude',\n",
       "       'listing_id', 'longitude', 'manager_id', 'photo_num', 'price',\n",
       "       'price_bath_rt', 'price_bed_rt', 'price_room_rt', 'street_address',\n",
       "       'time_stamp'], dtype=object)"
      ]
     },
     "execution_count": 157,
     "metadata": {},
     "output_type": "execute_result"
    }
   ],
   "source": [
    "feat_basic_json.columns.values"
   ]
  },
  {
   "cell_type": "code",
   "execution_count": 176,
   "metadata": {
    "collapsed": false
   },
   "outputs": [],
   "source": [
    "feat_basic_csv = feat_basic_csv.sort_values('listing_id', ascending=True).reset_index()\n",
    "feat_basic_json = feat_basic_json.sort_values('listing_id', ascending=True).reset_index()"
   ]
  },
  {
   "cell_type": "code",
   "execution_count": 177,
   "metadata": {
    "collapsed": false
   },
   "outputs": [
    {
     "data": {
      "text/plain": [
       "array(['index', 'bathrooms', 'bedrooms', 'building_id', 'display_address',\n",
       "       'features', 'interest_level', 'latitude', 'listing_id', 'longitude',\n",
       "       'manager_id', 'price', 'street_address', 'feature_num', 'photo_num',\n",
       "       'desc_wordcount', 'distance_city', 'day_of_year', 'created_month',\n",
       "       'created_day', 'created_hour', 'day_of_week', 'price_bed_rt',\n",
       "       'price_bath_rt', 'price_room_rt', 'bed_bath_rt', 'bed_bath_dif',\n",
       "       'bed_bath_sum', 'bed_room_rt', 'time_stamp', 'img_sizes_mean'], dtype=object)"
      ]
     },
     "execution_count": 177,
     "metadata": {},
     "output_type": "execute_result"
    }
   ],
   "source": [
    "feat_basic_csv.columns.values"
   ]
  },
  {
   "cell_type": "code",
   "execution_count": 178,
   "metadata": {
    "collapsed": false
   },
   "outputs": [
    {
     "data": {
      "text/plain": [
       "array(['index', 'bathrooms', 'bed_bath_dif', 'bed_bath_rt', 'bed_bath_sum',\n",
       "       'bed_room_rt', 'bedrooms', 'building_id', 'created_day',\n",
       "       'created_hour', 'created_month', 'day_of_week', 'day_of_year',\n",
       "       'desc_wordcount', 'display_address', 'distance_city', 'feature_num',\n",
       "       'features', 'img_sizes_mean', 'interest_level', 'latitude',\n",
       "       'listing_id', 'longitude', 'manager_id', 'photo_num', 'price',\n",
       "       'price_bath_rt', 'price_bed_rt', 'price_room_rt', 'street_address',\n",
       "       'time_stamp'], dtype=object)"
      ]
     },
     "execution_count": 178,
     "metadata": {},
     "output_type": "execute_result"
    }
   ],
   "source": [
    "feat_basic_json.columns.values"
   ]
  },
  {
   "cell_type": "code",
   "execution_count": 203,
   "metadata": {
    "collapsed": false
   },
   "outputs": [
    {
     "name": "stdout",
     "output_type": "stream",
     "text": [
      "bathrooms 0\n",
      "bedrooms 0\n",
      "building_id 0\n",
      "display_address 528\n",
      "interest_level 0\n",
      "latitude 0\n",
      "listing_id 0\n",
      "longitude 0\n",
      "manager_id 0\n",
      "price 0\n",
      "street_address 201\n",
      "feature_num 124011\n",
      "photo_num 124011\n",
      "desc_wordcount 0\n",
      "distance_city 0\n",
      "day_of_year 0\n",
      "created_month 0\n",
      "created_day 0\n",
      "created_hour 0\n",
      "day_of_week 0\n",
      "price_bed_rt 0\n",
      "price_bath_rt 0\n",
      "price_room_rt 0\n",
      "bed_bath_rt 0\n",
      "bed_bath_dif 0\n",
      "bed_bath_sum 0\n",
      "bed_room_rt 0\n",
      "time_stamp 0\n",
      "img_sizes_mean 0\n"
     ]
    }
   ],
   "source": [
    "for a in feat_basic_csv.columns.values:\n",
    "    if a not in ['index', 'features']:\n",
    "        if type(feat_basic_json[a][0]) == np.float64:\n",
    "            print(a, sum(abs(1 - feat_basic_csv[a] / feat_basic_json[a]) > 1e-4))\n",
    "        else:\n",
    "            print(a, sum(feat_basic_json[a] != feat_basic_csv[a]))"
   ]
  },
  {
   "cell_type": "code",
   "execution_count": 247,
   "metadata": {
    "collapsed": true
   },
   "outputs": [],
   "source": [
    "feat_basic_json.display_address = feat_basic_json.display_address.replace(r'\\r$', '', regex=True)\n",
    "feat_basic_json.street_address = feat_basic_json.street_address.replace(r'\\r$', '', regex=True)\n",
    "feat_basic_json.display_address = feat_basic_json.display_address.replace('', np.nan)\n",
    "feat_basic_json.street_address = feat_basic_json.street_address.replace('', np.nan)"
   ]
  },
  {
   "cell_type": "code",
   "execution_count": 248,
   "metadata": {
    "collapsed": false
   },
   "outputs": [
    {
     "name": "stdout",
     "output_type": "stream",
     "text": [
      "bathrooms 0\n",
      "bedrooms 0\n",
      "building_id 0\n",
      "display_address 350\n",
      "interest_level 0\n",
      "latitude 0\n",
      "listing_id 0\n",
      "longitude 0\n",
      "manager_id 0\n",
      "price 0\n",
      "street_address 23\n",
      "feature_num 124011\n",
      "photo_num 124011\n",
      "desc_wordcount 0\n",
      "distance_city 0\n",
      "day_of_year 0\n",
      "created_month 0\n",
      "created_day 0\n",
      "created_hour 0\n",
      "day_of_week 0\n",
      "price_bed_rt 0\n",
      "price_bath_rt 0\n",
      "price_room_rt 0\n",
      "bed_bath_rt 0\n",
      "bed_bath_dif 0\n",
      "bed_bath_sum 0\n",
      "bed_room_rt 0\n",
      "time_stamp 0\n",
      "img_sizes_mean 0\n"
     ]
    }
   ],
   "source": [
    "for a in feat_basic_csv.columns.values:\n",
    "    if a not in ['index', 'features']:\n",
    "        if type(feat_basic_json[a][0]) == np.float64:\n",
    "            print(a, sum(abs(1 - feat_basic_csv[a] / feat_basic_json[a]) > 1e-4))\n",
    "        else:\n",
    "            print(a, sum(feat_basic_json[a] != feat_basic_csv[a]))"
   ]
  },
  {
   "cell_type": "code",
   "execution_count": 258,
   "metadata": {
    "collapsed": false
   },
   "outputs": [
    {
     "data": {
      "text/plain": [
       "(23, 1)"
      ]
     },
     "execution_count": 258,
     "metadata": {},
     "output_type": "execute_result"
    }
   ],
   "source": [
    "feat_basic_csv[['street_address']].loc[feat_basic_csv.street_address != feat_basic_json.street_address].shape"
   ]
  },
  {
   "cell_type": "code",
   "execution_count": 252,
   "metadata": {
    "collapsed": false
   },
   "outputs": [
    {
     "data": {
      "text/plain": [
       "(23, 1)"
      ]
     },
     "execution_count": 252,
     "metadata": {},
     "output_type": "execute_result"
    }
   ],
   "source": [
    "feat_basic_json[['street_address']].loc[feat_basic_csv.street_address != feat_basic_json.street_address].shape"
   ]
  },
  {
   "cell_type": "code",
   "execution_count": 254,
   "metadata": {
    "collapsed": false
   },
   "outputs": [
    {
     "data": {
      "text/plain": [
       "(350, 1)"
      ]
     },
     "execution_count": 254,
     "metadata": {},
     "output_type": "execute_result"
    }
   ],
   "source": [
    "feat_basic_csv[['display_address']].loc[feat_basic_csv.display_address != feat_basic_json.display_address].shape"
   ]
  },
  {
   "cell_type": "code",
   "execution_count": 255,
   "metadata": {
    "collapsed": false
   },
   "outputs": [
    {
     "data": {
      "text/plain": [
       "(350, 1)"
      ]
     },
     "execution_count": 255,
     "metadata": {},
     "output_type": "execute_result"
    }
   ],
   "source": [
    "feat_basic_json[['display_address']].loc[feat_basic_csv.display_address != feat_basic_json.display_address].shape"
   ]
  },
  {
   "cell_type": "code",
   "execution_count": 256,
   "metadata": {
    "collapsed": false
   },
   "outputs": [
    {
     "data": {
      "text/plain": [
       "False"
      ]
     },
     "execution_count": 256,
     "metadata": {},
     "output_type": "execute_result"
    }
   ],
   "source": [
    "np.nan == np.nan"
   ]
  },
  {
   "cell_type": "code",
   "execution_count": null,
   "metadata": {
    "collapsed": true
   },
   "outputs": [],
   "source": []
  }
 ],
 "metadata": {
  "kernelspec": {
   "display_name": "Python 3",
   "language": "python",
   "name": "python3"
  },
  "language_info": {
   "codemirror_mode": {
    "name": "ipython",
    "version": 3
   },
   "file_extension": ".py",
   "mimetype": "text/x-python",
   "name": "python",
   "nbconvert_exporter": "python",
   "pygments_lexer": "ipython3",
   "version": "3.6.0"
  }
 },
 "nbformat": 4,
 "nbformat_minor": 2
}
