{
 "cells": [
  {
   "cell_type": "code",
   "execution_count": 1,
   "metadata": {
    "collapsed": true
   },
   "outputs": [],
   "source": [
    "import numpy as np\n",
    "import pandas as pd"
   ]
  },
  {
   "cell_type": "code",
   "execution_count": 2,
   "metadata": {
    "collapsed": true
   },
   "outputs": [],
   "source": [
    "longtime_feat = pd.read_csv('feat_input/longtime_feat.csv')\n",
    "encoded_feat = pd.read_csv('feat_input/feat_stats_encoding.csv')"
   ]
  },
  {
   "cell_type": "code",
   "execution_count": 3,
   "metadata": {
    "collapsed": true
   },
   "outputs": [],
   "source": [
    "feat_basic_csv = pd.read_csv('feat_input/basic_feat.csv')"
   ]
  },
  {
   "cell_type": "code",
   "execution_count": 4,
   "metadata": {
    "collapsed": true
   },
   "outputs": [],
   "source": [
    "feat_csv = feat_basic_csv.merge(longtime_feat, on='listing_id')\n",
    "feat_csv = feat_csv.merge(encoded_feat, on='listing_id')"
   ]
  },
  {
   "cell_type": "code",
   "execution_count": 5,
   "metadata": {
    "collapsed": true
   },
   "outputs": [],
   "source": [
    "#feat_csv = feat_csv.sort_values('listing_id', ascending=True).reset_index()"
   ]
  },
  {
   "cell_type": "code",
   "execution_count": 6,
   "metadata": {
    "collapsed": true
   },
   "outputs": [],
   "source": [
    "import xgboost as xgb\n",
    "def xgb_cv(dtrain, num_rounds = 50000, early_stop_rounds=250):\n",
    "    print('Start xgboost cross-validation')\n",
    "    params = {'booster': 'gbtree',\n",
    "              'objective': 'multi:softprob',\n",
    "              'eval_metric': 'mlogloss',\n",
    "              'gamma': 1,\n",
    "              'min_child_weight': 1.5,\n",
    "              'max_depth': 5,\n",
    "              'lambda': 10,\n",
    "              'subsample': 0.7,\n",
    "              'colsample_bytree': 0.7,\n",
    "              'colsample_bylevel': 0.7,\n",
    "              'eta': 0.03,\n",
    "              'tree_method': 'exact',\n",
    "              'seed': 36683,\n",
    "              'nthread': 4,\n",
    "              'num_class': 3,\n",
    "              'silent': 1\n",
    "              }\n",
    "    xgb2cv = xgb.cv(params=params,\n",
    "                    dtrain=dtrain,\n",
    "                    num_boost_round=num_rounds,\n",
    "                    nfold=5,\n",
    "                    stratified=True,\n",
    "                    verbose_eval=50,\n",
    "                    early_stopping_rounds=early_stop_rounds)\n",
    "    return xgb2cv"
   ]
  },
  {
   "cell_type": "code",
   "execution_count": 7,
   "metadata": {
    "collapsed": true
   },
   "outputs": [],
   "source": [
    "from sklearn.preprocessing import LabelEncoder\n",
    "categorical = [\"display_address\", \"manager_id\", \"building_id\", \"street_address\"]\n",
    "for f in categorical:\n",
    "    if feat_csv[f].dtype == 'object':\n",
    "        lbl = LabelEncoder()\n",
    "        lbl.fit(list(feat_csv[f].values))\n",
    "        feat_csv[f] = lbl.transform(list(feat_csv[f].values))"
   ]
  },
  {
   "cell_type": "code",
   "execution_count": 8,
   "metadata": {
    "collapsed": true
   },
   "outputs": [],
   "source": [
    "feat_csv.drop(['features'], axis=1, inplace=True)"
   ]
  },
  {
   "cell_type": "code",
   "execution_count": 9,
   "metadata": {
    "collapsed": false
   },
   "outputs": [
    {
     "data": {
      "text/plain": [
       "array(['bathrooms', 'bedrooms', 'building_id', 'display_address',\n",
       "       'latitude', 'listing_id', 'longitude', 'manager_id', 'price',\n",
       "       'street_address', 'feature_num', 'photo_num', 'desc_wordcount',\n",
       "       'distance_city', 'day_of_year', 'created_month', 'created_day',\n",
       "       'created_hour', 'day_of_week', 'price_bed_rt', 'price_bath_rt',\n",
       "       'price_room_rt', 'bed_bath_rt', 'bed_bath_dif', 'bed_bath_sum',\n",
       "       'bed_room_rt', 'time_stamp', 'img_sizes_mean',\n",
       "       'jwd_type_low_than_num', 'jwd_type_all', 'jwd_type_rt',\n",
       "       'building_zero_num', 'bathrooms_size_manager_id',\n",
       "       'bathrooms_mean_manager_id', 'bathrooms_std_manager_id',\n",
       "       'bathrooms_median_manager_id', 'bathrooms_max_manager_id',\n",
       "       'bathrooms_min_manager_id', 'bedrooms_size_manager_id',\n",
       "       'bedrooms_mean_manager_id', 'bedrooms_std_manager_id',\n",
       "       'bedrooms_median_manager_id', 'bedrooms_max_manager_id',\n",
       "       'bedrooms_min_manager_id', 'latitude_size_manager_id',\n",
       "       'latitude_mean_manager_id', 'latitude_std_manager_id',\n",
       "       'latitude_median_manager_id', 'latitude_max_manager_id',\n",
       "       'latitude_min_manager_id', 'longitude_size_manager_id',\n",
       "       'longitude_mean_manager_id', 'longitude_std_manager_id',\n",
       "       'longitude_median_manager_id', 'longitude_max_manager_id',\n",
       "       'longitude_min_manager_id', 'price_size_manager_id',\n",
       "       'price_mean_manager_id', 'price_std_manager_id',\n",
       "       'price_median_manager_id', 'price_max_manager_id',\n",
       "       'price_min_manager_id', 'distance_city_size_manager_id',\n",
       "       'distance_city_mean_manager_id', 'distance_city_std_manager_id',\n",
       "       'distance_city_median_manager_id', 'distance_city_max_manager_id',\n",
       "       'distance_city_min_manager_id', 'price_size_bedrooms',\n",
       "       'price_mean_bedrooms', 'price_std_bedrooms',\n",
       "       'price_median_bedrooms', 'price_max_bedrooms', 'price_min_bedrooms',\n",
       "       'bathrooms_size_bedrooms', 'bathrooms_mean_bedrooms',\n",
       "       'bathrooms_std_bedrooms', 'bathrooms_median_bedrooms',\n",
       "       'bathrooms_max_bedrooms', 'bathrooms_min_bedrooms',\n",
       "       'price_size_bathrooms', 'price_mean_bathrooms',\n",
       "       'price_std_bathrooms', 'price_median_bathrooms',\n",
       "       'price_max_bathrooms', 'price_min_bathrooms', 'manager_id_low',\n",
       "       'manager_id_medium', 'manager_id_high',\n",
       "       'price_manager_id_mean_pred_0', 'price_manager_id_mean_pred_1',\n",
       "       'price_manager_id_mean_pred_2'], dtype=object)"
      ]
     },
     "execution_count": 9,
     "metadata": {},
     "output_type": "execute_result"
    }
   ],
   "source": [
    "train_csv = feat_csv[feat_csv.interest_level != -1].copy()\n",
    "test_csv = feat_csv[feat_csv.interest_level == -1].copy()\n",
    "y_train_csv=train_csv[\"interest_level\"]\n",
    "x_train_csv = train_csv.drop(['interest_level'], axis=1)\n",
    "x_train_csv.columns.values"
   ]
  },
  {
   "cell_type": "code",
   "execution_count": null,
   "metadata": {
    "collapsed": false
   },
   "outputs": [
    {
     "name": "stdout",
     "output_type": "stream",
     "text": [
      "Start xgboost cross-validation\n",
      "[0]\ttrain-mlogloss:1.0785+3.18584e-05\ttest-mlogloss:1.07876+6.53024e-05\n",
      "[50]\ttrain-mlogloss:0.660557+0.000810693\ttest-mlogloss:0.670132+0.0014998\n",
      "[100]\ttrain-mlogloss:0.571757+0.000768113\ttest-mlogloss:0.588446+0.00239705\n",
      "[150]\ttrain-mlogloss:0.538888+0.000720602\ttest-mlogloss:0.56199+0.00230571\n",
      "[200]\ttrain-mlogloss:0.519995+0.000498575\ttest-mlogloss:0.549604+0.00220778\n"
     ]
    }
   ],
   "source": [
    "dtrain = xgb.DMatrix(x_train_csv, label=y_train_csv)\n",
    "_ = xgb_cv(dtrain)"
   ]
  },
  {
   "cell_type": "code",
   "execution_count": null,
   "metadata": {
    "collapsed": true
   },
   "outputs": [],
   "source": []
  }
 ],
 "metadata": {
  "kernelspec": {
   "display_name": "Python 3",
   "language": "python",
   "name": "python3"
  },
  "language_info": {
   "codemirror_mode": {
    "name": "ipython",
    "version": 3
   },
   "file_extension": ".py",
   "mimetype": "text/x-python",
   "name": "python",
   "nbconvert_exporter": "python",
   "pygments_lexer": "ipython3",
   "version": "3.6.0"
  }
 },
 "nbformat": 4,
 "nbformat_minor": 2
}
