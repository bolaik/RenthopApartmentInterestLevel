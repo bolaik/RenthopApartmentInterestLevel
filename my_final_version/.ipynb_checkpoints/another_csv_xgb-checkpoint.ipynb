{
 "cells": [
  {
   "cell_type": "code",
   "execution_count": 9,
   "metadata": {
    "collapsed": true
   },
   "outputs": [],
   "source": [
    "import numpy as np\n",
    "import pandas as pd\n",
    "from scipy import sparse\n",
    "from sklearn.model_selection import StratifiedKFold, KFold\n",
    "from sklearn import preprocessing\n",
    "from sklearn.feature_extraction.text import CountVectorizer\n",
    "import xgboost as xgb\n",
    "from sklearn.externals import joblib\n",
    "import re\n",
    "from nltk.stem.snowball import SnowballStemmer"
   ]
  },
  {
   "cell_type": "code",
   "execution_count": 10,
   "metadata": {
    "collapsed": true
   },
   "outputs": [],
   "source": [
    "def xgb_data_prep():\n",
    "    basic_feat = pd.read_csv('feat_input/basic_feat.csv')\n",
    "    longtime_feat = pd.read_csv('feat_input/longtime_feat.csv')\n",
    "    encoded_feat = pd.read_csv('feat_input/feat_stats_encoding.csv')\n",
    "    print('Loading features finished')\n",
    "\n",
    "    # apply ordinal encoding to categorical feature\n",
    "\n",
    "    categorical = [\"display_address\", \"manager_id\", \"building_id\", \"street_address\"]\n",
    "    for f in categorical:\n",
    "        if basic_feat[f].dtype == 'object':\n",
    "            lbl = preprocessing.LabelEncoder()\n",
    "            lbl.fit(list(basic_feat[f].values))\n",
    "            basic_feat[f] = lbl.transform(list(basic_feat[f].values))\n",
    "    print('Ordinal encoding finished')\n",
    "\n",
    "    all_feat = basic_feat.merge(longtime_feat, on='listing_id')\n",
    "    all_feat = all_feat.merge(encoded_feat, on='listing_id')\n",
    "\n",
    "    train = all_feat[all_feat.interest_level != -1].copy()\n",
    "    test = all_feat[all_feat.interest_level == -1].copy()\n",
    "    y_train=train[\"interest_level\"]\n",
    "    \n",
    "    train_num=train.shape[0]\n",
    "    stemmer = SnowballStemmer('english')\n",
    "\n",
    "    all_feat['features'] = all_feat['features'].apply(lambda x: re.findall(r\"[\\w'|\\w\\-|\\ ]+\", x))\n",
    "    all_feat['features'] = all_feat['features'].apply(lambda x: [stemmer.stem(y) for y in x])\n",
    "    all_feat['features'] = all_feat['features'].apply(lambda x: ['_'.join(['feature'] + y.split()) for y in x])\n",
    "    all_feat['features'] = all_feat['features'].apply(lambda x: ' '.join(x))\n",
    "    dtm = CountVectorizer(stop_words='english', max_features=100, token_pattern=r\"[\\w\\-|\\w']+\")\n",
    "\n",
    "    all_sparse = dtm.fit_transform(all_feat[\"features\"].values.astype('U'))\n",
    "    print(dtm.get_feature_names())\n",
    "\n",
    "    tr_sparse = all_sparse[:train_num]\n",
    "    te_sparse = all_sparse[train_num:]\n",
    "    print(\"Document-term matrix finished\")\n",
    "\n",
    "    x_train = train.drop([\"interest_level\",\"features\"],axis=1)\n",
    "    x_test = test.drop([\"interest_level\",\"features\"],axis=1)\n",
    "\n",
    "    x_train = sparse.hstack([x_train.astype(float),tr_sparse.astype(float)]).tocsr()\n",
    "    x_test = sparse.hstack([x_test.astype(float),te_sparse.astype(float)]).tocsr()\n",
    "\n",
    "    return x_train, y_train, x_test, test.listing_id"
   ]
  },
  {
   "cell_type": "code",
   "execution_count": 11,
   "metadata": {
    "collapsed": true
   },
   "outputs": [],
   "source": [
    "def xgb_cv(dtrain, num_rounds = 50000, early_stop_rounds=250):\n",
    "    print('Start xgboost cross-validation')\n",
    "    params = {'booster': 'gbtree',\n",
    "              'objective': 'multi:softprob',\n",
    "              'eval_metric': 'mlogloss',\n",
    "              'gamma': 1,\n",
    "              'min_child_weight': 1.5,\n",
    "              'max_depth': 5,\n",
    "              'lambda': 10,\n",
    "              'subsample': 0.7,\n",
    "              'colsample_bytree': 0.7,\n",
    "              'colsample_bylevel': 0.7,\n",
    "              'eta': 0.03,\n",
    "              'tree_method': 'exact',\n",
    "              'seed': 36683,\n",
    "              'nthread': 4,\n",
    "              'num_class': 3,\n",
    "              'silent': 1\n",
    "              }\n",
    "    xgb2cv = xgb.cv(params=params,\n",
    "                    dtrain=dtrain,\n",
    "                    num_boost_round=num_rounds,\n",
    "                    nfold=5,\n",
    "                    stratified=True,\n",
    "                    verbose_eval=50,\n",
    "                    early_stopping_rounds=early_stop_rounds)\n",
    "    return xgb2cv"
   ]
  },
  {
   "cell_type": "code",
   "execution_count": 12,
   "metadata": {
    "collapsed": false
   },
   "outputs": [
    {
     "name": "stdout",
     "output_type": "stream",
     "text": [
      "Loading features finished\n",
      "Ordinal encoding finished\n",
      "['feature', 'feature_actual_apt', 'feature_balconi', 'feature_bike_room', 'feature_building-common-outdoor-spac', 'feature_c', 'feature_cats_allow', 'feature_central_a', \"feature_children's_playroom\", 'feature_childrens_playroom', 'feature_common_outdoor_spac', 'feature_common_park', 'feature_common_roof_deck', 'feature_concierg', 'feature_courtyard', 'feature_dining_room', 'feature_dishwash', 'feature_dogs_allow', 'feature_doorman', 'feature_dryer', 'feature_dryer_in_unit', 'feature_duplex', 'feature_eat_in_kitchen', 'feature_elev', 'feature_exclus', 'feature_exposed_brick', 'feature_fireplac', 'feature_fit', 'feature_fitness_cent', 'feature_full-time_doorman', 'feature_furnish', 'feature_garag', 'feature_garden', 'feature_granite_kitchen', 'feature_green_build', 'feature_gym', 'feature_hardwood', 'feature_hardwood_floor', 'feature_high_ceil', 'feature_high_speed_internet', 'feature_highris', 'feature_indoor_pool', 'feature_laundri', 'feature_laundry_in_build', 'feature_laundry_in_unit', 'feature_laundry_room', 'feature_light', 'feature_live', 'feature_live-in_sup', 'feature_live-in_superintend', 'feature_live_in_sup', 'feature_loft', 'feature_loung', 'feature_lowris', 'feature_luxury_build', 'feature_marble_bath', 'feature_microwav', 'feature_multi-level', 'feature_new_construct', 'feature_newly_renov', 'feature_no_fe', 'feature_no_pet', 'feature_on-site_garag', 'feature_on-site_laundri', 'feature_outdoor_area', 'feature_outdoor_spac', 'feature_park', 'feature_parking_spac', 'feature_patio', 'feature_pets_on_approv', 'feature_photo', 'feature_pool', 'feature_pre-war', 'feature_prewar', 'feature_private_outdoor_spac', 'feature_publicoutdoor', 'feature_reduced_fe', 'feature_renov', 'feature_residents_garden', 'feature_residents_loung', 'feature_roof-deck', 'feature_roof_deck', 'feature_roofdeck', 'feature_s', 'feature_short_term_allow', 'feature_simplex', 'feature_stainless_steel_appli', 'feature_storag', 'feature_subway', 'feature_swimming_pool', 'feature_terrac', 'feature_valet', 'feature_view', 'feature_virtual_doorman', 'feature_walk_in_closet', 'feature_washer', 'feature_washer_in_unit', 'feature_wheelchair_access', 'feature_wifi_access', 'feature_work']\n",
      "Document-term matrix finished\n",
      "Start xgboost cross-validation\n",
      "[0]\ttrain-mlogloss:1.07865+7.36353e-05\ttest-mlogloss:1.0789+8.15828e-05\n",
      "[50]\ttrain-mlogloss:0.659198+0.000652729\ttest-mlogloss:0.66861+0.00184774\n",
      "[100]\ttrain-mlogloss:0.568639+0.000523209\ttest-mlogloss:0.585201+0.00286926\n",
      "[150]\ttrain-mlogloss:0.534146+0.000503791\ttest-mlogloss:0.557349+0.00264784\n",
      "[200]\ttrain-mlogloss:0.513982+0.000565524\ttest-mlogloss:0.543483+0.0022971\n",
      "[250]\ttrain-mlogloss:0.499216+0.000710798\ttest-mlogloss:0.535106+0.00207198\n",
      "[300]\ttrain-mlogloss:0.487299+0.000674444\ttest-mlogloss:0.52931+0.00193823\n",
      "[350]\ttrain-mlogloss:0.477025+0.000796387\ttest-mlogloss:0.52518+0.00194502\n",
      "[400]\ttrain-mlogloss:0.467608+0.000744665\ttest-mlogloss:0.521838+0.00185063\n",
      "[450]\ttrain-mlogloss:0.459023+0.000706438\ttest-mlogloss:0.519364+0.00178013\n",
      "[500]\ttrain-mlogloss:0.451253+0.000703164\ttest-mlogloss:0.517317+0.00169048\n",
      "[550]\ttrain-mlogloss:0.443783+0.000699285\ttest-mlogloss:0.515528+0.00160338\n",
      "[600]\ttrain-mlogloss:0.436766+0.00064029\ttest-mlogloss:0.514026+0.0016745\n",
      "[650]\ttrain-mlogloss:0.429921+0.000740033\ttest-mlogloss:0.51276+0.00172035\n",
      "[700]\ttrain-mlogloss:0.423453+0.000612795\ttest-mlogloss:0.511651+0.00162423\n",
      "[750]\ttrain-mlogloss:0.41728+0.000671737\ttest-mlogloss:0.510768+0.00168715\n",
      "[800]\ttrain-mlogloss:0.411398+0.000647693\ttest-mlogloss:0.510048+0.00174897\n",
      "[850]\ttrain-mlogloss:0.405587+0.000569599\ttest-mlogloss:0.509295+0.00172934\n",
      "[900]\ttrain-mlogloss:0.399948+0.000508018\ttest-mlogloss:0.508648+0.00164404\n",
      "[950]\ttrain-mlogloss:0.394565+0.000641186\ttest-mlogloss:0.508211+0.00161005\n",
      "[1000]\ttrain-mlogloss:0.389298+0.000668052\ttest-mlogloss:0.507718+0.00165289\n",
      "[1050]\ttrain-mlogloss:0.384228+0.000604283\ttest-mlogloss:0.507373+0.00166721\n",
      "[1100]\ttrain-mlogloss:0.379206+0.000653688\ttest-mlogloss:0.507125+0.00156437\n",
      "[1150]\ttrain-mlogloss:0.37439+0.000692041\ttest-mlogloss:0.506855+0.00161154\n",
      "[1200]\ttrain-mlogloss:0.36976+0.000709803\ttest-mlogloss:0.506629+0.00162368\n",
      "[1250]\ttrain-mlogloss:0.365122+0.00060252\ttest-mlogloss:0.506378+0.00162486\n",
      "[1300]\ttrain-mlogloss:0.360606+0.000664066\ttest-mlogloss:0.50619+0.00162765\n",
      "[1350]\ttrain-mlogloss:0.356165+0.000603262\ttest-mlogloss:0.506081+0.00162071\n",
      "[1400]\ttrain-mlogloss:0.351741+0.000583069\ttest-mlogloss:0.506018+0.00159541\n",
      "[1450]\ttrain-mlogloss:0.347551+0.000637533\ttest-mlogloss:0.505964+0.00160709\n",
      "[1500]\ttrain-mlogloss:0.343442+0.00064887\ttest-mlogloss:0.505966+0.00164434\n",
      "[1550]\ttrain-mlogloss:0.339383+0.000661959\ttest-mlogloss:0.505949+0.00171261\n",
      "[1600]\ttrain-mlogloss:0.335497+0.000772147\ttest-mlogloss:0.50598+0.00174325\n",
      "[1650]\ttrain-mlogloss:0.331675+0.000717584\ttest-mlogloss:0.506121+0.00176685\n",
      "[1700]\ttrain-mlogloss:0.327854+0.000650391\ttest-mlogloss:0.506202+0.00186409\n",
      "[1750]\ttrain-mlogloss:0.324134+0.000598804\ttest-mlogloss:0.506319+0.00196907\n"
     ]
    }
   ],
   "source": [
    "X_train, y_train, X_test, listing_id = xgb_data_prep()\n",
    "dtrain = xgb.DMatrix(X_train, label=y_train)\n",
    "dtest = xgb.DMatrix(X_test)\n",
    "\n",
    "# cross-validation and training\n",
    "xgb_cv_hist = xgb_cv(dtrain)"
   ]
  },
  {
   "cell_type": "code",
   "execution_count": null,
   "metadata": {
    "collapsed": true
   },
   "outputs": [],
   "source": []
  }
 ],
 "metadata": {
  "kernelspec": {
   "display_name": "Python 3",
   "language": "python",
   "name": "python3"
  },
  "language_info": {
   "codemirror_mode": {
    "name": "ipython",
    "version": 3
   },
   "file_extension": ".py",
   "mimetype": "text/x-python",
   "name": "python",
   "nbconvert_exporter": "python",
   "pygments_lexer": "ipython3",
   "version": "3.6.0"
  }
 },
 "nbformat": 4,
 "nbformat_minor": 2
}
